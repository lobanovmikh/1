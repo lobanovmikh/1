{
 "cells": [
  {
   "cell_type": "code",
   "execution_count": 103,
   "metadata": {},
   "outputs": [],
   "source": [
    "# Импорт библиотек\n",
    "import pandas as pd\n",
    "import numpy as np\n",
    "import random\n",
    "import plotly.express as px\n",
    "import matplotlib.pyplot as plt\n",
    "import seaborn as sns\n",
    "import scipy.stats as st\n",
    "import scipy as sp\n",
    "pd.options.mode.chained_assignment = None  # default='warn\n",
    "%matplotlib inline\n"
   ]
  },
  {
   "cell_type": "markdown",
   "metadata": {},
   "source": [
    "**Важно определить, какие технические показатели качества связи сильнее всего влияют на удовлетворённость клиентов, и в первую очередь направить ресурсы на работу с ними.**"
   ]
  },
  {
   "cell_type": "code",
   "execution_count": 104,
   "metadata": {},
   "outputs": [],
   "source": [
    "data = pd.read_csv('megafon.csv')  # Загрузка данных\n"
   ]
  },
  {
   "cell_type": "code",
   "execution_count": 105,
   "metadata": {},
   "outputs": [
    {
     "data": {
      "text/html": [
       "<div>\n",
       "<style scoped>\n",
       "    .dataframe tbody tr th:only-of-type {\n",
       "        vertical-align: middle;\n",
       "    }\n",
       "\n",
       "    .dataframe tbody tr th {\n",
       "        vertical-align: top;\n",
       "    }\n",
       "\n",
       "    .dataframe thead th {\n",
       "        text-align: right;\n",
       "    }\n",
       "</style>\n",
       "<table border=\"1\" class=\"dataframe\">\n",
       "  <thead>\n",
       "    <tr style=\"text-align: right;\">\n",
       "      <th></th>\n",
       "      <th>user_id</th>\n",
       "      <th>Q1</th>\n",
       "      <th>Q2</th>\n",
       "      <th>Total Traffic(MB)</th>\n",
       "      <th>Downlink Throughput(Kbps)</th>\n",
       "      <th>Uplink Throughput(Kbps)</th>\n",
       "      <th>Downlink TCP Retransmission Rate(%)</th>\n",
       "      <th>Video Streaming Download Throughput(Kbps)</th>\n",
       "      <th>Video Streaming xKB Start Delay(ms)</th>\n",
       "      <th>Web Page Download Throughput(Kbps)</th>\n",
       "      <th>Web Average TCP RTT(ms)</th>\n",
       "    </tr>\n",
       "  </thead>\n",
       "  <tbody>\n",
       "    <tr>\n",
       "      <th>0</th>\n",
       "      <td>1</td>\n",
       "      <td>5</td>\n",
       "      <td>NaN</td>\n",
       "      <td>775.48846</td>\n",
       "      <td>360.13</td>\n",
       "      <td>86.56</td>\n",
       "      <td>3.93</td>\n",
       "      <td>1859.15</td>\n",
       "      <td>2309</td>\n",
       "      <td>1007.82</td>\n",
       "      <td>83</td>\n",
       "    </tr>\n",
       "    <tr>\n",
       "      <th>1</th>\n",
       "      <td>2</td>\n",
       "      <td>5</td>\n",
       "      <td>4</td>\n",
       "      <td>861.96324</td>\n",
       "      <td>3023.54</td>\n",
       "      <td>411.18</td>\n",
       "      <td>1.27</td>\n",
       "      <td>667.47</td>\n",
       "      <td>2080</td>\n",
       "      <td>255.36</td>\n",
       "      <td>425</td>\n",
       "    </tr>\n",
       "    <tr>\n",
       "      <th>2</th>\n",
       "      <td>3</td>\n",
       "      <td>1</td>\n",
       "      <td>4</td>\n",
       "      <td>261.11860</td>\n",
       "      <td>790.96</td>\n",
       "      <td>34.20</td>\n",
       "      <td>1.79</td>\n",
       "      <td>1079.60</td>\n",
       "      <td>6367</td>\n",
       "      <td>535.85</td>\n",
       "      <td>485</td>\n",
       "    </tr>\n",
       "  </tbody>\n",
       "</table>\n",
       "</div>"
      ],
      "text/plain": [
       "   user_id Q1   Q2  Total Traffic(MB)  Downlink Throughput(Kbps)  \\\n",
       "0        1  5  NaN          775.48846                     360.13   \n",
       "1        2  5    4          861.96324                    3023.54   \n",
       "2        3  1    4          261.11860                     790.96   \n",
       "\n",
       "   Uplink Throughput(Kbps)  Downlink TCP Retransmission Rate(%)  \\\n",
       "0                    86.56                                 3.93   \n",
       "1                   411.18                                 1.27   \n",
       "2                    34.20                                 1.79   \n",
       "\n",
       "   Video Streaming Download Throughput(Kbps)  \\\n",
       "0                                    1859.15   \n",
       "1                                     667.47   \n",
       "2                                    1079.60   \n",
       "\n",
       "   Video Streaming xKB Start Delay(ms)  Web Page Download Throughput(Kbps)  \\\n",
       "0                                 2309                             1007.82   \n",
       "1                                 2080                              255.36   \n",
       "2                                 6367                              535.85   \n",
       "\n",
       "   Web Average TCP RTT(ms)  \n",
       "0                       83  \n",
       "1                      425  \n",
       "2                      485  "
      ]
     },
     "execution_count": 105,
     "metadata": {},
     "output_type": "execute_result"
    }
   ],
   "source": [
    "data.head(3)  # Cтруктура данных\n"
   ]
  },
  {
   "cell_type": "markdown",
   "metadata": {},
   "source": [
    "**user_id** — идентификатор абонента;\n",
    "\n",
    "**Q1 — ответ на первый вопрос** В ходе опроса компания «Мегафон» предложила своим клиентам оценить уровень удовлетворённости качеством связи по десятибалльной шкале (где 10 — это «отлично», а 1 — «ужасно»). Если клиент оценивал качество связи на 9 или 10 баллов, опрос заканчивался;\n",
    "\n",
    "**Q2 - ответ на второй вопрос** ; Если клиент ставил оценку ниже 9, задавался второй вопрос — о причинах неудовлетворённости качеством связи с предоставленными пронумерованными вариантами ответа. Ответ можно было дать в свободном формате или перечислить номера ответов через запятую:\n",
    "1. Недозвоны, обрывы при звонках\n",
    "2. Время ожидания гудков при звонке\n",
    "3. Плохое качество связи в зданиях, тц и т.д.\n",
    "4. Медленный мобильный интернет\n",
    "5. Медленная загрузка видео\n",
    "6. Затрудняюсь ответить\n",
    "7. Свой вариант\n",
    "\n",
    "**Total Traffic(MB)** — объем трафика передачи данных, насколько активно абонент использует мобильный интернет;\n",
    "\n",
    "**Downlink Throughput(Kbps)** — средняя скорость «к абоненту», считается по всему трафику передачи данных;\n",
    "\n",
    "**Uplink Throughput(Kbps)**— средняя скорость «от абонента», считается по всему трафику передачи данных;\n",
    "\n",
    "**Downlink TCP Retransmission Rate(%)** — частота переотправок пакетов «к абоненту», чем выше, тем хуже. Если в канале возникает ошибка, пакет переотправляется. Снижается полезная скорость;\n",
    "\n",
    "**Video Streaming Download Throughput(Kbps)** — скорость загрузки потокового видео, чем выше, тем лучше — меньше прерываний и лучше качество картинки;\n",
    "\n",
    "**Video Streaming xKB Start Delay(ms)** — задержка старта воспроизведения видео, cколько времени пройдёт между нажатием на кнопку Play и началом воспроизведения видео. Чем меньше это время, тем быстрее начинается воспроизведение;\n",
    "\n",
    "**Web Page Download Throughput(Kbps)** — скорость загрузки web-страниц через браузер, чем выше, тем лучше;\n",
    "\n",
    "**Web Average TCP RTT(ms)** — пинг при просмотре web-страниц, чем меньше, тем лучше — быстрее загружаются web-страницы.\n",
    "\n",
    "Первый технический показатель представлен как сумма за период в одну неделю перед участием в опросе. Остальные технические показатели отображают среднее значение по данному признаку за период в одну неделю перед участием в опросе."
   ]
  },
  {
   "cell_type": "markdown",
   "metadata": {},
   "source": [
    "### Предобработка данных ###"
   ]
  },
  {
   "cell_type": "code",
   "execution_count": 106,
   "metadata": {},
   "outputs": [
    {
     "name": "stdout",
     "output_type": "stream",
     "text": [
      "<class 'pandas.core.frame.DataFrame'>\n",
      "RangeIndex: 3112 entries, 0 to 3111\n",
      "Data columns (total 11 columns):\n",
      " #   Column                                     Non-Null Count  Dtype  \n",
      "---  ------                                     --------------  -----  \n",
      " 0   user_id                                    3112 non-null   int64  \n",
      " 1   Q1                                         3110 non-null   object \n",
      " 2   Q2                                         1315 non-null   object \n",
      " 3   Total Traffic(MB)                          3112 non-null   float64\n",
      " 4   Downlink Throughput(Kbps)                  3112 non-null   float64\n",
      " 5   Uplink Throughput(Kbps)                    3112 non-null   float64\n",
      " 6   Downlink TCP Retransmission Rate(%)        3112 non-null   float64\n",
      " 7   Video Streaming Download Throughput(Kbps)  3112 non-null   float64\n",
      " 8   Video Streaming xKB Start Delay(ms)        3112 non-null   int64  \n",
      " 9   Web Page Download Throughput(Kbps)         3112 non-null   float64\n",
      " 10  Web Average TCP RTT(ms)                    3112 non-null   int64  \n",
      "dtypes: float64(6), int64(3), object(2)\n",
      "memory usage: 267.6+ KB\n"
     ]
    }
   ],
   "source": [
    "data.info() # Непустые значения в колонках\n"
   ]
  },
  {
   "cell_type": "markdown",
   "metadata": {},
   "source": [
    "**Работа с переменной Q1 - ответ на первый вопрос, возможные значения 1-10**"
   ]
  },
  {
   "cell_type": "code",
   "execution_count": 107,
   "metadata": {},
   "outputs": [
    {
     "data": {
      "text/plain": [
       "10                                                                      846\n",
       "1                                                                       532\n",
       "3                                                                       325\n",
       "8                                                                       291\n",
       "9                                                                       238\n",
       "5                                                                       234\n",
       "7                                                                       200\n",
       "2                                                                       168\n",
       "4                                                                       123\n",
       "6                                                                       101\n",
       "0                                                                        10\n",
       "Да                                                                        2\n",
       "1, 3                                                                      2\n",
       "Нет                                                                       2\n",
       "5, 6                                                                      2\n",
       "20, 89031081392                                                           1\n",
       "11                                                                        1\n",
       "10, 9                                                                     1\n",
       "3 тройка, связь отвратительная, жалко платить за такой тарив              1\n",
       "Чдтчдтччдтччч                                                             1\n",
       "5, 7                                                                      1\n",
       "Немагу дать атценку денги незашто снимаеть скоро выклучаю                 1\n",
       "ОЦЕНКА-3/НЕВАЖНО/                                                         1\n",
       "3 - дер.Ширяево Волоколамского района, 9 - в Москве                       1\n",
       "15                                                                        1\n",
       "?                                                                         1\n",
       "Отвратительно                                                             1\n",
       "Ужасно                                                                    1\n",
       "4. Тульская область Заокский район. Романовские дачи связи почти нет      1\n",
       "10, 5                                                                     1\n",
       "10, 50                                                                    1\n",
       "2, 5                                                                      1\n",
       "0, 1, 5                                                                   1\n",
       "Когда в Москве-10 а когда в калужской области в деревне Бели-1            1\n",
       "Я в Смол. Области живу сейчас, не пользуюсь телефоном совсем              1\n",
       "***** ** ***                                                              1\n",
       "3, 9                                                                      1\n",
       "Я ценой услуг не удовлетворен                                             1\n",
       "Пока не понял                                                             1\n",
       "Чем даль ше,тем лучше.Спасибо за ваш труд.Оценка 10 !                     1\n",
       "19                                                                        1\n",
       "Очень  хорошо. Обслуживания  я довольно. Спасибо вам.555                  1\n",
       "1, 6                                                                      1\n",
       "3, 7                                                                      1\n",
       "Hi                                                                        1\n",
       "1, 8                                                                      1\n",
       "2, 9                                                                      1\n",
       "Поохое                                                                    1\n",
       "Без з                                                                     1\n",
       "Name: Q1, dtype: int64"
      ]
     },
     "execution_count": 107,
     "metadata": {},
     "output_type": "execute_result"
    }
   ],
   "source": [
    "data['Q1'].value_counts() # Имеющиеся значения и их количество\n"
   ]
  },
  {
   "cell_type": "code",
   "execution_count": 108,
   "metadata": {},
   "outputs": [
    {
     "data": {
      "text/plain": [
       "10    846\n",
       "1     532\n",
       "3     325\n",
       "8     291\n",
       "9     238\n",
       "5     234\n",
       "7     200\n",
       "2     168\n",
       "4     123\n",
       "6     101\n",
       "Name: Q1, dtype: int64"
      ]
     },
     "execution_count": 108,
     "metadata": {},
     "output_type": "execute_result"
    }
   ],
   "source": [
    "data['user_id'] = data['user_id'].astype(str) \n",
    "# Удалим ошибочные и пропущенные значения с ответом на первый вопрос\n",
    "data['Q1'] = data['Q1'].astype('str')\n",
    "data['Q1'] = [elem if elem in ['1', '2', '3', '4', '5', '6', '7', '8', '9', '10']\n",
    "                    else np.NaN for elem in data['Q1']]\n",
    "data.dropna(subset=['Q1'], inplace=True)\n",
    "data['Q1'].value_counts()\n"
   ]
  },
  {
   "cell_type": "markdown",
   "metadata": {},
   "source": [
    "**Разделим абонентов на группы и создадим метки группы для всех абонентов - A: оценка (9-10), B: оценка (5-8), C: оценка (1-4)**"
   ]
  },
  {
   "cell_type": "code",
   "execution_count": 109,
   "metadata": {},
   "outputs": [],
   "source": [
    "data['Group'] = data['Q1']\n"
   ]
  },
  {
   "cell_type": "code",
   "execution_count": 110,
   "metadata": {},
   "outputs": [],
   "source": [
    "data['Group'] = ['A' if elem in ['9', '10'] else 'B' if elem\n",
    "                    in ['5', '6', '7', '8'] else 'C' for elem in data['Group']]\n"
   ]
  },
  {
   "cell_type": "code",
   "execution_count": 111,
   "metadata": {},
   "outputs": [
    {
     "data": {
      "text/plain": [
       "C    1148\n",
       "A    1084\n",
       "B     826\n",
       "Name: Group, dtype: int64"
      ]
     },
     "execution_count": 111,
     "metadata": {},
     "output_type": "execute_result"
    }
   ],
   "source": [
    "data['Group'].value_counts()  # Количество абонентов по группам\n"
   ]
  },
  {
   "cell_type": "code",
   "execution_count": 112,
   "metadata": {},
   "outputs": [
    {
     "data": {
      "text/html": [
       "<div>\n",
       "<style scoped>\n",
       "    .dataframe tbody tr th:only-of-type {\n",
       "        vertical-align: middle;\n",
       "    }\n",
       "\n",
       "    .dataframe tbody tr th {\n",
       "        vertical-align: top;\n",
       "    }\n",
       "\n",
       "    .dataframe thead th {\n",
       "        text-align: right;\n",
       "    }\n",
       "</style>\n",
       "<table border=\"1\" class=\"dataframe\">\n",
       "  <thead>\n",
       "    <tr style=\"text-align: right;\">\n",
       "      <th></th>\n",
       "      <th>user_id</th>\n",
       "      <th>Group</th>\n",
       "      <th>Q1</th>\n",
       "      <th>Q2</th>\n",
       "      <th>Total Traffic(MB)</th>\n",
       "      <th>Downlink Throughput(Kbps)</th>\n",
       "      <th>Uplink Throughput(Kbps)</th>\n",
       "      <th>Video Streaming Download Throughput(Kbps)</th>\n",
       "      <th>Web Page Download Throughput(Kbps)</th>\n",
       "      <th>Downlink TCP Retransmission Rate(%)</th>\n",
       "      <th>Video Streaming xKB Start Delay(ms)</th>\n",
       "      <th>Web Average TCP RTT(ms)</th>\n",
       "    </tr>\n",
       "  </thead>\n",
       "  <tbody>\n",
       "    <tr>\n",
       "      <th>0</th>\n",
       "      <td>1</td>\n",
       "      <td>B</td>\n",
       "      <td>5</td>\n",
       "      <td>NaN</td>\n",
       "      <td>775.48846</td>\n",
       "      <td>360.13</td>\n",
       "      <td>86.56</td>\n",
       "      <td>1859.15</td>\n",
       "      <td>1007.82</td>\n",
       "      <td>3.93</td>\n",
       "      <td>2309</td>\n",
       "      <td>83</td>\n",
       "    </tr>\n",
       "  </tbody>\n",
       "</table>\n",
       "</div>"
      ],
      "text/plain": [
       "  user_id Group Q1   Q2  Total Traffic(MB)  Downlink Throughput(Kbps)  \\\n",
       "0       1     B  5  NaN          775.48846                     360.13   \n",
       "\n",
       "   Uplink Throughput(Kbps)  Video Streaming Download Throughput(Kbps)  \\\n",
       "0                    86.56                                    1859.15   \n",
       "\n",
       "   Web Page Download Throughput(Kbps)  Downlink TCP Retransmission Rate(%)  \\\n",
       "0                             1007.82                                 3.93   \n",
       "\n",
       "   Video Streaming xKB Start Delay(ms)  Web Average TCP RTT(ms)  \n",
       "0                                 2309                       83  "
      ]
     },
     "execution_count": 112,
     "metadata": {},
     "output_type": "execute_result"
    }
   ],
   "source": [
    "#  Изменим порядок колонок в датасете\n",
    "\n",
    "cols = ['user_id', 'Group', 'Q1', 'Q2', 'Total Traffic(MB)',\n",
    "        'Downlink Throughput(Kbps)', 'Uplink Throughput(Kbps)',\n",
    "        'Video Streaming Download Throughput(Kbps)', 'Web Page Download Throughput(Kbps)',\n",
    "        'Downlink TCP Retransmission Rate(%)', 'Video Streaming xKB Start Delay(ms)',\n",
    "        'Web Average TCP RTT(ms)']\n",
    "data = data[cols]\n",
    "data.head(1)\n"
   ]
  },
  {
   "cell_type": "code",
   "execution_count": 113,
   "metadata": {},
   "outputs": [
    {
     "name": "stdout",
     "output_type": "stream",
     "text": [
      "<class 'pandas.core.frame.DataFrame'>\n",
      "Int64Index: 3058 entries, 0 to 3111\n",
      "Data columns (total 12 columns):\n",
      " #   Column                                     Non-Null Count  Dtype  \n",
      "---  ------                                     --------------  -----  \n",
      " 0   user_id                                    3058 non-null   object \n",
      " 1   Group                                      3058 non-null   object \n",
      " 2   Q1                                         3058 non-null   object \n",
      " 3   Q2                                         1315 non-null   object \n",
      " 4   Total Traffic(MB)                          3058 non-null   float64\n",
      " 5   Downlink Throughput(Kbps)                  3058 non-null   float64\n",
      " 6   Uplink Throughput(Kbps)                    3058 non-null   float64\n",
      " 7   Video Streaming Download Throughput(Kbps)  3058 non-null   float64\n",
      " 8   Web Page Download Throughput(Kbps)         3058 non-null   float64\n",
      " 9   Downlink TCP Retransmission Rate(%)        3058 non-null   float64\n",
      " 10  Video Streaming xKB Start Delay(ms)        3058 non-null   int64  \n",
      " 11  Web Average TCP RTT(ms)                    3058 non-null   int64  \n",
      "dtypes: float64(6), int64(2), object(4)\n",
      "memory usage: 310.6+ KB\n"
     ]
    }
   ],
   "source": [
    "# Т.к. отсутствующие значения остались только в колонке Q2, проставим ответ 6 (затрудняюсь ответить) для пустых значений\n",
    "data.info()\n"
   ]
  },
  {
   "cell_type": "code",
   "execution_count": 114,
   "metadata": {},
   "outputs": [],
   "source": [
    "data[data['Group'] != 'A'] = data[data['Group'] != 'A'].fillna('6')\n"
   ]
  },
  {
   "cell_type": "code",
   "execution_count": 115,
   "metadata": {},
   "outputs": [
    {
     "data": {
      "text/plain": [
       "1084"
      ]
     },
     "execution_count": 115,
     "metadata": {},
     "output_type": "execute_result"
    }
   ],
   "source": [
    "data[(data['Q1'] == '9') | (data['Q1'] == '10')][['Q2']].shape[0]  # Проверим количество строк группы A\n"
   ]
  },
  {
   "cell_type": "code",
   "execution_count": 116,
   "metadata": {},
   "outputs": [
    {
     "data": {
      "text/plain": [
       "1084"
      ]
     },
     "execution_count": 116,
     "metadata": {},
     "output_type": "execute_result"
    }
   ],
   "source": [
    "data[(data['Q1'] == '9') | (data['Q1'] == '10')][['Q2']].isna().sum()[0]\n",
    "# Проверим пустые значения группы A на Q2 - совпадает\n"
   ]
  },
  {
   "cell_type": "code",
   "execution_count": 117,
   "metadata": {},
   "outputs": [],
   "source": [
    "data_Q1 = data.copy()\n"
   ]
  },
  {
   "cell_type": "markdown",
   "metadata": {},
   "source": [
    "### Построение доверительных интервалов для оценки долей пользователей, которые полностью довольны качеством связи (группа A), и для пользователей, которые неудовлетворёны качеством связи (группы В и С) ###"
   ]
  },
  {
   "cell_type": "markdown",
   "metadata": {},
   "source": [
    "Оценка данного показателя позволяет оценить общую картину удовлетворенности услугами компании \"Мегафон\" с целью дальнейшего анализа конкретных групп и показателей"
   ]
  },
  {
   "cell_type": "code",
   "execution_count": 118,
   "metadata": {},
   "outputs": [
    {
     "data": {
      "text/plain": [
       "0"
      ]
     },
     "execution_count": 118,
     "metadata": {},
     "output_type": "execute_result"
    }
   ],
   "source": [
    "data_Q1[['user_id']].duplicated().sum()  # Количество повторяющихся пользователей\n"
   ]
  },
  {
   "cell_type": "code",
   "execution_count": 119,
   "metadata": {
    "scrolled": false
   },
   "outputs": [
    {
     "data": {
      "image/png": "[encoded data removed]"
     },
     "metadata": {},
     "output_type": "display_data"
    }
   ],
   "source": [
    "df1 = data_Q1.copy()\n",
    "df1['Group'] = ['Satisfied' if elem == 'A' else 'Dissatisfied' for elem in df1['Group']]\n",
    "fig = px.bar(df1.groupby(['Group'])[['user_id']].count().sort_values(by='user_id'),\n",
    "       color=df1.groupby(['Group'])[['user_id']].count().index,\n",
    "        title='Количество пользователей в группах удовлетворенности услугами', width=800)\n",
    "fig.show(\"png\")"
   ]
  },
  {
   "cell_type": "markdown",
   "metadata": {},
   "source": [
    "**Расчет доверительного интервала для доли пользователей полностью удовлетворенными качеством связи (Ответ 9,10 на первый вопрос) генеральной совокупности пользователей компании 'Мегафон'**"
   ]
  },
  {
   "cell_type": "code",
   "execution_count": 120,
   "metadata": {},
   "outputs": [],
   "source": [
    "df1 = pd.get_dummies(df1, columns=['Group']) \n",
    "# Конвертируем категориальную переменную для удобства группировки\n"
   ]
  },
  {
   "cell_type": "code",
   "execution_count": 121,
   "metadata": {},
   "outputs": [
    {
     "name": "stdout",
     "output_type": "stream",
     "text": [
      "Доверительный интервал (0.3375257436900856, 0.37143436095347226) с шириной 0.034\n"
     ]
    }
   ],
   "source": [
    "from statsmodels.stats.proportion import proportion_confint\n",
    "\n",
    "normal_interval1 = proportion_confint(sum(df1['Group_Satisfied']), len(df1['Group_Satisfied']), \n",
    "                                      method='normal')\n",
    "print ('Доверительный интервал {} с шириной {}'.format(normal_interval1,\n",
    "                                      round((normal_interval1[1] - normal_interval1[0]), 3)))\n"
   ]
  },
  {
   "cell_type": "markdown",
   "metadata": {},
   "source": [
    "**Расчет доверительного интервала для доли пользователей неудовлетворенными качеством связи (Ответ 1-8 на первый вопрос) генеральной совокупности пользователей компании 'Мегафон'**"
   ]
  },
  {
   "cell_type": "code",
   "execution_count": 122,
   "metadata": {},
   "outputs": [
    {
     "name": "stdout",
     "output_type": "stream",
     "text": [
      "Доверительный интервал (0.6285656390465277, 0.6624742563099144) с шириной 0.034\n"
     ]
    }
   ],
   "source": [
    "normal_interval2 = proportion_confint(sum(df1['Group_Dissatisfied']), \n",
    "                                      len(df1['Group_Dissatisfied']), method='normal')\n",
    "print ('Доверительный интервал {} с шириной {}'.format(normal_interval2, \n",
    "                                                round((normal_interval2[1] - normal_interval2[0]), 3)))\n"
   ]
  },
  {
   "cell_type": "markdown",
   "metadata": {},
   "source": [
    "**С вероятностью в 95% доля пользователей полностью удовлетворенными качеством связи компании 'Мегафон' лежит в промежутке (0.3375; 0.3714), доля пользоваталей неудовлетворенными качеством связи лежит в промежутке (0.6286; 0.6625)**"
   ]
  },
  {
   "cell_type": "markdown",
   "metadata": {},
   "source": [
    "Построим график полученных долей и интервалов для них"
   ]
  },
  {
   "cell_type": "code",
   "execution_count": 123,
   "metadata": {},
   "outputs": [
    {
     "data": {
      "text/plain": [
       "<function matplotlib.pyplot.show(close=None, block=None)>"
      ]
     },
     "execution_count": 123,
     "metadata": {},
     "output_type": "execute_result"
    },
    {
     "data": {
      "image/png": "[encoded data removed]",
      "text/plain": [
       "<Figure size 720x720 with 1 Axes>"
      ]
     },
     "metadata": {
      "needs_background": "light"
     },
     "output_type": "display_data"
    }
   ],
   "source": [
    "labels = ['Рассматриваемые группы']\n",
    "Group_Satisfied_prop = sum(df1['Group_Satisfied'])/len(df1['Group_Satisfied'])\n",
    "Group_Dissatisfied_prop = sum(df1['Group_Dissatisfied'])/len(df1['Group_Dissatisfied'])\n",
    "yer1 = (normal_interval1[1] - normal_interval1[0])/2\n",
    "yer2 = (normal_interval2[1] - normal_interval2[0])/2\n",
    "\n",
    "x = np.arange(len(labels))\n",
    "width = 0.35  \n",
    "\n",
    "fig, ax = plt.subplots()\n",
    "ax.bar(x - width/2, Group_Satisfied_prop, width, yerr=yer1, capsize=7,label='Полностью удовлетворенные пользователи')\n",
    "ax.bar(x + width/2, Group_Dissatisfied_prop, width, yerr=yer2, capsize=7, label='Неудовлетворенные пользователи')\n",
    "\n",
    "ax.set_ylabel('Доля')\n",
    "ax.set_title('Доли пользователей с доверительными интервалами')\n",
    "ax.set_xticks(x)\n",
    "ax.set_xticklabels(labels)\n",
    "ax.legend()\n",
    "plt.gcf().set_size_inches(10, 10)\n",
    "plt.show\n"
   ]
  },
  {
   "cell_type": "markdown",
   "metadata": {},
   "source": [
    "Можем сделать вывод, что примерно 2/3 пользователей имеют некоторые проблемы со связью, следовательно нужно подробнее разбирать группы пользователей B и C"
   ]
  },
  {
   "cell_type": "markdown",
   "metadata": {},
   "source": [
    "**Построение доверительного интервала для оценки доли пользователей, которые указали на проблемы по связью (ответы: 1,2,3; на второй вопрос), относительно всех пользователей**"
   ]
  },
  {
   "cell_type": "markdown",
   "metadata": {},
   "source": [
    "Рассмотрение данного показателя в первую очередь важно, т.к. компания специализуруется на услугах голосовой связи и большинство пользователей указали на проблему именно с данной составляющей бизнеса"
   ]
  },
  {
   "cell_type": "code",
   "execution_count": 124,
   "metadata": {},
   "outputs": [
    {
     "data": {
      "text/html": [
       "<div>\n",
       "<style scoped>\n",
       "    .dataframe tbody tr th:only-of-type {\n",
       "        vertical-align: middle;\n",
       "    }\n",
       "\n",
       "    .dataframe tbody tr th {\n",
       "        vertical-align: top;\n",
       "    }\n",
       "\n",
       "    .dataframe thead th {\n",
       "        text-align: right;\n",
       "    }\n",
       "</style>\n",
       "<table border=\"1\" class=\"dataframe\">\n",
       "  <thead>\n",
       "    <tr style=\"text-align: right;\">\n",
       "      <th></th>\n",
       "      <th>user_id</th>\n",
       "      <th>Group</th>\n",
       "      <th>Q1</th>\n",
       "      <th>Q2</th>\n",
       "      <th>Total Traffic(MB)</th>\n",
       "      <th>Downlink Throughput(Kbps)</th>\n",
       "      <th>Uplink Throughput(Kbps)</th>\n",
       "      <th>Video Streaming Download Throughput(Kbps)</th>\n",
       "      <th>Web Page Download Throughput(Kbps)</th>\n",
       "      <th>Downlink TCP Retransmission Rate(%)</th>\n",
       "      <th>Video Streaming xKB Start Delay(ms)</th>\n",
       "      <th>Web Average TCP RTT(ms)</th>\n",
       "    </tr>\n",
       "  </thead>\n",
       "  <tbody>\n",
       "    <tr>\n",
       "      <th>3</th>\n",
       "      <td>4</td>\n",
       "      <td>B</td>\n",
       "      <td>8</td>\n",
       "      <td>3</td>\n",
       "      <td>179.18564</td>\n",
       "      <td>2590.97</td>\n",
       "      <td>325.88</td>\n",
       "      <td>7053.81</td>\n",
       "      <td>1221.02</td>\n",
       "      <td>0.80</td>\n",
       "      <td>3218</td>\n",
       "      <td>51</td>\n",
       "    </tr>\n",
       "    <tr>\n",
       "      <th>4</th>\n",
       "      <td>5</td>\n",
       "      <td>C</td>\n",
       "      <td>2</td>\n",
       "      <td>2</td>\n",
       "      <td>351.99208</td>\n",
       "      <td>731.61</td>\n",
       "      <td>223.54</td>\n",
       "      <td>4550.38</td>\n",
       "      <td>2336.56</td>\n",
       "      <td>1.15</td>\n",
       "      <td>1767</td>\n",
       "      <td>68</td>\n",
       "    </tr>\n",
       "    <tr>\n",
       "      <th>11</th>\n",
       "      <td>9</td>\n",
       "      <td>C</td>\n",
       "      <td>1</td>\n",
       "      <td>1</td>\n",
       "      <td>783.64464</td>\n",
       "      <td>1786.99</td>\n",
       "      <td>271.77</td>\n",
       "      <td>6802.42</td>\n",
       "      <td>1837.02</td>\n",
       "      <td>0.84</td>\n",
       "      <td>1200</td>\n",
       "      <td>132</td>\n",
       "    </tr>\n",
       "    <tr>\n",
       "      <th>14</th>\n",
       "      <td>10</td>\n",
       "      <td>C</td>\n",
       "      <td>3</td>\n",
       "      <td>1</td>\n",
       "      <td>455.97369</td>\n",
       "      <td>610.43</td>\n",
       "      <td>81.86</td>\n",
       "      <td>1317.76</td>\n",
       "      <td>1054.15</td>\n",
       "      <td>4.10</td>\n",
       "      <td>3350</td>\n",
       "      <td>165</td>\n",
       "    </tr>\n",
       "    <tr>\n",
       "      <th>18</th>\n",
       "      <td>11</td>\n",
       "      <td>C</td>\n",
       "      <td>3</td>\n",
       "      <td>1</td>\n",
       "      <td>526.08652</td>\n",
       "      <td>535.54</td>\n",
       "      <td>208.67</td>\n",
       "      <td>2621.14</td>\n",
       "      <td>2376.50</td>\n",
       "      <td>1.46</td>\n",
       "      <td>1479</td>\n",
       "      <td>88</td>\n",
       "    </tr>\n",
       "    <tr>\n",
       "      <th>...</th>\n",
       "      <td>...</td>\n",
       "      <td>...</td>\n",
       "      <td>...</td>\n",
       "      <td>...</td>\n",
       "      <td>...</td>\n",
       "      <td>...</td>\n",
       "      <td>...</td>\n",
       "      <td>...</td>\n",
       "      <td>...</td>\n",
       "      <td>...</td>\n",
       "      <td>...</td>\n",
       "      <td>...</td>\n",
       "    </tr>\n",
       "    <tr>\n",
       "      <th>4206</th>\n",
       "      <td>3103</td>\n",
       "      <td>B</td>\n",
       "      <td>8</td>\n",
       "      <td>1</td>\n",
       "      <td>413.99008</td>\n",
       "      <td>908.59</td>\n",
       "      <td>215.83</td>\n",
       "      <td>9449.73</td>\n",
       "      <td>2212.11</td>\n",
       "      <td>1.62</td>\n",
       "      <td>1467</td>\n",
       "      <td>51</td>\n",
       "    </tr>\n",
       "    <tr>\n",
       "      <th>4208</th>\n",
       "      <td>3105</td>\n",
       "      <td>C</td>\n",
       "      <td>1</td>\n",
       "      <td>1</td>\n",
       "      <td>206.28181</td>\n",
       "      <td>105.24</td>\n",
       "      <td>65.84</td>\n",
       "      <td>349.04</td>\n",
       "      <td>1035.69</td>\n",
       "      <td>3.86</td>\n",
       "      <td>2094</td>\n",
       "      <td>267</td>\n",
       "    </tr>\n",
       "    <tr>\n",
       "      <th>4213</th>\n",
       "      <td>3108</td>\n",
       "      <td>C</td>\n",
       "      <td>3</td>\n",
       "      <td>1</td>\n",
       "      <td>519.96475</td>\n",
       "      <td>1045.70</td>\n",
       "      <td>44.61</td>\n",
       "      <td>4523.66</td>\n",
       "      <td>1044.66</td>\n",
       "      <td>0.47</td>\n",
       "      <td>1468</td>\n",
       "      <td>304</td>\n",
       "    </tr>\n",
       "    <tr>\n",
       "      <th>4216</th>\n",
       "      <td>3109</td>\n",
       "      <td>C</td>\n",
       "      <td>3</td>\n",
       "      <td>1</td>\n",
       "      <td>171.52629</td>\n",
       "      <td>670.32</td>\n",
       "      <td>40.94</td>\n",
       "      <td>1711.54</td>\n",
       "      <td>954.91</td>\n",
       "      <td>2.35</td>\n",
       "      <td>2780</td>\n",
       "      <td>251</td>\n",
       "    </tr>\n",
       "    <tr>\n",
       "      <th>4221</th>\n",
       "      <td>3111</td>\n",
       "      <td>B</td>\n",
       "      <td>6</td>\n",
       "      <td>1</td>\n",
       "      <td>827.74515</td>\n",
       "      <td>1841.90</td>\n",
       "      <td>373.53</td>\n",
       "      <td>5675.93</td>\n",
       "      <td>2361.88</td>\n",
       "      <td>1.21</td>\n",
       "      <td>1905</td>\n",
       "      <td>202</td>\n",
       "    </tr>\n",
       "  </tbody>\n",
       "</table>\n",
       "<p>1028 rows × 12 columns</p>\n",
       "</div>"
      ],
      "text/plain": [
       "     user_id Group Q1 Q2  Total Traffic(MB)  Downlink Throughput(Kbps)  \\\n",
       "3          4     B  8  3          179.18564                    2590.97   \n",
       "4          5     C  2  2          351.99208                     731.61   \n",
       "11         9     C  1  1          783.64464                    1786.99   \n",
       "14        10     C  3  1          455.97369                     610.43   \n",
       "18        11     C  3  1          526.08652                     535.54   \n",
       "...      ...   ... .. ..                ...                        ...   \n",
       "4206    3103     B  8  1          413.99008                     908.59   \n",
       "4208    3105     C  1  1          206.28181                     105.24   \n",
       "4213    3108     C  3  1          519.96475                    1045.70   \n",
       "4216    3109     C  3  1          171.52629                     670.32   \n",
       "4221    3111     B  6  1          827.74515                    1841.90   \n",
       "\n",
       "      Uplink Throughput(Kbps)  Video Streaming Download Throughput(Kbps)  \\\n",
       "3                      325.88                                    7053.81   \n",
       "4                      223.54                                    4550.38   \n",
       "11                     271.77                                    6802.42   \n",
       "14                      81.86                                    1317.76   \n",
       "18                     208.67                                    2621.14   \n",
       "...                       ...                                        ...   \n",
       "4206                   215.83                                    9449.73   \n",
       "4208                    65.84                                     349.04   \n",
       "4213                    44.61                                    4523.66   \n",
       "4216                    40.94                                    1711.54   \n",
       "4221                   373.53                                    5675.93   \n",
       "\n",
       "      Web Page Download Throughput(Kbps)  Downlink TCP Retransmission Rate(%)  \\\n",
       "3                                1221.02                                 0.80   \n",
       "4                                2336.56                                 1.15   \n",
       "11                               1837.02                                 0.84   \n",
       "14                               1054.15                                 4.10   \n",
       "18                               2376.50                                 1.46   \n",
       "...                                  ...                                  ...   \n",
       "4206                             2212.11                                 1.62   \n",
       "4208                             1035.69                                 3.86   \n",
       "4213                             1044.66                                 0.47   \n",
       "4216                              954.91                                 2.35   \n",
       "4221                             2361.88                                 1.21   \n",
       "\n",
       "      Video Streaming xKB Start Delay(ms)  Web Average TCP RTT(ms)  \n",
       "3                                    3218                       51  \n",
       "4                                    1767                       68  \n",
       "11                                   1200                      132  \n",
       "14                                   3350                      165  \n",
       "18                                   1479                       88  \n",
       "...                                   ...                      ...  \n",
       "4206                                 1467                       51  \n",
       "4208                                 2094                      267  \n",
       "4213                                 1468                      304  \n",
       "4216                                 2780                      251  \n",
       "4221                                 1905                      202  \n",
       "\n",
       "[1028 rows x 12 columns]"
      ]
     },
     "execution_count": 124,
     "metadata": {},
     "output_type": "execute_result"
    }
   ],
   "source": [
    "# Cоздание массива, разделенного по Q2, с наличием выбросов в числовых признаках для расчета доли\n",
    "df2 = data_Q1.copy()\n",
    "\n",
    "# Разделение нескольких ответов на список ответов\n",
    "df2['Q2'] = df2['Q2'].str.replace(\" \", \"\").str.split(',')\n",
    "df2 = df2.explode('Q2')  # Q2 - ответ на первый вопрос, возможные значения 1-7, или несколько ответов\n",
    "\n",
    "df2['Q2'] = [elem if elem in ['1', '2', '3', '4', '5', '6', '7', np.NaN]\n",
    "                else 'error' for elem in df2['Q2']]\n",
    "df2 = df2[df2['Q2'] != 'error']\n",
    "\n",
    "# Заполним пропуски в Q2 для групп B и C нейтральным ответов\n",
    "df2[df2['Group'] != 'A'] = df2[df2['Group'] != 'A'].fillna('6')\n",
    "\n",
    "df2 = df2.reset_index(drop=True)\n",
    "\n",
    "\n",
    "df2_1 = df2[(df2['Q2'] == '1') | (df2['Q2'] == '2') | (df2['Q2'] == '3')]  # Интересующие нас группы\n",
    "df2_1 = df2_1.drop_duplicates(subset='user_id')  # Устранение повторяющихся пользователей внутри групп\n",
    "df2_1\n"
   ]
  },
  {
   "cell_type": "code",
   "execution_count": 125,
   "metadata": {},
   "outputs": [
    {
     "data": {
      "text/plain": [
       "3058"
      ]
     },
     "execution_count": 125,
     "metadata": {},
     "output_type": "execute_result"
    }
   ],
   "source": [
    "n = data_Q1.shape[0]  # Размер выборки\n",
    "n\n"
   ]
  },
  {
   "cell_type": "code",
   "execution_count": 126,
   "metadata": {
    "scrolled": false
   },
   "outputs": [
    {
     "name": "stdout",
     "output_type": "stream",
     "text": [
      "Доверительный интервал равен [0.3194 0.3529] \n"
     ]
    }
   ],
   "source": [
    "p = df2_1.shape[0] / n # Построение интервала\n",
    "\n",
    "se = np.sqrt(p * (1 - p) / n)\n",
    "\n",
    "interv = np.round(st.norm.interval(0.95, loc=p, scale=se), 4)\n",
    "print ('Доверительный интервал равен {} '.format(interv))\n"
   ]
  },
  {
   "cell_type": "markdown",
   "metadata": {},
   "source": [
    "Построение графика полученной доли с доверительным интервалом"
   ]
  },
  {
   "cell_type": "code",
   "execution_count": 127,
   "metadata": {},
   "outputs": [
    {
     "data": {
      "text/plain": [
       "<function matplotlib.pyplot.show(close=None, block=None)>"
      ]
     },
     "execution_count": 127,
     "metadata": {},
     "output_type": "execute_result"
    },
    {
     "data": {
      "image/png": "[encoded data removed]",
      "text/plain": [
       "<Figure size 720x720 with 1 Axes>"
      ]
     },
     "metadata": {
      "needs_background": "light"
     },
     "output_type": "display_data"
    }
   ],
   "source": [
    "labels = ['Ответ на Q2: 1,2,3 | Все пользователи ']\n",
    "Group_Satisfied_prop = len(df2_1) / data_Q1.shape[0]\n",
    "yer1 = (interv[1] - interv[0]) / 2\n",
    "\n",
    "x = np.arange(len(labels))  \n",
    "width = 0.35 \n",
    "\n",
    "fig, ax = plt.subplots()\n",
    "ax.bar(x - width/2, Group_Satisfied_prop, width, yerr=yer1, capsize=7,label='Ответ на Q2: 1,2,3', color='orange')\n",
    "ax.bar(x + width/2, 1, width,label='Все пользователи', color='green')\n",
    "\n",
    "ax.set_ylabel('Доля')\n",
    "ax.set_title('Доли пользователей с доверительными интервалами')\n",
    "ax.set_xticks(x)\n",
    "ax.set_xticklabels(labels)\n",
    "ax.legend()\n",
    "plt.gcf().set_size_inches(10, 10)\n",
    "plt.show\n"
   ]
  },
  {
   "cell_type": "markdown",
   "metadata": {},
   "source": [
    "**С вероятностью в 95% доля пользователей, которые указали на проблемы по связью (ответы: 1,2,3; на второй вопрос), относительно всех пользователей компании 'Мегафон' лежит в промежутке (0.3194, 0.3529]**"
   ]
  },
  {
   "cell_type": "markdown",
   "metadata": {},
   "source": [
    "**Устранение выбросов в числовых признаках**"
   ]
  },
  {
   "cell_type": "markdown",
   "metadata": {},
   "source": [
    "Следуя эвристики, что выбросы находятся за пределами следующих интервалов: Q1–1.5 x IQR и Q3 + 1.5 x IQR, преобразуем данные.\n",
    "\n",
    "Q1 - Первый квартиль, равен 25-ому процентилю;\n",
    "\n",
    "Q3 - Третий квартиль, равен 75-ому процентилю;\n",
    "\n",
    "IQR - число, которое показывает разброс средней половины (т.е. средние 50%) набора данных и помогает определить выбросы, разница между Q3 и Q1;"
   ]
  },
  {
   "cell_type": "code",
   "execution_count": 128,
   "metadata": {},
   "outputs": [],
   "source": [
    "col = data.describe().columns  # Колонки числовых атрибутов\n"
   ]
  },
  {
   "cell_type": "code",
   "execution_count": 129,
   "metadata": {},
   "outputs": [],
   "source": [
    "Q1, Q3 = data_Q1[col].quantile(0.25), data_Q1[col].quantile(0.75)\n",
    "IQR = Q3 - Q1\n",
    "data_Q1_Out = data_Q1[~((data_Q1[col] < (Q1 - 1.5 * IQR)) | (data_Q1[col] >\n",
    "                    (Q3 + 1.5 * IQR))).any(axis=1)]\n",
    "data = data_Q1_Out\n"
   ]
  },
  {
   "cell_type": "markdown",
   "metadata": {},
   "source": [
    "**Работа с переменной Q2 - ответ на первый вопрос, возможные значения 1-7, или несколько ответов**"
   ]
  },
  {
   "cell_type": "code",
   "execution_count": 130,
   "metadata": {},
   "outputs": [
    {
     "data": {
      "text/plain": [
       "6                   451\n",
       "3                   135\n",
       "4                   100\n",
       "1                    98\n",
       "1, 3                 80\n",
       "3, 4                 65\n",
       "1, 3, 4              43\n",
       "7                    39\n",
       "1, 2, 3              31\n",
       "1, 4                 29\n",
       "1, 3, 4, 5           28\n",
       "3, 4, 5              27\n",
       "1, 2, 3, 4, 5        19\n",
       "1, 2                 16\n",
       "4, 5                 16\n",
       "1, 2, 3, 4           13\n",
       "1, 4, 5              13\n",
       "3, 5                  7\n",
       "2, 3, 4               7\n",
       "2, 3                  7\n",
       "1, 2, 4               7\n",
       "2                     6\n",
       "1, 5                  5\n",
       "5                     4\n",
       "1, 3, 5               3\n",
       "1, 4, 7               3\n",
       "2, 3, 4, 5            3\n",
       "2, 4                  3\n",
       "1, 2, 5               2\n",
       "2, 4, 5               2\n",
       "1, 2, 4, 5            2\n",
       "1, 3, 4, 7            2\n",
       "1, 3, 4, 5, 7         2\n",
       "1, 2, 3, 4, 5, 6      1\n",
       "0, 1, 7               1\n",
       "3, 4, 5, 7            1\n",
       "3, 7                  1\n",
       "1, 2, 3, 5            1\n",
       "1, 3, 7               1\n",
       "0                     1\n",
       "1, 2, 3, 7            1\n",
       "0, 3                  1\n",
       "3, 4, 7               1\n",
       "0, 05, 2, 27, 7       1\n",
       "1, 2, 7               1\n",
       "1, 2, 34              1\n",
       "Name: Q2, dtype: int64"
      ]
     },
     "execution_count": 130,
     "metadata": {},
     "output_type": "execute_result"
    }
   ],
   "source": [
    "data['Q2'].value_counts() # Возможные значения и их количество \n"
   ]
  },
  {
   "cell_type": "code",
   "execution_count": 131,
   "metadata": {},
   "outputs": [],
   "source": [
    "# Для наблюдений с несколькими вариантами, уберем пробелы, переведем в списки и разобьем на отдельные наблюдения.\n",
    "# Значения остальных атрибутов для таких наблюдений остаются неизменными."
   ]
  },
  {
   "cell_type": "code",
   "execution_count": 132,
   "metadata": {},
   "outputs": [],
   "source": [
    "data['Q2'] = data['Q2'].str.replace(\" \", \"\").str.split(',')\n",
    "data = data.explode('Q2')\n"
   ]
  },
  {
   "cell_type": "code",
   "execution_count": 133,
   "metadata": {},
   "outputs": [],
   "source": [
    "data['Q2'] = [elem if elem in ['1', '2', '3', '4', '5', '6', '7', np.NaN]\n",
    "                  else 'error' for elem in data['Q2']]\n",
    "data = data[data['Q2'] != 'error']\n"
   ]
  },
  {
   "cell_type": "code",
   "execution_count": 134,
   "metadata": {},
   "outputs": [
    {
     "data": {
      "text/plain": [
       "3    480\n",
       "6    452\n",
       "1    403\n",
       "4    387\n",
       "5    136\n",
       "2    124\n",
       "7     54\n",
       "Name: Q2, dtype: int64"
      ]
     },
     "execution_count": 134,
     "metadata": {},
     "output_type": "execute_result"
    }
   ],
   "source": [
    "data['Q2'].value_counts() # Финальное количество вариантов ответа на Q2\n"
   ]
  },
  {
   "cell_type": "code",
   "execution_count": 135,
   "metadata": {},
   "outputs": [],
   "source": [
    "# Заполним пропуски в Q2 для групп B и C нейтральным ответов\n",
    "\n",
    "data[data['Group'] != 'A'] = data[data['Group'] != 'A'].fillna('6')\n",
    "data = data.reset_index(drop=True)\n",
    "data_Q2 = data.copy()\n"
   ]
  },
  {
   "cell_type": "code",
   "execution_count": 136,
   "metadata": {},
   "outputs": [
    {
     "data": {
      "text/plain": [
       "<AxesSubplot:title={'center':'Корреляция признаков (Пирсон)'}>"
      ]
     },
     "execution_count": 136,
     "metadata": {},
     "output_type": "execute_result"
    },
    {
     "data": {
      "image/png": "[encoded data removed]",
      "text/plain": [
       "<Figure size 720x720 with 2 Axes>"
      ]
     },
     "metadata": {
      "needs_background": "light"
     },
     "output_type": "display_data"
    }
   ],
   "source": [
    "# Корреляция признаков\n",
    "\n",
    "colormap = plt.cm.RdBu\n",
    "plt.figure(figsize=(10,10))\n",
    "plt.title('Корреляция признаков (Пирсон)', y=1.05, size=15)\n",
    "sns.heatmap(data_Q2.corr(),linewidths=0.1,vmax=1.0, \n",
    "            square=True, cmap=colormap, linecolor='white', annot=True)\n"
   ]
  },
  {
   "cell_type": "markdown",
   "metadata": {},
   "source": [
    "Сильная корреляция между рассматриваемыми величинами отсутсвует, наибольшее значение коэффициента **0.48** между **Video Streaming Download Throughput** и **Downlink Throughput**, **-0.48** между **Video Streaming Download Throughput** и **Video Streaming xKB Start Delay**, **0.41** между **Video Streaming Download Throughput** и **Web Page Download Throughput**."
   ]
  },
  {
   "cell_type": "markdown",
   "metadata": {},
   "source": [
    "**Рассмотрим меры центральной тенденции - среднее и медиану для групп пользователей разделенных по ответу на первый вопрос:**\n",
    "\n",
    "Группы - A: оценка (9-10), B: оценка (5-8), C: оценка (1-4)"
   ]
  },
  {
   "cell_type": "code",
   "execution_count": 137,
   "metadata": {},
   "outputs": [
    {
     "data": {
      "text/html": [
       "<div>\n",
       "<style scoped>\n",
       "    .dataframe tbody tr th:only-of-type {\n",
       "        vertical-align: middle;\n",
       "    }\n",
       "\n",
       "    .dataframe tbody tr th {\n",
       "        vertical-align: top;\n",
       "    }\n",
       "\n",
       "    .dataframe thead th {\n",
       "        text-align: right;\n",
       "    }\n",
       "</style>\n",
       "<table border=\"1\" class=\"dataframe\">\n",
       "  <thead>\n",
       "    <tr style=\"text-align: right;\">\n",
       "      <th></th>\n",
       "      <th>user_id, count</th>\n",
       "      <th>Total Traffic(MB)</th>\n",
       "      <th>Downlink Throughput(Kbps)</th>\n",
       "      <th>Uplink Throughput(Kbps)</th>\n",
       "      <th>Video Streaming Download Throughput(Kbps)</th>\n",
       "      <th>Web Page Download Throughput(Kbps)</th>\n",
       "      <th>Downlink TCP Retransmission Rate(%)</th>\n",
       "      <th>Video Streaming xKB Start Delay(ms)</th>\n",
       "      <th>Web Average TCP RTT(ms)</th>\n",
       "    </tr>\n",
       "    <tr>\n",
       "      <th>Group</th>\n",
       "      <th></th>\n",
       "      <th></th>\n",
       "      <th></th>\n",
       "      <th></th>\n",
       "      <th></th>\n",
       "      <th></th>\n",
       "      <th></th>\n",
       "      <th></th>\n",
       "      <th></th>\n",
       "    </tr>\n",
       "  </thead>\n",
       "  <tbody>\n",
       "    <tr>\n",
       "      <th>A</th>\n",
       "      <td>700</td>\n",
       "      <td>412.30</td>\n",
       "      <td>1876.49</td>\n",
       "      <td>145.13</td>\n",
       "      <td>5371.52</td>\n",
       "      <td>1879.51</td>\n",
       "      <td>1.38</td>\n",
       "      <td>1696.58</td>\n",
       "      <td>131.57</td>\n",
       "    </tr>\n",
       "    <tr>\n",
       "      <th>B</th>\n",
       "      <td>547</td>\n",
       "      <td>424.04</td>\n",
       "      <td>1842.24</td>\n",
       "      <td>144.26</td>\n",
       "      <td>5260.61</td>\n",
       "      <td>1824.31</td>\n",
       "      <td>1.49</td>\n",
       "      <td>1768.55</td>\n",
       "      <td>138.85</td>\n",
       "    </tr>\n",
       "    <tr>\n",
       "      <th>C</th>\n",
       "      <td>734</td>\n",
       "      <td>416.21</td>\n",
       "      <td>1662.22</td>\n",
       "      <td>137.44</td>\n",
       "      <td>4708.80</td>\n",
       "      <td>1707.93</td>\n",
       "      <td>1.58</td>\n",
       "      <td>1855.18</td>\n",
       "      <td>149.55</td>\n",
       "    </tr>\n",
       "  </tbody>\n",
       "</table>\n",
       "</div>"
      ],
      "text/plain": [
       "       user_id, count  Total Traffic(MB)  Downlink Throughput(Kbps)  \\\n",
       "Group                                                                 \n",
       "A                 700             412.30                    1876.49   \n",
       "B                 547             424.04                    1842.24   \n",
       "C                 734             416.21                    1662.22   \n",
       "\n",
       "       Uplink Throughput(Kbps)  Video Streaming Download Throughput(Kbps)  \\\n",
       "Group                                                                       \n",
       "A                       145.13                                    5371.52   \n",
       "B                       144.26                                    5260.61   \n",
       "C                       137.44                                    4708.80   \n",
       "\n",
       "       Web Page Download Throughput(Kbps)  \\\n",
       "Group                                       \n",
       "A                                 1879.51   \n",
       "B                                 1824.31   \n",
       "C                                 1707.93   \n",
       "\n",
       "       Downlink TCP Retransmission Rate(%)  \\\n",
       "Group                                        \n",
       "A                                     1.38   \n",
       "B                                     1.49   \n",
       "C                                     1.58   \n",
       "\n",
       "       Video Streaming xKB Start Delay(ms)  Web Average TCP RTT(ms)  \n",
       "Group                                                                \n",
       "A                                  1696.58                   131.57  \n",
       "B                                  1768.55                   138.85  \n",
       "C                                  1855.18                   149.55  "
      ]
     },
     "execution_count": 137,
     "metadata": {},
     "output_type": "execute_result"
    }
   ],
   "source": [
    "# Построение массивов кол-во наблюдений + значения показателей\n",
    "\n",
    "Q1_mean_1 = data_Q1_Out.groupby(['Group'])[['user_id']].count()\n",
    "Q1_mean_1.columns = ['user_id, count']\n",
    "Q1_mean_2 = data_Q1_Out.groupby(['Group']).agg('mean') \\\n",
    "                       .sort_values(by='Group').round(2)\n",
    "Q1_mean = pd.concat([Q1_mean_1, Q1_mean_2], axis=1)\n",
    "\n",
    "Q1_median_1 = data_Q1_Out.groupby(['Group'])[['user_id']].count()\n",
    "Q1_median_1.columns = ['user_id, count']\n",
    "Q1_median_2 = data_Q1_Out.groupby(['Group']).agg('median') \\\n",
    "                         .sort_values(by='Group').round(2)\n",
    "\n",
    "Q1_median = pd.concat([Q1_median_1, Q1_median_2], axis=1)\n",
    "\n",
    "Q1_mean  # Средние значения для числовых показателей\n"
   ]
  },
  {
   "cell_type": "code",
   "execution_count": 138,
   "metadata": {},
   "outputs": [
    {
     "data": {
      "text/html": [
       "<div>\n",
       "<style scoped>\n",
       "    .dataframe tbody tr th:only-of-type {\n",
       "        vertical-align: middle;\n",
       "    }\n",
       "\n",
       "    .dataframe tbody tr th {\n",
       "        vertical-align: top;\n",
       "    }\n",
       "\n",
       "    .dataframe thead th {\n",
       "        text-align: right;\n",
       "    }\n",
       "</style>\n",
       "<table border=\"1\" class=\"dataframe\">\n",
       "  <thead>\n",
       "    <tr style=\"text-align: right;\">\n",
       "      <th></th>\n",
       "      <th>user_id, count</th>\n",
       "      <th>Total Traffic(MB)</th>\n",
       "      <th>Downlink Throughput(Kbps)</th>\n",
       "      <th>Uplink Throughput(Kbps)</th>\n",
       "      <th>Video Streaming Download Throughput(Kbps)</th>\n",
       "      <th>Web Page Download Throughput(Kbps)</th>\n",
       "      <th>Downlink TCP Retransmission Rate(%)</th>\n",
       "      <th>Video Streaming xKB Start Delay(ms)</th>\n",
       "      <th>Web Average TCP RTT(ms)</th>\n",
       "    </tr>\n",
       "    <tr>\n",
       "      <th>Group</th>\n",
       "      <th></th>\n",
       "      <th></th>\n",
       "      <th></th>\n",
       "      <th></th>\n",
       "      <th></th>\n",
       "      <th></th>\n",
       "      <th></th>\n",
       "      <th></th>\n",
       "      <th></th>\n",
       "    </tr>\n",
       "  </thead>\n",
       "  <tbody>\n",
       "    <tr>\n",
       "      <th>A</th>\n",
       "      <td>700</td>\n",
       "      <td>365.00</td>\n",
       "      <td>1519.74</td>\n",
       "      <td>120.80</td>\n",
       "      <td>4821.22</td>\n",
       "      <td>1769.54</td>\n",
       "      <td>1.20</td>\n",
       "      <td>1572.5</td>\n",
       "      <td>105.5</td>\n",
       "    </tr>\n",
       "    <tr>\n",
       "      <th>B</th>\n",
       "      <td>547</td>\n",
       "      <td>389.35</td>\n",
       "      <td>1366.61</td>\n",
       "      <td>119.43</td>\n",
       "      <td>4623.44</td>\n",
       "      <td>1666.18</td>\n",
       "      <td>1.28</td>\n",
       "      <td>1655.0</td>\n",
       "      <td>114.0</td>\n",
       "    </tr>\n",
       "    <tr>\n",
       "      <th>C</th>\n",
       "      <td>734</td>\n",
       "      <td>377.32</td>\n",
       "      <td>1293.52</td>\n",
       "      <td>116.33</td>\n",
       "      <td>4109.82</td>\n",
       "      <td>1576.06</td>\n",
       "      <td>1.32</td>\n",
       "      <td>1694.0</td>\n",
       "      <td>127.5</td>\n",
       "    </tr>\n",
       "  </tbody>\n",
       "</table>\n",
       "</div>"
      ],
      "text/plain": [
       "       user_id, count  Total Traffic(MB)  Downlink Throughput(Kbps)  \\\n",
       "Group                                                                 \n",
       "A                 700             365.00                    1519.74   \n",
       "B                 547             389.35                    1366.61   \n",
       "C                 734             377.32                    1293.52   \n",
       "\n",
       "       Uplink Throughput(Kbps)  Video Streaming Download Throughput(Kbps)  \\\n",
       "Group                                                                       \n",
       "A                       120.80                                    4821.22   \n",
       "B                       119.43                                    4623.44   \n",
       "C                       116.33                                    4109.82   \n",
       "\n",
       "       Web Page Download Throughput(Kbps)  \\\n",
       "Group                                       \n",
       "A                                 1769.54   \n",
       "B                                 1666.18   \n",
       "C                                 1576.06   \n",
       "\n",
       "       Downlink TCP Retransmission Rate(%)  \\\n",
       "Group                                        \n",
       "A                                     1.20   \n",
       "B                                     1.28   \n",
       "C                                     1.32   \n",
       "\n",
       "       Video Streaming xKB Start Delay(ms)  Web Average TCP RTT(ms)  \n",
       "Group                                                                \n",
       "A                                   1572.5                    105.5  \n",
       "B                                   1655.0                    114.0  \n",
       "C                                   1694.0                    127.5  "
      ]
     },
     "execution_count": 138,
     "metadata": {},
     "output_type": "execute_result"
    }
   ],
   "source": [
    "Q1_median  # Медианные значения для числовых показателей\n"
   ]
  },
  {
   "cell_type": "markdown",
   "metadata": {},
   "source": [
    "Показатели: Total Traffic(MB) - из опрошенных мобильный интернет активнее всего используется пользователями группы 'B';\n",
    "\n",
    "Downlink Throughput(Kbps),Uplink Throughput(Kbps), Video Streaming Download Throughput(Kbps), Web Page Download Throughput(Kbps) - наибольшие показатели скорости загрузки у пользователей группы 'A', наименьшие у группы 'C'; \n",
    "\n",
    "Downlink TCP Retransmission Rate(%)(частота переотправок пакетов «к абоненту»),Video Streaming xKB Start Delay(ms)(задержка старта воспроизведения видео),Web Average TCP RTT(ms)(пинг при просмотре web-страниц) - наименьшие (наилучшие) показатели у пользователей группы 'A', наибольшие (наихудшие) - у группы 'C';\n",
    "\n",
    "В целом, основываясь на рассмотренных выборках, имеется предположение, что разница в показателях пользователей группы 'A' и группы 'B' различаются меньше, чем разница в показателях группы 'B' и 'C'."
   ]
  },
  {
   "cell_type": "markdown",
   "metadata": {},
   "source": [
    "**Рассмотрим меры центральной тенденции - среднее и медиану для групп пользователей разделенных по ответу на второй вопрос:**\n",
    "\n",
    "1.Недозвоны, обрывы при звонках  \n",
    "2.Время ожидания гудков при звонке  \n",
    "3.Плохое качество связи в зданиях, тц и т.д.  \n",
    "4.Медленный мобильный интернет  \n",
    "5.Медленная загрузка видео  \n",
    "6.Затрудняюсь ответить  \n",
    "7.Свой вариант  "
   ]
  },
  {
   "cell_type": "code",
   "execution_count": 139,
   "metadata": {},
   "outputs": [
    {
     "data": {
      "text/html": [
       "<div>\n",
       "<style scoped>\n",
       "    .dataframe tbody tr th:only-of-type {\n",
       "        vertical-align: middle;\n",
       "    }\n",
       "\n",
       "    .dataframe tbody tr th {\n",
       "        vertical-align: top;\n",
       "    }\n",
       "\n",
       "    .dataframe thead th {\n",
       "        text-align: right;\n",
       "    }\n",
       "</style>\n",
       "<table border=\"1\" class=\"dataframe\">\n",
       "  <thead>\n",
       "    <tr style=\"text-align: right;\">\n",
       "      <th></th>\n",
       "      <th>user_id, count</th>\n",
       "      <th>Total Traffic(MB)</th>\n",
       "      <th>Downlink Throughput(Kbps)</th>\n",
       "      <th>Uplink Throughput(Kbps)</th>\n",
       "      <th>Video Streaming Download Throughput(Kbps)</th>\n",
       "      <th>Web Page Download Throughput(Kbps)</th>\n",
       "      <th>Downlink TCP Retransmission Rate(%)</th>\n",
       "      <th>Video Streaming xKB Start Delay(ms)</th>\n",
       "      <th>Web Average TCP RTT(ms)</th>\n",
       "    </tr>\n",
       "    <tr>\n",
       "      <th>Q2</th>\n",
       "      <th></th>\n",
       "      <th></th>\n",
       "      <th></th>\n",
       "      <th></th>\n",
       "      <th></th>\n",
       "      <th></th>\n",
       "      <th></th>\n",
       "      <th></th>\n",
       "      <th></th>\n",
       "    </tr>\n",
       "  </thead>\n",
       "  <tbody>\n",
       "    <tr>\n",
       "      <th>1</th>\n",
       "      <td>403</td>\n",
       "      <td>410.06</td>\n",
       "      <td>1787.28</td>\n",
       "      <td>145.94</td>\n",
       "      <td>5045.35</td>\n",
       "      <td>1756.82</td>\n",
       "      <td>1.59</td>\n",
       "      <td>1817.25</td>\n",
       "      <td>145.68</td>\n",
       "    </tr>\n",
       "    <tr>\n",
       "      <th>2</th>\n",
       "      <td>124</td>\n",
       "      <td>395.59</td>\n",
       "      <td>1654.47</td>\n",
       "      <td>140.41</td>\n",
       "      <td>4793.18</td>\n",
       "      <td>1770.88</td>\n",
       "      <td>1.56</td>\n",
       "      <td>1847.86</td>\n",
       "      <td>153.37</td>\n",
       "    </tr>\n",
       "    <tr>\n",
       "      <th>3</th>\n",
       "      <td>480</td>\n",
       "      <td>420.52</td>\n",
       "      <td>1728.35</td>\n",
       "      <td>141.19</td>\n",
       "      <td>4817.77</td>\n",
       "      <td>1769.04</td>\n",
       "      <td>1.62</td>\n",
       "      <td>1809.03</td>\n",
       "      <td>142.59</td>\n",
       "    </tr>\n",
       "    <tr>\n",
       "      <th>4</th>\n",
       "      <td>387</td>\n",
       "      <td>440.76</td>\n",
       "      <td>1661.62</td>\n",
       "      <td>135.53</td>\n",
       "      <td>4482.69</td>\n",
       "      <td>1648.09</td>\n",
       "      <td>1.59</td>\n",
       "      <td>1902.98</td>\n",
       "      <td>154.15</td>\n",
       "    </tr>\n",
       "    <tr>\n",
       "      <th>5</th>\n",
       "      <td>136</td>\n",
       "      <td>434.34</td>\n",
       "      <td>1447.95</td>\n",
       "      <td>131.38</td>\n",
       "      <td>3919.86</td>\n",
       "      <td>1613.10</td>\n",
       "      <td>1.58</td>\n",
       "      <td>1929.76</td>\n",
       "      <td>157.15</td>\n",
       "    </tr>\n",
       "    <tr>\n",
       "      <th>6</th>\n",
       "      <td>452</td>\n",
       "      <td>412.84</td>\n",
       "      <td>1684.16</td>\n",
       "      <td>142.23</td>\n",
       "      <td>5047.90</td>\n",
       "      <td>1769.47</td>\n",
       "      <td>1.50</td>\n",
       "      <td>1796.79</td>\n",
       "      <td>146.30</td>\n",
       "    </tr>\n",
       "    <tr>\n",
       "      <th>7</th>\n",
       "      <td>54</td>\n",
       "      <td>406.87</td>\n",
       "      <td>1753.45</td>\n",
       "      <td>138.13</td>\n",
       "      <td>4808.98</td>\n",
       "      <td>1803.71</td>\n",
       "      <td>1.52</td>\n",
       "      <td>1817.15</td>\n",
       "      <td>131.33</td>\n",
       "    </tr>\n",
       "  </tbody>\n",
       "</table>\n",
       "</div>"
      ],
      "text/plain": [
       "    user_id, count  Total Traffic(MB)  Downlink Throughput(Kbps)  \\\n",
       "Q2                                                                 \n",
       "1              403             410.06                    1787.28   \n",
       "2              124             395.59                    1654.47   \n",
       "3              480             420.52                    1728.35   \n",
       "4              387             440.76                    1661.62   \n",
       "5              136             434.34                    1447.95   \n",
       "6              452             412.84                    1684.16   \n",
       "7               54             406.87                    1753.45   \n",
       "\n",
       "    Uplink Throughput(Kbps)  Video Streaming Download Throughput(Kbps)  \\\n",
       "Q2                                                                       \n",
       "1                    145.94                                    5045.35   \n",
       "2                    140.41                                    4793.18   \n",
       "3                    141.19                                    4817.77   \n",
       "4                    135.53                                    4482.69   \n",
       "5                    131.38                                    3919.86   \n",
       "6                    142.23                                    5047.90   \n",
       "7                    138.13                                    4808.98   \n",
       "\n",
       "    Web Page Download Throughput(Kbps)  Downlink TCP Retransmission Rate(%)  \\\n",
       "Q2                                                                            \n",
       "1                              1756.82                                 1.59   \n",
       "2                              1770.88                                 1.56   \n",
       "3                              1769.04                                 1.62   \n",
       "4                              1648.09                                 1.59   \n",
       "5                              1613.10                                 1.58   \n",
       "6                              1769.47                                 1.50   \n",
       "7                              1803.71                                 1.52   \n",
       "\n",
       "    Video Streaming xKB Start Delay(ms)  Web Average TCP RTT(ms)  \n",
       "Q2                                                                \n",
       "1                               1817.25                   145.68  \n",
       "2                               1847.86                   153.37  \n",
       "3                               1809.03                   142.59  \n",
       "4                               1902.98                   154.15  \n",
       "5                               1929.76                   157.15  \n",
       "6                               1796.79                   146.30  \n",
       "7                               1817.15                   131.33  "
      ]
     },
     "execution_count": 139,
     "metadata": {},
     "output_type": "execute_result"
    }
   ],
   "source": [
    "# Построение массивов кол-во наблюдений + значения показателей\n",
    "\n",
    "Q2_mean_1 = data_Q2.groupby(['Q2'])[['user_id']].count()\n",
    "Q2_mean_1.columns = ['user_id, count']\n",
    "Q2_mean_2 = data_Q2.groupby(['Q2']).agg('mean') \\\n",
    "                   .sort_values(by='Q2').round(2)\n",
    "\n",
    "Q2_mean = pd.concat([Q2_mean_1, Q2_mean_2], axis=1) \n",
    "\n",
    "Q2_median_1 = data_Q2.groupby(['Q2'])[['user_id']].count()\n",
    "Q2_median_1.columns = ['user_id, count']\n",
    "Q2_median_2 = data_Q2.groupby(['Q2']).agg('median').sort_values(by='Q2').round(2)\n",
    "\n",
    "Q2_median = pd.concat([Q2_median_1, Q2_median_2], axis=1)\n",
    "\n",
    "Q2_mean  # Средние для числовых показателей\n"
   ]
  },
  {
   "cell_type": "code",
   "execution_count": 140,
   "metadata": {},
   "outputs": [
    {
     "data": {
      "text/html": [
       "<div>\n",
       "<style scoped>\n",
       "    .dataframe tbody tr th:only-of-type {\n",
       "        vertical-align: middle;\n",
       "    }\n",
       "\n",
       "    .dataframe tbody tr th {\n",
       "        vertical-align: top;\n",
       "    }\n",
       "\n",
       "    .dataframe thead th {\n",
       "        text-align: right;\n",
       "    }\n",
       "</style>\n",
       "<table border=\"1\" class=\"dataframe\">\n",
       "  <thead>\n",
       "    <tr style=\"text-align: right;\">\n",
       "      <th></th>\n",
       "      <th>user_id, count</th>\n",
       "      <th>Total Traffic(MB)</th>\n",
       "      <th>Downlink Throughput(Kbps)</th>\n",
       "      <th>Uplink Throughput(Kbps)</th>\n",
       "      <th>Video Streaming Download Throughput(Kbps)</th>\n",
       "      <th>Web Page Download Throughput(Kbps)</th>\n",
       "      <th>Downlink TCP Retransmission Rate(%)</th>\n",
       "      <th>Video Streaming xKB Start Delay(ms)</th>\n",
       "      <th>Web Average TCP RTT(ms)</th>\n",
       "    </tr>\n",
       "    <tr>\n",
       "      <th>Q2</th>\n",
       "      <th></th>\n",
       "      <th></th>\n",
       "      <th></th>\n",
       "      <th></th>\n",
       "      <th></th>\n",
       "      <th></th>\n",
       "      <th></th>\n",
       "      <th></th>\n",
       "      <th></th>\n",
       "    </tr>\n",
       "  </thead>\n",
       "  <tbody>\n",
       "    <tr>\n",
       "      <th>1</th>\n",
       "      <td>403</td>\n",
       "      <td>370.92</td>\n",
       "      <td>1361.30</td>\n",
       "      <td>119.45</td>\n",
       "      <td>4576.39</td>\n",
       "      <td>1589.45</td>\n",
       "      <td>1.37</td>\n",
       "      <td>1662.0</td>\n",
       "      <td>125.0</td>\n",
       "    </tr>\n",
       "    <tr>\n",
       "      <th>2</th>\n",
       "      <td>124</td>\n",
       "      <td>375.97</td>\n",
       "      <td>1095.54</td>\n",
       "      <td>116.10</td>\n",
       "      <td>4050.38</td>\n",
       "      <td>1628.90</td>\n",
       "      <td>1.32</td>\n",
       "      <td>1709.5</td>\n",
       "      <td>131.5</td>\n",
       "    </tr>\n",
       "    <tr>\n",
       "      <th>3</th>\n",
       "      <td>480</td>\n",
       "      <td>379.86</td>\n",
       "      <td>1314.74</td>\n",
       "      <td>121.15</td>\n",
       "      <td>4252.07</td>\n",
       "      <td>1644.94</td>\n",
       "      <td>1.34</td>\n",
       "      <td>1664.5</td>\n",
       "      <td>117.0</td>\n",
       "    </tr>\n",
       "    <tr>\n",
       "      <th>4</th>\n",
       "      <td>387</td>\n",
       "      <td>415.86</td>\n",
       "      <td>1155.32</td>\n",
       "      <td>118.53</td>\n",
       "      <td>3915.89</td>\n",
       "      <td>1498.28</td>\n",
       "      <td>1.36</td>\n",
       "      <td>1743.0</td>\n",
       "      <td>133.0</td>\n",
       "    </tr>\n",
       "    <tr>\n",
       "      <th>5</th>\n",
       "      <td>136</td>\n",
       "      <td>413.47</td>\n",
       "      <td>1108.19</td>\n",
       "      <td>104.55</td>\n",
       "      <td>3287.10</td>\n",
       "      <td>1430.19</td>\n",
       "      <td>1.33</td>\n",
       "      <td>1743.5</td>\n",
       "      <td>135.5</td>\n",
       "    </tr>\n",
       "    <tr>\n",
       "      <th>6</th>\n",
       "      <td>452</td>\n",
       "      <td>366.52</td>\n",
       "      <td>1265.22</td>\n",
       "      <td>116.13</td>\n",
       "      <td>4349.46</td>\n",
       "      <td>1641.42</td>\n",
       "      <td>1.27</td>\n",
       "      <td>1671.0</td>\n",
       "      <td>122.0</td>\n",
       "    </tr>\n",
       "    <tr>\n",
       "      <th>7</th>\n",
       "      <td>54</td>\n",
       "      <td>352.47</td>\n",
       "      <td>1543.91</td>\n",
       "      <td>124.46</td>\n",
       "      <td>4223.85</td>\n",
       "      <td>1513.76</td>\n",
       "      <td>1.39</td>\n",
       "      <td>1700.5</td>\n",
       "      <td>101.0</td>\n",
       "    </tr>\n",
       "  </tbody>\n",
       "</table>\n",
       "</div>"
      ],
      "text/plain": [
       "    user_id, count  Total Traffic(MB)  Downlink Throughput(Kbps)  \\\n",
       "Q2                                                                 \n",
       "1              403             370.92                    1361.30   \n",
       "2              124             375.97                    1095.54   \n",
       "3              480             379.86                    1314.74   \n",
       "4              387             415.86                    1155.32   \n",
       "5              136             413.47                    1108.19   \n",
       "6              452             366.52                    1265.22   \n",
       "7               54             352.47                    1543.91   \n",
       "\n",
       "    Uplink Throughput(Kbps)  Video Streaming Download Throughput(Kbps)  \\\n",
       "Q2                                                                       \n",
       "1                    119.45                                    4576.39   \n",
       "2                    116.10                                    4050.38   \n",
       "3                    121.15                                    4252.07   \n",
       "4                    118.53                                    3915.89   \n",
       "5                    104.55                                    3287.10   \n",
       "6                    116.13                                    4349.46   \n",
       "7                    124.46                                    4223.85   \n",
       "\n",
       "    Web Page Download Throughput(Kbps)  Downlink TCP Retransmission Rate(%)  \\\n",
       "Q2                                                                            \n",
       "1                              1589.45                                 1.37   \n",
       "2                              1628.90                                 1.32   \n",
       "3                              1644.94                                 1.34   \n",
       "4                              1498.28                                 1.36   \n",
       "5                              1430.19                                 1.33   \n",
       "6                              1641.42                                 1.27   \n",
       "7                              1513.76                                 1.39   \n",
       "\n",
       "    Video Streaming xKB Start Delay(ms)  Web Average TCP RTT(ms)  \n",
       "Q2                                                                \n",
       "1                                1662.0                    125.0  \n",
       "2                                1709.5                    131.5  \n",
       "3                                1664.5                    117.0  \n",
       "4                                1743.0                    133.0  \n",
       "5                                1743.5                    135.5  \n",
       "6                                1671.0                    122.0  \n",
       "7                                1700.5                    101.0  "
      ]
     },
     "execution_count": 140,
     "metadata": {},
     "output_type": "execute_result"
    }
   ],
   "source": [
    "Q2_median  # Медианные значения для числовых показателей\n"
   ]
  },
  {
   "cell_type": "markdown",
   "metadata": {},
   "source": [
    "На первый взгляд - видимых различий не наблюдается, более детальные различия и гипотезы между данными группами далее будут проверены в ходе исследования"
   ]
  },
  {
   "cell_type": "markdown",
   "metadata": {},
   "source": [
    "**Построение гистограмм распределений рассматривыемых признаков**"
   ]
  },
  {
   "cell_type": "code",
   "execution_count": 141,
   "metadata": {
    "scrolled": false
   },
   "outputs": [
    {
     "data": {
      "image/png": "[encoded data removed]",
      "text/plain": [
       "<Figure size 1008x1584 with 8 Axes>"
      ]
     },
     "metadata": {
      "needs_background": "light"
     },
     "output_type": "display_data"
    }
   ],
   "source": [
    "cols_par = ['Total Traffic(MB)',\n",
    "        'Downlink Throughput(Kbps)', 'Uplink Throughput(Kbps)',\n",
    "        'Video Streaming Download Throughput(Kbps)', 'Web Page Download Throughput(Kbps)',\n",
    "        'Downlink TCP Retransmission Rate(%)', 'Video Streaming xKB Start Delay(ms)',\n",
    "        'Web Average TCP RTT(ms)']\n",
    "\n",
    "colors = ['b', 'g', 'r', 'c', 'm', 'y', 'k', 'w'] # Список цветов граффиков\n",
    "\n",
    "plt.figure(figsize=(14, 22)) \n",
    "for i, col in enumerate(cols_par): # Цикл для построения распределений числовых признаков\n",
    "    plt.subplot(4, 2, i+1)\n",
    "    plt.hist(data_Q1_Out[col], bins=45, facecolor=colors[i], \n",
    "             alpha=0.75, edgecolor='black', linewidth=1.2)\n",
    "    plt.axvline(data_Q1_Out[col].mean(), color='red', alpha=0.8,\n",
    "                linestyle='dashed', label='Mean: ' + str(round(data_Q1_Out[col].mean(), 2)))\n",
    "    plt.axvline(data_Q1_Out[col].median(), color='blue', alpha=0.8, \n",
    "                linestyle='dashed', label='Median: ' + str(round(data_Q1_Out[col].median(), 2)))\n",
    "    plt.xlabel('Величина показателя')\n",
    "    plt.ylabel('Количество наблюдений')\n",
    "    plt.grid(True)\n",
    "    plt.title('Распределенение величины '  + col)\n",
    "    plt.legend(loc='upper right')\n",
    "    plt.show\n",
    "    "
   ]
  },
  {
   "cell_type": "markdown",
   "metadata": {},
   "source": [
    "**Выполним проверку полученных распределений на нормальность**\n",
    "\n",
    "**Тест Шапиро-Уилка проверяет нулевую гипотезу о том, что выборка x 1 , ..., x n произошла из нормально распределенной ГС**"
   ]
  },
  {
   "cell_type": "markdown",
   "metadata": {},
   "source": [
    "Если размер выборки достаточно велик (> 100), этот тест может обнаруживать даже тривиальные отклонения от нулевой гипотезы (т.е. хотя и может иметь место некоторый статистически значимый эффект , он может быть слишком мал, чтобы иметь какое-либо практическое значение)"
   ]
  },
  {
   "cell_type": "code",
   "execution_count": 142,
   "metadata": {},
   "outputs": [
    {
     "name": "stdout",
     "output_type": "stream",
     "text": [
      "_________________________________________\n",
      "Total Traffic(MB) \n",
      "p_value:  1.0427532237684525e-24\n",
      "_________________________________________\n",
      "Downlink Throughput(Kbps) \n",
      "p_value:  6.657131475250867e-19\n",
      "_________________________________________\n",
      "Uplink Throughput(Kbps) \n",
      "p_value:  1.368848285589197e-12\n",
      "_________________________________________\n",
      "Video Streaming Download Throughput(Kbps) \n",
      "p_value:  1.0\n",
      "_________________________________________\n",
      "Web Page Download Throughput(Kbps) \n",
      "p_value:  1.0\n",
      "_________________________________________\n",
      "Downlink TCP Retransmission Rate(%) \n",
      "p_value:  3.3585777506963147e-16\n",
      "_________________________________________\n",
      "Video Streaming xKB Start Delay(ms) \n",
      "p_value:  6.48898756949734e-09\n",
      "_________________________________________\n",
      "Web Average TCP RTT(ms) \n",
      "p_value:  1.0\n"
     ]
    },
    {
     "name": "stderr",
     "output_type": "stream",
     "text": [
      "D:\\Anaconda3\\lib\\site-packages\\pandas\\core\\series.py:726: RuntimeWarning:\n",
      "\n",
      "divide by zero encountered in log\n",
      "\n"
     ]
    }
   ],
   "source": [
    "for i, col in enumerate(cols_par):\n",
    "    res = st.shapiro(np.log(data_Q1_Out[col]))\n",
    "    print('_________________________________________')\n",
    "    print(col, '\\np_value: ', res[1])\n",
    "    "
   ]
  },
  {
   "cell_type": "markdown",
   "metadata": {},
   "source": [
    "Полученные p-value либо сильно меньше допустимого уровня значимости (p = 0.05), либо равны 1, что свидетельствует о том, что есть все основания предполагать, что размер выборок достаточно велик, чтобы делать выводы о нормальности ГС рассматриваемых признаков"
   ]
  },
  {
   "cell_type": "markdown",
   "metadata": {},
   "source": [
    "Если данные не имеют распределения Гаусса (Нормального) и дисперсия Генеральной Совокупности параметров неизвестна, мы должны прибегнуть к непараметрической версии тестов значимости."
   ]
  },
  {
   "cell_type": "code",
   "execution_count": null,
   "metadata": {},
   "outputs": [],
   "source": []
  },
  {
   "cell_type": "markdown",
   "metadata": {},
   "source": [
    "Непараметрические критерии используются для следующих переменных:\n",
    "\n",
    "**- для количественных переменных, распределение которых нельзя однозначно отнести к нормальному закону распределения; (наш случай)**\n",
    "- для переменных, измеренных в порядковой шкале;\n",
    "- для переменных, измеренных в номинальной шкале.\n",
    "\n",
    "Непараметрические критерии могут применяться и в случае нормального распределения. В этом случае они будут иметь только 95%-ую эффективность по сравнению с параметрическими тестами.\n",
    "\n",
    "Существует большое количество непараметрических тестов, которые можно разделить на три группы:\n",
    "\n",
    "- одновыборочные критерии (биномиальный критерий, критерий хи-квадрат, критерий Колмогорова-Смирнова, критерий знаков Вилкоксона, критерий серий и др.);\n",
    "- критерии для зависимых или связанных выборок (критерий МакНемара, критерий Кохрана, критерий согласия Кендалла, непараметрический дисперсионный анализ Фридмана, критерий знаков, критерий знаковых разностей Вилкоксона, критерий маргинальной однородности и др.);\n",
    "\n",
    "**- критерии для независимых выборок (наш случай)** \n",
    "- U критерий Манна-Уитни (используем в качестве примера)\n",
    "- критерий Колмогорова-Смирнова + критерий Вальда-Вольфовица\n",
    "(носят более общий характер и выявляют различия между распределениями как в расположении, так и в форме. Критерий Колмогорова-Смирнова основан на максимуме модуля разности между эмпирическими функциями распределения для обеих выборок. Критерий серий Вальда-Вольфовица объединяет и ранжирует наблюдения из обеих групп)\n",
    "- критерий Мозеса (Критерий выявляет экстремальные отклики в сравнении с контрольной группой)\n",
    "- непараметрический дисперсионный анализ Крускала-Уоллиса (если у нас много выборок данных, и нас интересует только, имеют ли два или более выборок различное распределения)\n",
    "- критерий Джонкхира-Терпстры (является более мощной альтернативой критерию Краскала-Уоллиса)\n",
    "и другие."
   ]
  },
  {
   "cell_type": "code",
   "execution_count": null,
   "metadata": {},
   "outputs": [],
   "source": []
  },
  {
   "cell_type": "markdown",
   "metadata": {},
   "source": [
    "Каждому пользователю соответствует свой набор значений параметров, в нашем датасете не имеется больше 1 наблюдения для каждого пользователя. Некоторые пользователи ответили несколько вариантов на второй вопрос, но если мы будем рассматривать 2 группы разных ответов (напр. ответ на Q2 - 3 и ответ на Q2 - 4) нам придется исключить повторяющихся пользователей\n",
    "\n",
    "Таких пользователей мы можем сравнить с пользователями, которые не попали в деление по Q2 - полностью удовлетворенными пользователями (ответ на Q1 - 9,10)"
   ]
  },
  {
   "cell_type": "markdown",
   "metadata": {},
   "source": [
    "Мы рассматриваем две независимые выборки -> Однако размер наших выборок в большистве случаев сильно велик для корректной работы тестов, а также у нас не имеется выборок одинакого размера\n",
    "\n",
    "Для примера попробуем использовать U критерий Манна-Уитни, однако выводы будем делать в соответствии с **результатами бустрепа, распределений разницы средних и полученных доверительных интервалов.**\n"
   ]
  },
  {
   "cell_type": "code",
   "execution_count": null,
   "metadata": {},
   "outputs": [],
   "source": []
  },
  {
   "cell_type": "markdown",
   "metadata": {},
   "source": [
    "**В соответствии с дополнительной информацией, тесты по качеству голосовой связи фиксируют следующие параметры:**\n",
    "\n",
    "- Качество голосовой связи. Включает в себя долю неуспешных попыток установления соединения, долю оборванных вызовов, разборчивость речи. Качество речи измеряется по технологии POLQA (Perceptual Objective Listening Quality Assessment), утверждённой Международным союзом электросвязи. Оценка каждого голосового вызова осуществляется на протяжении трех минут. Результатом обзвона «большой четверки» является совокупность log-файлов измерительных комплексов. Оценка каждого голосового вызова осуществляется на протяжении 3 минут.  \n",
    "\n",
    "- Доставку sms-сообщений (доля недошедших до адресата сообщений, а также среднее время доставки).  \n",
    "\n",
    "- **Передачу данных: доля неуспешного TCP/IP соединения с сервером (HTTP IP-Service Access Failure Ratio);** доля неуспешных сессий по протоколу HTTP (HTTP Session Failure Ratio); **среднее значение скорости передачи данных к абоненту (HTTP DL Mean User Data Rate) в кбит/c;** продолжительность успешной сессии (HTTP Session Time) в мс. Процедура выполняется для трёх стандартов: GSM (2G), UMTS (3G) и LTE (4G). Размер файла для загрузки по протоколу HTTP для GSM и UMTS составляет 3 МБ, а для LTE 100 МБ.  \n",
    "\n",
    "- Общий скан покрытия, наличие и уровень сигнала (измеряемый в дБм).\n",
    "\n",
    "**Параметры, выделенные жирным шрифтом, имеются в представленных данных, следуют обратить на них внимание при исследованиее пользователей имеющих проблемы со связью (1.Недозвоны, обрывы при звонках; 2.Время ожидания гудков при звонке; 3.Плохое качество связи в зданиях, тц и т.д.)**"
   ]
  },
  {
   "cell_type": "code",
   "execution_count": null,
   "metadata": {},
   "outputs": [],
   "source": []
  },
  {
   "cell_type": "markdown",
   "metadata": {},
   "source": [
    "### Проверяем гипотезу относительно разницы средних показателей Downlink Throughput(Kbps)(средняя скорость «к абоненту»),Downlink TCP Retransmission Rate(%) (частота переотправок пакетов «к абоненту», чем выше, тем хуже.) между группами пользоваталей A и B ###\n",
    "\n"
   ]
  },
  {
   "cell_type": "markdown",
   "metadata": {},
   "source": [
    "**Группа A - пользователи, ответившие на второй вопрос (Q2) - 1,2,3: 1. Недозвоны, обрывы при звонках; 2. Время ожидания гудков при звонке; 3. Плохое качество связи в зданиях, тц и т.д\n",
    "Группа B - пользователи, ответившие на первый вопрос (Q1) - 9, 10 (отличное качество связи)**\n",
    "\n",
    "**Берем наши выборки, делаем по каждой из них бутстреп и проверяем с помощью построения доверительных интервалов, пересекаются ли они, а также генерируем распределение разницы средних.**"
   ]
  },
  {
   "cell_type": "code",
   "execution_count": 143,
   "metadata": {},
   "outputs": [
    {
     "data": {
      "text/html": [
       "<div>\n",
       "<style scoped>\n",
       "    .dataframe tbody tr th:only-of-type {\n",
       "        vertical-align: middle;\n",
       "    }\n",
       "\n",
       "    .dataframe tbody tr th {\n",
       "        vertical-align: top;\n",
       "    }\n",
       "\n",
       "    .dataframe thead th {\n",
       "        text-align: right;\n",
       "    }\n",
       "</style>\n",
       "<table border=\"1\" class=\"dataframe\">\n",
       "  <thead>\n",
       "    <tr style=\"text-align: right;\">\n",
       "      <th></th>\n",
       "      <th>user_id</th>\n",
       "      <th>Group</th>\n",
       "      <th>Q1</th>\n",
       "      <th>Q2</th>\n",
       "      <th>Total Traffic(MB)</th>\n",
       "      <th>Downlink Throughput(Kbps)</th>\n",
       "      <th>Uplink Throughput(Kbps)</th>\n",
       "      <th>Video Streaming Download Throughput(Kbps)</th>\n",
       "      <th>Web Page Download Throughput(Kbps)</th>\n",
       "      <th>Downlink TCP Retransmission Rate(%)</th>\n",
       "      <th>Video Streaming xKB Start Delay(ms)</th>\n",
       "      <th>Web Average TCP RTT(ms)</th>\n",
       "    </tr>\n",
       "  </thead>\n",
       "  <tbody>\n",
       "    <tr>\n",
       "      <th>1</th>\n",
       "      <td>4</td>\n",
       "      <td>B</td>\n",
       "      <td>8</td>\n",
       "      <td>3</td>\n",
       "      <td>179.18564</td>\n",
       "      <td>2590.97</td>\n",
       "      <td>325.88</td>\n",
       "      <td>7053.81</td>\n",
       "      <td>1221.02</td>\n",
       "      <td>0.80</td>\n",
       "      <td>3218</td>\n",
       "      <td>51</td>\n",
       "    </tr>\n",
       "    <tr>\n",
       "      <th>2</th>\n",
       "      <td>5</td>\n",
       "      <td>C</td>\n",
       "      <td>2</td>\n",
       "      <td>2</td>\n",
       "      <td>351.99208</td>\n",
       "      <td>731.61</td>\n",
       "      <td>223.54</td>\n",
       "      <td>4550.38</td>\n",
       "      <td>2336.56</td>\n",
       "      <td>1.15</td>\n",
       "      <td>1767</td>\n",
       "      <td>68</td>\n",
       "    </tr>\n",
       "    <tr>\n",
       "      <th>5</th>\n",
       "      <td>9</td>\n",
       "      <td>C</td>\n",
       "      <td>1</td>\n",
       "      <td>1</td>\n",
       "      <td>783.64464</td>\n",
       "      <td>1786.99</td>\n",
       "      <td>271.77</td>\n",
       "      <td>6802.42</td>\n",
       "      <td>1837.02</td>\n",
       "      <td>0.84</td>\n",
       "      <td>1200</td>\n",
       "      <td>132</td>\n",
       "    </tr>\n",
       "    <tr>\n",
       "      <th>8</th>\n",
       "      <td>10</td>\n",
       "      <td>C</td>\n",
       "      <td>3</td>\n",
       "      <td>1</td>\n",
       "      <td>455.97369</td>\n",
       "      <td>610.43</td>\n",
       "      <td>81.86</td>\n",
       "      <td>1317.76</td>\n",
       "      <td>1054.15</td>\n",
       "      <td>4.10</td>\n",
       "      <td>3350</td>\n",
       "      <td>165</td>\n",
       "    </tr>\n",
       "    <tr>\n",
       "      <th>12</th>\n",
       "      <td>11</td>\n",
       "      <td>C</td>\n",
       "      <td>3</td>\n",
       "      <td>1</td>\n",
       "      <td>526.08652</td>\n",
       "      <td>535.54</td>\n",
       "      <td>208.67</td>\n",
       "      <td>2621.14</td>\n",
       "      <td>2376.50</td>\n",
       "      <td>1.46</td>\n",
       "      <td>1479</td>\n",
       "      <td>88</td>\n",
       "    </tr>\n",
       "    <tr>\n",
       "      <th>...</th>\n",
       "      <td>...</td>\n",
       "      <td>...</td>\n",
       "      <td>...</td>\n",
       "      <td>...</td>\n",
       "      <td>...</td>\n",
       "      <td>...</td>\n",
       "      <td>...</td>\n",
       "      <td>...</td>\n",
       "      <td>...</td>\n",
       "      <td>...</td>\n",
       "      <td>...</td>\n",
       "      <td>...</td>\n",
       "    </tr>\n",
       "    <tr>\n",
       "      <th>2720</th>\n",
       "      <td>3103</td>\n",
       "      <td>B</td>\n",
       "      <td>8</td>\n",
       "      <td>1</td>\n",
       "      <td>413.99008</td>\n",
       "      <td>908.59</td>\n",
       "      <td>215.83</td>\n",
       "      <td>9449.73</td>\n",
       "      <td>2212.11</td>\n",
       "      <td>1.62</td>\n",
       "      <td>1467</td>\n",
       "      <td>51</td>\n",
       "    </tr>\n",
       "    <tr>\n",
       "      <th>2721</th>\n",
       "      <td>3105</td>\n",
       "      <td>C</td>\n",
       "      <td>1</td>\n",
       "      <td>1</td>\n",
       "      <td>206.28181</td>\n",
       "      <td>105.24</td>\n",
       "      <td>65.84</td>\n",
       "      <td>349.04</td>\n",
       "      <td>1035.69</td>\n",
       "      <td>3.86</td>\n",
       "      <td>2094</td>\n",
       "      <td>267</td>\n",
       "    </tr>\n",
       "    <tr>\n",
       "      <th>2726</th>\n",
       "      <td>3108</td>\n",
       "      <td>C</td>\n",
       "      <td>3</td>\n",
       "      <td>1</td>\n",
       "      <td>519.96475</td>\n",
       "      <td>1045.70</td>\n",
       "      <td>44.61</td>\n",
       "      <td>4523.66</td>\n",
       "      <td>1044.66</td>\n",
       "      <td>0.47</td>\n",
       "      <td>1468</td>\n",
       "      <td>304</td>\n",
       "    </tr>\n",
       "    <tr>\n",
       "      <th>2729</th>\n",
       "      <td>3109</td>\n",
       "      <td>C</td>\n",
       "      <td>3</td>\n",
       "      <td>1</td>\n",
       "      <td>171.52629</td>\n",
       "      <td>670.32</td>\n",
       "      <td>40.94</td>\n",
       "      <td>1711.54</td>\n",
       "      <td>954.91</td>\n",
       "      <td>2.35</td>\n",
       "      <td>2780</td>\n",
       "      <td>251</td>\n",
       "    </tr>\n",
       "    <tr>\n",
       "      <th>2734</th>\n",
       "      <td>3111</td>\n",
       "      <td>B</td>\n",
       "      <td>6</td>\n",
       "      <td>1</td>\n",
       "      <td>827.74515</td>\n",
       "      <td>1841.90</td>\n",
       "      <td>373.53</td>\n",
       "      <td>5675.93</td>\n",
       "      <td>2361.88</td>\n",
       "      <td>1.21</td>\n",
       "      <td>1905</td>\n",
       "      <td>202</td>\n",
       "    </tr>\n",
       "  </tbody>\n",
       "</table>\n",
       "<p>670 rows × 12 columns</p>\n",
       "</div>"
      ],
      "text/plain": [
       "     user_id Group Q1 Q2  Total Traffic(MB)  Downlink Throughput(Kbps)  \\\n",
       "1          4     B  8  3          179.18564                    2590.97   \n",
       "2          5     C  2  2          351.99208                     731.61   \n",
       "5          9     C  1  1          783.64464                    1786.99   \n",
       "8         10     C  3  1          455.97369                     610.43   \n",
       "12        11     C  3  1          526.08652                     535.54   \n",
       "...      ...   ... .. ..                ...                        ...   \n",
       "2720    3103     B  8  1          413.99008                     908.59   \n",
       "2721    3105     C  1  1          206.28181                     105.24   \n",
       "2726    3108     C  3  1          519.96475                    1045.70   \n",
       "2729    3109     C  3  1          171.52629                     670.32   \n",
       "2734    3111     B  6  1          827.74515                    1841.90   \n",
       "\n",
       "      Uplink Throughput(Kbps)  Video Streaming Download Throughput(Kbps)  \\\n",
       "1                      325.88                                    7053.81   \n",
       "2                      223.54                                    4550.38   \n",
       "5                      271.77                                    6802.42   \n",
       "8                       81.86                                    1317.76   \n",
       "12                     208.67                                    2621.14   \n",
       "...                       ...                                        ...   \n",
       "2720                   215.83                                    9449.73   \n",
       "2721                    65.84                                     349.04   \n",
       "2726                    44.61                                    4523.66   \n",
       "2729                    40.94                                    1711.54   \n",
       "2734                   373.53                                    5675.93   \n",
       "\n",
       "      Web Page Download Throughput(Kbps)  Downlink TCP Retransmission Rate(%)  \\\n",
       "1                                1221.02                                 0.80   \n",
       "2                                2336.56                                 1.15   \n",
       "5                                1837.02                                 0.84   \n",
       "8                                1054.15                                 4.10   \n",
       "12                               2376.50                                 1.46   \n",
       "...                                  ...                                  ...   \n",
       "2720                             2212.11                                 1.62   \n",
       "2721                             1035.69                                 3.86   \n",
       "2726                             1044.66                                 0.47   \n",
       "2729                              954.91                                 2.35   \n",
       "2734                             2361.88                                 1.21   \n",
       "\n",
       "      Video Streaming xKB Start Delay(ms)  Web Average TCP RTT(ms)  \n",
       "1                                    3218                       51  \n",
       "2                                    1767                       68  \n",
       "5                                    1200                      132  \n",
       "8                                    3350                      165  \n",
       "12                                   1479                       88  \n",
       "...                                   ...                      ...  \n",
       "2720                                 1467                       51  \n",
       "2721                                 2094                      267  \n",
       "2726                                 1468                      304  \n",
       "2729                                 2780                      251  \n",
       "2734                                 1905                      202  \n",
       "\n",
       "[670 rows x 12 columns]"
      ]
     },
     "execution_count": 143,
     "metadata": {},
     "output_type": "execute_result"
    }
   ],
   "source": [
    "# Группа A\n",
    "df2_2 = data_Q2[(data_Q2['Q2'] == '1') | (data_Q2['Q2'] == '2') | (data_Q2['Q2'] == '3')] \n",
    "# Интересующие нас пользователи\n",
    "df2_2 = df2_2.drop_duplicates(subset='user_id')  # Устранение повторяющихся пользователей внутри групп\n",
    "df2_2\n"
   ]
  },
  {
   "cell_type": "code",
   "execution_count": 144,
   "metadata": {},
   "outputs": [
    {
     "data": {
      "text/html": [
       "<div>\n",
       "<style scoped>\n",
       "    .dataframe tbody tr th:only-of-type {\n",
       "        vertical-align: middle;\n",
       "    }\n",
       "\n",
       "    .dataframe tbody tr th {\n",
       "        vertical-align: top;\n",
       "    }\n",
       "\n",
       "    .dataframe thead th {\n",
       "        text-align: right;\n",
       "    }\n",
       "</style>\n",
       "<table border=\"1\" class=\"dataframe\">\n",
       "  <thead>\n",
       "    <tr style=\"text-align: right;\">\n",
       "      <th></th>\n",
       "      <th>user_id</th>\n",
       "      <th>Group</th>\n",
       "      <th>Q1</th>\n",
       "      <th>Q2</th>\n",
       "      <th>Total Traffic(MB)</th>\n",
       "      <th>Downlink Throughput(Kbps)</th>\n",
       "      <th>Uplink Throughput(Kbps)</th>\n",
       "      <th>Video Streaming Download Throughput(Kbps)</th>\n",
       "      <th>Web Page Download Throughput(Kbps)</th>\n",
       "      <th>Downlink TCP Retransmission Rate(%)</th>\n",
       "      <th>Video Streaming xKB Start Delay(ms)</th>\n",
       "      <th>Web Average TCP RTT(ms)</th>\n",
       "    </tr>\n",
       "  </thead>\n",
       "  <tbody>\n",
       "    <tr>\n",
       "      <th>15</th>\n",
       "      <td>16</td>\n",
       "      <td>A</td>\n",
       "      <td>10</td>\n",
       "      <td>NaN</td>\n",
       "      <td>767.54725</td>\n",
       "      <td>1729.37</td>\n",
       "      <td>107.94</td>\n",
       "      <td>2490.93</td>\n",
       "      <td>2514.08</td>\n",
       "      <td>1.96</td>\n",
       "      <td>1660</td>\n",
       "      <td>92</td>\n",
       "    </tr>\n",
       "    <tr>\n",
       "      <th>21</th>\n",
       "      <td>22</td>\n",
       "      <td>A</td>\n",
       "      <td>10</td>\n",
       "      <td>NaN</td>\n",
       "      <td>601.06519</td>\n",
       "      <td>2135.92</td>\n",
       "      <td>120.55</td>\n",
       "      <td>7215.26</td>\n",
       "      <td>1014.48</td>\n",
       "      <td>1.73</td>\n",
       "      <td>1649</td>\n",
       "      <td>231</td>\n",
       "    </tr>\n",
       "    <tr>\n",
       "      <th>25</th>\n",
       "      <td>26</td>\n",
       "      <td>A</td>\n",
       "      <td>10</td>\n",
       "      <td>NaN</td>\n",
       "      <td>360.59845</td>\n",
       "      <td>3743.08</td>\n",
       "      <td>250.93</td>\n",
       "      <td>5943.66</td>\n",
       "      <td>2714.29</td>\n",
       "      <td>0.98</td>\n",
       "      <td>2029</td>\n",
       "      <td>61</td>\n",
       "    </tr>\n",
       "    <tr>\n",
       "      <th>27</th>\n",
       "      <td>28</td>\n",
       "      <td>A</td>\n",
       "      <td>10</td>\n",
       "      <td>NaN</td>\n",
       "      <td>373.37642</td>\n",
       "      <td>865.79</td>\n",
       "      <td>82.03</td>\n",
       "      <td>1913.33</td>\n",
       "      <td>1743.42</td>\n",
       "      <td>2.62</td>\n",
       "      <td>2638</td>\n",
       "      <td>122</td>\n",
       "    </tr>\n",
       "    <tr>\n",
       "      <th>28</th>\n",
       "      <td>29</td>\n",
       "      <td>A</td>\n",
       "      <td>10</td>\n",
       "      <td>NaN</td>\n",
       "      <td>232.99499</td>\n",
       "      <td>535.05</td>\n",
       "      <td>71.64</td>\n",
       "      <td>1332.35</td>\n",
       "      <td>3421.72</td>\n",
       "      <td>1.07</td>\n",
       "      <td>3548</td>\n",
       "      <td>110</td>\n",
       "    </tr>\n",
       "    <tr>\n",
       "      <th>...</th>\n",
       "      <td>...</td>\n",
       "      <td>...</td>\n",
       "      <td>...</td>\n",
       "      <td>...</td>\n",
       "      <td>...</td>\n",
       "      <td>...</td>\n",
       "      <td>...</td>\n",
       "      <td>...</td>\n",
       "      <td>...</td>\n",
       "      <td>...</td>\n",
       "      <td>...</td>\n",
       "      <td>...</td>\n",
       "    </tr>\n",
       "    <tr>\n",
       "      <th>3091</th>\n",
       "      <td>3092</td>\n",
       "      <td>A</td>\n",
       "      <td>9</td>\n",
       "      <td>NaN</td>\n",
       "      <td>335.35499</td>\n",
       "      <td>1767.76</td>\n",
       "      <td>104.68</td>\n",
       "      <td>10115.44</td>\n",
       "      <td>462.42</td>\n",
       "      <td>0.38</td>\n",
       "      <td>1234</td>\n",
       "      <td>164</td>\n",
       "    </tr>\n",
       "    <tr>\n",
       "      <th>3092</th>\n",
       "      <td>3093</td>\n",
       "      <td>A</td>\n",
       "      <td>10</td>\n",
       "      <td>NaN</td>\n",
       "      <td>758.71809</td>\n",
       "      <td>1512.61</td>\n",
       "      <td>192.21</td>\n",
       "      <td>796.91</td>\n",
       "      <td>216.96</td>\n",
       "      <td>0.87</td>\n",
       "      <td>2567</td>\n",
       "      <td>160</td>\n",
       "    </tr>\n",
       "    <tr>\n",
       "      <th>3098</th>\n",
       "      <td>3099</td>\n",
       "      <td>A</td>\n",
       "      <td>10</td>\n",
       "      <td>NaN</td>\n",
       "      <td>343.79289</td>\n",
       "      <td>3469.50</td>\n",
       "      <td>237.13</td>\n",
       "      <td>4559.33</td>\n",
       "      <td>409.40</td>\n",
       "      <td>0.69</td>\n",
       "      <td>1725</td>\n",
       "      <td>150</td>\n",
       "    </tr>\n",
       "    <tr>\n",
       "      <th>3105</th>\n",
       "      <td>3106</td>\n",
       "      <td>A</td>\n",
       "      <td>10</td>\n",
       "      <td>NaN</td>\n",
       "      <td>424.34855</td>\n",
       "      <td>2258.16</td>\n",
       "      <td>150.21</td>\n",
       "      <td>5623.82</td>\n",
       "      <td>3480.14</td>\n",
       "      <td>1.56</td>\n",
       "      <td>1313</td>\n",
       "      <td>109</td>\n",
       "    </tr>\n",
       "    <tr>\n",
       "      <th>3109</th>\n",
       "      <td>3110</td>\n",
       "      <td>A</td>\n",
       "      <td>10</td>\n",
       "      <td>NaN</td>\n",
       "      <td>187.44936</td>\n",
       "      <td>590.29</td>\n",
       "      <td>186.36</td>\n",
       "      <td>3182.83</td>\n",
       "      <td>1094.62</td>\n",
       "      <td>2.06</td>\n",
       "      <td>2195</td>\n",
       "      <td>109</td>\n",
       "    </tr>\n",
       "  </tbody>\n",
       "</table>\n",
       "<p>700 rows × 12 columns</p>\n",
       "</div>"
      ],
      "text/plain": [
       "     user_id Group  Q1   Q2  Total Traffic(MB)  Downlink Throughput(Kbps)  \\\n",
       "15        16     A  10  NaN          767.54725                    1729.37   \n",
       "21        22     A  10  NaN          601.06519                    2135.92   \n",
       "25        26     A  10  NaN          360.59845                    3743.08   \n",
       "27        28     A  10  NaN          373.37642                     865.79   \n",
       "28        29     A  10  NaN          232.99499                     535.05   \n",
       "...      ...   ...  ..  ...                ...                        ...   \n",
       "3091    3092     A   9  NaN          335.35499                    1767.76   \n",
       "3092    3093     A  10  NaN          758.71809                    1512.61   \n",
       "3098    3099     A  10  NaN          343.79289                    3469.50   \n",
       "3105    3106     A  10  NaN          424.34855                    2258.16   \n",
       "3109    3110     A  10  NaN          187.44936                     590.29   \n",
       "\n",
       "      Uplink Throughput(Kbps)  Video Streaming Download Throughput(Kbps)  \\\n",
       "15                     107.94                                    2490.93   \n",
       "21                     120.55                                    7215.26   \n",
       "25                     250.93                                    5943.66   \n",
       "27                      82.03                                    1913.33   \n",
       "28                      71.64                                    1332.35   \n",
       "...                       ...                                        ...   \n",
       "3091                   104.68                                   10115.44   \n",
       "3092                   192.21                                     796.91   \n",
       "3098                   237.13                                    4559.33   \n",
       "3105                   150.21                                    5623.82   \n",
       "3109                   186.36                                    3182.83   \n",
       "\n",
       "      Web Page Download Throughput(Kbps)  Downlink TCP Retransmission Rate(%)  \\\n",
       "15                               2514.08                                 1.96   \n",
       "21                               1014.48                                 1.73   \n",
       "25                               2714.29                                 0.98   \n",
       "27                               1743.42                                 2.62   \n",
       "28                               3421.72                                 1.07   \n",
       "...                                  ...                                  ...   \n",
       "3091                              462.42                                 0.38   \n",
       "3092                              216.96                                 0.87   \n",
       "3098                              409.40                                 0.69   \n",
       "3105                             3480.14                                 1.56   \n",
       "3109                             1094.62                                 2.06   \n",
       "\n",
       "      Video Streaming xKB Start Delay(ms)  Web Average TCP RTT(ms)  \n",
       "15                                   1660                       92  \n",
       "21                                   1649                      231  \n",
       "25                                   2029                       61  \n",
       "27                                   2638                      122  \n",
       "28                                   3548                      110  \n",
       "...                                   ...                      ...  \n",
       "3091                                 1234                      164  \n",
       "3092                                 2567                      160  \n",
       "3098                                 1725                      150  \n",
       "3105                                 1313                      109  \n",
       "3109                                 2195                      109  \n",
       "\n",
       "[700 rows x 12 columns]"
      ]
     },
     "execution_count": 144,
     "metadata": {},
     "output_type": "execute_result"
    }
   ],
   "source": [
    "# Группа B\n",
    "df2_3 = data_Q1_Out[data_Q1_Out['Group'] == 'A']\n",
    "df2_3 = df2_3.drop_duplicates(subset='user_id')  # Устранение повторяющихся пользователей внутри групп\n",
    "df2_3\n"
   ]
  },
  {
   "cell_type": "code",
   "execution_count": 145,
   "metadata": {
    "scrolled": true
   },
   "outputs": [
    {
     "data": {
      "text/plain": [
       "Downlink Throughput(Kbps)              1876.485714\n",
       "Downlink TCP Retransmission Rate(%)       1.376914\n",
       "dtype: float64"
      ]
     },
     "execution_count": 145,
     "metadata": {},
     "output_type": "execute_result"
    }
   ],
   "source": [
    "mean_a = df2_3[['Downlink Throughput(Kbps)', 'Downlink TCP Retransmission Rate(%)']].mean()[1]\n",
    "df2_3[['Downlink Throughput(Kbps)', 'Downlink TCP Retransmission Rate(%)']].mean()\n"
   ]
  },
  {
   "cell_type": "code",
   "execution_count": 146,
   "metadata": {},
   "outputs": [
    {
     "data": {
      "text/plain": [
       "Downlink Throughput(Kbps)              1768.451985\n",
       "Downlink TCP Retransmission Rate(%)       1.605731\n",
       "dtype: float64"
      ]
     },
     "execution_count": 146,
     "metadata": {},
     "output_type": "execute_result"
    }
   ],
   "source": [
    "mean_bc = df2_2[['Downlink Throughput(Kbps)', 'Downlink TCP Retransmission Rate(%)']].mean()[1]\n",
    "df2_2[['Downlink Throughput(Kbps)', 'Downlink TCP Retransmission Rate(%)']].mean()\n"
   ]
  },
  {
   "cell_type": "markdown",
   "metadata": {},
   "source": [
    "**В виду того, что показатель Downlink Throughput(Kbps) — средняя скорость «к абоненту», считается по всему трафику передачи данных, т.е. основной трафик потребляет просмотр web-страниц и загрузка видео, также мы можем заметить, что рассматриваемое среднее выше в группе A, поэтому будем рассматривать показатель среднего Downlink TCP Retransmission Rate(%) — частота переотправок пакетов «к абоненту».**"
   ]
  },
  {
   "cell_type": "markdown",
   "metadata": {},
   "source": [
    "Построение гистограмм распределений рассматриваемых показателей"
   ]
  },
  {
   "cell_type": "code",
   "execution_count": 147,
   "metadata": {},
   "outputs": [
    {
     "data": {
      "text/plain": [
       "<function matplotlib.pyplot.show(close=None, block=None)>"
      ]
     },
     "execution_count": 147,
     "metadata": {},
     "output_type": "execute_result"
    },
    {
     "data": {
      "image/png": "[encoded data removed]",
      "text/plain": [
       "<Figure size 720x576 with 1 Axes>"
      ]
     },
     "metadata": {
      "needs_background": "light"
     },
     "output_type": "display_data"
    }
   ],
   "source": [
    "plt.figure(figsize=(10, 8))\n",
    "\n",
    "plt.hist(df2_2['Downlink TCP Retransmission Rate(%)'], bins=45, facecolor='m', \n",
    "             alpha=0.7, edgecolor='black', linewidth=1.2, label='Ответ на вопрос (Q2) - 1,2,3 (A)')\n",
    "plt.hist(df2_3['Downlink TCP Retransmission Rate(%)'], bins=45, facecolor='c', \n",
    "             alpha=0.3, edgecolor='black', linewidth=1.2, label='Полностью удовлетворенные пользователи (B)')\n",
    "plt.axvline(df2_2['Downlink TCP Retransmission Rate(%)'].mean(), \n",
    "            color='red', alpha=0.8,linestyle='dashed', \n",
    "            label='Среднее группы A: ' + str(round(df2_2['Downlink TCP Retransmission Rate(%)'].mean(), 2)))\n",
    "\n",
    "plt.axvline(df2_3['Downlink TCP Retransmission Rate(%)'].mean(), color='black', alpha=0.8,\n",
    "            linestyle='dashed', \n",
    "            label='Среднее группы B: ' + str(round(df2_3['Downlink TCP Retransmission Rate(%)'].mean(), 2)))\n",
    "\n",
    "plt.grid(True)\n",
    "plt.xlabel('Величина показателя')\n",
    "plt.ylabel('Количество наблюдений')\n",
    "plt.title('Распределенение величины Downlink TCP Retransmission Rate(%)')\n",
    "plt.legend(loc='upper right')\n",
    "plt.show\n",
    "    "
   ]
  },
  {
   "cell_type": "markdown",
   "metadata": {},
   "source": [
    "Попробуем использовать U-критерий Манна-Уитни.\n",
    "\n",
    "**U-критерий Манна-Уитни** - это непараметрический критерий статистической значимости для определения того, были ли взяты две независимые выборки из популяции с одинаковым распределением.\n",
    "\n",
    "Два образца объединяются и ранжируются вместе. Стратегия состоит в том, чтобы определить, являются ли значения из двух выборок случайно смешанными в порядке ранжирования или они объединены в противоположные концы при объединении. Случайный порядок ранга будет означать, что две выборки не отличаются, в то время как кластер значений одной выборки будет указывать на разницу между ними.\n",
    "\n",
    "Предположение по умолчанию или нулевая гипотеза заключается в том, что нет различий между распределениями выборок данных. Отказ от этой гипотезы позволяет предположить, что между образцами, вероятно, существует некоторое различие. Более конкретно, тест определяет, одинаково ли вероятно, что любое случайно выбранное наблюдение из одной выборки будет больше или меньше, чем выборка из другого распределения. Если нарушено, это предлагает отличающиеся распределения.\n",
    "\n",
    "Не в состоянии отклонить H0: Распределения выборки равны.\n",
    "Отклонить H0: Распределения выборки не равны.\n",
    "Для того чтобы тест был эффективным, требуется не менее 20 наблюдений в каждой выборке данных."
   ]
  },
  {
   "cell_type": "code",
   "execution_count": 148,
   "metadata": {
    "scrolled": true
   },
   "outputs": [
    {
     "name": "stdout",
     "output_type": "stream",
     "text": [
      "Statistics=205913.500, p=0.000\n",
      "Разные распределения (Гипотеза H0 отклоняется)\n"
     ]
    }
   ],
   "source": [
    "from scipy.stats import mannwhitneyu\n",
    "\n",
    "stat, p = mannwhitneyu(df2_2['Downlink TCP Retransmission Rate(%)'].values, \n",
    "                       df2_3['Downlink TCP Retransmission Rate(%)'].values)\n",
    "print('Statistics=%.3f, p=%.3f' % (stat, p))\n",
    "\n",
    "alpha = 0.05\n",
    "if p > alpha:\n",
    "    print('Одинаковые распределения (Нет оснований отклонить гипотезу H0)')\n",
    "else:\n",
    "    print('Разные распределения (Гипотеза H0 отклоняется)')\n",
    "    "
   ]
  },
  {
   "cell_type": "markdown",
   "metadata": {},
   "source": [
    "Т.к. размеры выборок не равны, а также количество наблюдений велико (670 и 700), однозначно воспринимать правильность критерия мы не можем"
   ]
  },
  {
   "cell_type": "markdown",
   "metadata": {},
   "source": [
    "При сумме размеров выборок >60 U-статистика аппроксимируется нормальным распределением\n",
    "\n",
    "Также мы рассматриваем выборки разного размера, следовательно будем применять бутстреп для генерации выборок одинакового размера"
   ]
  },
  {
   "cell_type": "markdown",
   "metadata": {},
   "source": [
    "**Рассматривается нулевая гипотеза о равенстве рассматриваемых средних Генеральных совокупностей, \n",
    "Альтернативная гипотеза - рассматриваемые средние не равны \n",
    "(Предполагается что среднее группы B < среднее группы A, т.к. больше - хуже)**"
   ]
  },
  {
   "cell_type": "code",
   "execution_count": 149,
   "metadata": {},
   "outputs": [
    {
     "data": {
      "text/plain": [
       "0.22881705756929804"
      ]
     },
     "execution_count": 149,
     "metadata": {},
     "output_type": "execute_result"
    }
   ],
   "source": [
    "mean_diff = mean_bc - mean_a # Изначально заданная (имеющаяся) разница\n",
    "mean_diff\n"
   ]
  },
  {
   "cell_type": "code",
   "execution_count": 150,
   "metadata": {},
   "outputs": [],
   "source": [
    "differences = np.zeros((1, 1500)) # Пустой массив для заполнения полученными разницами\n"
   ]
  },
  {
   "cell_type": "code",
   "execution_count": 151,
   "metadata": {
    "scrolled": true
   },
   "outputs": [
    {
     "name": "stdout",
     "output_type": "stream",
     "text": [
      "Интервал группы A (1.475,1.595) пересекается с группой B (1.373,1.481) \n",
      "Интервал группы A (1.449,1.569) пересекается с группой B (1.373,1.483) \n",
      "Интервал группы A (1.463,1.585) пересекается с группой B (1.371,1.483) \n",
      "Интервал группы A (1.465,1.586) пересекается с группой B (1.37,1.481) \n",
      "Интервал группы A (1.481,1.606) пересекается с группой B (1.406,1.517) \n",
      "Число случаев, когда интервал группы B левее, чем интервал группы A:  1494\n"
     ]
    }
   ],
   "source": [
    "confidence = 0.95 \n",
    "count = 0\n",
    "intervallist = []\n",
    "intervallist1 = []\n",
    "\n",
    "\n",
    "for i in range(0, 1500): # Применение бустрэпа 1500 раз\n",
    "    s1 = random.choices(df2_2['Downlink TCP Retransmission Rate(%)'].values, k=1000)\n",
    "    s2 = random.choices(df2_3['Downlink TCP Retransmission Rate(%)'].values, k=1000)\n",
    "    m1 = np.mean(s1)\n",
    "    m2 = np.mean(s2)\n",
    "    n = len(s1)\n",
    "    se1 =  st.sem(s1)\n",
    "    se2 = st.sem(s2)\n",
    "    h1 = se1 * st.t._ppf((1+confidence)/2., n-1)\n",
    "    h2 = se2 * st.t._ppf((1+confidence)/2., n-1)\n",
    "    differences[0][i] = m1 - m2\n",
    "    l1, r1, l2, r2 = round(m1-h1, 3), round(m1+h1, 3), round(m2-h2,3), round(m2+h2, 3) \n",
    "    # Левая и правая граница интервалов\n",
    "    \n",
    "    if (l2<l1<r2<r1) or (l1<l2<r2<r1) or (l2<l1<r1<r2) or (l1<l2<r1<r2): #пересечение интервалов\n",
    "        print('Интервал группы A ({},{}) пересекается с группой B ({},{}) '.format(l1,r1,l2,r2)) \n",
    "        # Выводим значения интервалов, если они пересекаются\n",
    "        intervallist.append([m1-h1,m1,m1+h1])\n",
    "        intervallist1.append([m2-h2,m2,m2+h2])\n",
    "    if (l2<r2<l1<r1):\n",
    "        count += 1 # Считаем число случаев, когда доверительный интервал группы B меньше, \n",
    "        #чем интервал группы A\n",
    "        \n",
    "print('Число случаев, когда интервал группы B левее, чем интервал группы A: ',count)\n"
   ]
  },
  {
   "cell_type": "markdown",
   "metadata": {},
   "source": [
    "Графическое отображение пересекающихся интервалов"
   ]
  },
  {
   "cell_type": "code",
   "execution_count": 152,
   "metadata": {},
   "outputs": [
    {
     "data": {
      "image/png": "[encoded data removed]",
      "text/plain": [
       "<Figure size 1440x720 with 1 Axes>"
      ]
     },
     "metadata": {
      "needs_background": "light"
     },
     "output_type": "display_data"
    }
   ],
   "source": [
    "plt.figure(figsize=(20,10))\n",
    "bp1 = plt.boxplot(intervallist, patch_artist=True)\n",
    "bp2 = plt.boxplot(intervallist1, patch_artist=True)\n",
    "for box in bp1['boxes']:\n",
    "    box.set(facecolor = 'lightgreen')\n",
    "for box in bp2['boxes']:\n",
    "    box.set(facecolor = 'pink' )\n",
    "    \n",
    "plt.legend([bp1[\"boxes\"][0], bp2[\"boxes\"][0]], ['Группа A', 'Группа B'], loc='upper right')\n",
    "plt.xlabel('Случаи пересечения')\n",
    "plt.ylabel('Величина показателя')\n",
    "plt.title('Пересечение доверительных интервалов величины Downlink TCP Retransmission Rate(%)')\n",
    "plt.show()\n"
   ]
  },
  {
   "cell_type": "markdown",
   "metadata": {},
   "source": [
    "Даже при таком малом количестве пересечений, можем сделать вывод, что такие пересечения доверительных интервалов незначительные."
   ]
  },
  {
   "cell_type": "code",
   "execution_count": 153,
   "metadata": {},
   "outputs": [
    {
     "data": {
      "text/plain": [
       "0"
      ]
     },
     "execution_count": 153,
     "metadata": {},
     "output_type": "execute_result"
    }
   ],
   "source": [
    "((differences - np.mean(differences)) >= mean_diff).sum() \n",
    "# В скольких случаях значения центрированного вектора превосходит заданную разницу (p-value)\n"
   ]
  },
  {
   "cell_type": "markdown",
   "metadata": {},
   "source": [
    "P-value = 0 -> меньше чем любой разумный уровень значимости -> нулевая гипотеза о равенстве средних отклоняется -> Разница есть "
   ]
  },
  {
   "cell_type": "code",
   "execution_count": 154,
   "metadata": {
    "scrolled": false
   },
   "outputs": [
    {
     "data": {
      "text/html": [
       "<div>\n",
       "<style scoped>\n",
       "    .dataframe tbody tr th:only-of-type {\n",
       "        vertical-align: middle;\n",
       "    }\n",
       "\n",
       "    .dataframe tbody tr th {\n",
       "        vertical-align: top;\n",
       "    }\n",
       "\n",
       "    .dataframe thead th {\n",
       "        text-align: right;\n",
       "    }\n",
       "</style>\n",
       "<table border=\"1\" class=\"dataframe\">\n",
       "  <thead>\n",
       "    <tr style=\"text-align: right;\">\n",
       "      <th></th>\n",
       "      <th>differences</th>\n",
       "    </tr>\n",
       "  </thead>\n",
       "  <tbody>\n",
       "    <tr>\n",
       "      <th>0</th>\n",
       "      <td>0.25210</td>\n",
       "    </tr>\n",
       "    <tr>\n",
       "      <th>1</th>\n",
       "      <td>0.24758</td>\n",
       "    </tr>\n",
       "    <tr>\n",
       "      <th>2</th>\n",
       "      <td>0.19313</td>\n",
       "    </tr>\n",
       "    <tr>\n",
       "      <th>3</th>\n",
       "      <td>0.23259</td>\n",
       "    </tr>\n",
       "    <tr>\n",
       "      <th>4</th>\n",
       "      <td>0.27980</td>\n",
       "    </tr>\n",
       "    <tr>\n",
       "      <th>...</th>\n",
       "      <td>...</td>\n",
       "    </tr>\n",
       "    <tr>\n",
       "      <th>1495</th>\n",
       "      <td>0.24981</td>\n",
       "    </tr>\n",
       "    <tr>\n",
       "      <th>1496</th>\n",
       "      <td>0.27391</td>\n",
       "    </tr>\n",
       "    <tr>\n",
       "      <th>1497</th>\n",
       "      <td>0.27178</td>\n",
       "    </tr>\n",
       "    <tr>\n",
       "      <th>1498</th>\n",
       "      <td>0.18298</td>\n",
       "    </tr>\n",
       "    <tr>\n",
       "      <th>1499</th>\n",
       "      <td>0.29037</td>\n",
       "    </tr>\n",
       "  </tbody>\n",
       "</table>\n",
       "<p>1500 rows × 1 columns</p>\n",
       "</div>"
      ],
      "text/plain": [
       "      differences\n",
       "0         0.25210\n",
       "1         0.24758\n",
       "2         0.19313\n",
       "3         0.23259\n",
       "4         0.27980\n",
       "...           ...\n",
       "1495      0.24981\n",
       "1496      0.27391\n",
       "1497      0.27178\n",
       "1498      0.18298\n",
       "1499      0.29037\n",
       "\n",
       "[1500 rows x 1 columns]"
      ]
     },
     "execution_count": 154,
     "metadata": {},
     "output_type": "execute_result"
    }
   ],
   "source": [
    "df_diff = pd.DataFrame(differences).transpose() # Датафрейм разницы средних для построения графика\n",
    "df_diff.columns = ['differences']\n",
    "df_diff\n"
   ]
  },
  {
   "cell_type": "code",
   "execution_count": 155,
   "metadata": {
    "scrolled": false
   },
   "outputs": [
    {
     "data": {
      "text/plain": [
       "<function matplotlib.pyplot.show(close=None, block=None)>"
      ]
     },
     "execution_count": 155,
     "metadata": {},
     "output_type": "execute_result"
    },
    {
     "data": {
      "image/png": "[encoded data removed]",
      "text/plain": [
       "<Figure size 936x576 with 1 Axes>"
      ]
     },
     "metadata": {
      "needs_background": "light"
     },
     "output_type": "display_data"
    }
   ],
   "source": [
    "plt.figure(figsize=(13, 8)) # Построение гистограммы полученного распределения\n",
    "plt.hist(df_diff, bins=45, facecolor='lightblue', alpha=0.75, edgecolor='black', linewidth=1.2)\n",
    "plt.grid(True)\n",
    "plt.xlabel('Величина показателя')\n",
    "plt.ylabel('Количество наблюдений')\n",
    "plt.title('Распределение разницы средних для рассматриваемых групп')\n",
    "plt.show\n",
    "\n",
    "# Распределение напоминает нормальное\n"
   ]
  },
  {
   "cell_type": "markdown",
   "metadata": {},
   "source": [
    "Применим Тест Шапиро-Уилка для проверки нулевой гипотезы о том, что выборка разницы средних произошла из нормально распределенной ГС, что позволяет удостовериться в правильности выводов\n",
    "\n",
    "Нулевая гипотеза - ГС полученной выборки распределена нормально, альтернативная - распределение отличается от нормального"
   ]
  },
  {
   "cell_type": "code",
   "execution_count": 156,
   "metadata": {},
   "outputs": [
    {
     "name": "stdout",
     "output_type": "stream",
     "text": [
      "p_value:  0.40575164556503296\n"
     ]
    }
   ],
   "source": [
    "res = st.shapiro((df_diff))\n",
    "print('p_value: ', res[1])\n"
   ]
  },
  {
   "cell_type": "markdown",
   "metadata": {},
   "source": [
    "Полученное p_value сильно больше любого допустимого уровня значимости (p = 0.05 в нашем случае) -> Нет оснований отклонить гипотезу о нормальности распределения"
   ]
  },
  {
   "cell_type": "markdown",
   "metadata": {},
   "source": [
    "**На основании произведенных расчетов и тестов можем сделать вывод, что показатель Downlink TCP Retransmission Rate(%) — частота переотправок пакетов «к абоненту», статистически различается (значимо больше у пользователей рассматриваемой группы A (Q2-1,2,3) ГС, чем у пользоваталей, довольных качеством).**"
   ]
  },
  {
   "cell_type": "code",
   "execution_count": null,
   "metadata": {},
   "outputs": [],
   "source": []
  },
  {
   "cell_type": "markdown",
   "metadata": {},
   "source": [
    "### Проверяем гипотезу относительно разницы средних показателя Downlink Throughput(Kbps) (средняя скорость «к абоненту») между группами пользоваталей A и B (возьмем совершенно разные аспекты связи, использующие один и тот же показатель) ###\n",
    "\n"
   ]
  },
  {
   "cell_type": "markdown",
   "metadata": {},
   "source": [
    "**Группа A - пользователи, ответившие на второй вопрос (Q2) - 3: Плохое качество связи в зданиях, тц и т.д.; Группа B - пользователи, ответившие на второй вопрос (Q2) - 4: Медленный мобильный интернет**"
   ]
  },
  {
   "cell_type": "code",
   "execution_count": 157,
   "metadata": {},
   "outputs": [
    {
     "data": {
      "text/html": [
       "<div>\n",
       "<style scoped>\n",
       "    .dataframe tbody tr th:only-of-type {\n",
       "        vertical-align: middle;\n",
       "    }\n",
       "\n",
       "    .dataframe tbody tr th {\n",
       "        vertical-align: top;\n",
       "    }\n",
       "\n",
       "    .dataframe thead th {\n",
       "        text-align: right;\n",
       "    }\n",
       "</style>\n",
       "<table border=\"1\" class=\"dataframe\">\n",
       "  <thead>\n",
       "    <tr style=\"text-align: right;\">\n",
       "      <th></th>\n",
       "      <th>user_id</th>\n",
       "      <th>Group</th>\n",
       "      <th>Q1</th>\n",
       "      <th>Q2</th>\n",
       "      <th>Total Traffic(MB)</th>\n",
       "      <th>Downlink Throughput(Kbps)</th>\n",
       "      <th>Uplink Throughput(Kbps)</th>\n",
       "      <th>Video Streaming Download Throughput(Kbps)</th>\n",
       "      <th>Web Page Download Throughput(Kbps)</th>\n",
       "      <th>Downlink TCP Retransmission Rate(%)</th>\n",
       "      <th>Video Streaming xKB Start Delay(ms)</th>\n",
       "      <th>Web Average TCP RTT(ms)</th>\n",
       "    </tr>\n",
       "  </thead>\n",
       "  <tbody>\n",
       "    <tr>\n",
       "      <th>1</th>\n",
       "      <td>4</td>\n",
       "      <td>B</td>\n",
       "      <td>8</td>\n",
       "      <td>3</td>\n",
       "      <td>179.18564</td>\n",
       "      <td>2590.97</td>\n",
       "      <td>325.88</td>\n",
       "      <td>7053.81</td>\n",
       "      <td>1221.02</td>\n",
       "      <td>0.80</td>\n",
       "      <td>3218</td>\n",
       "      <td>51</td>\n",
       "    </tr>\n",
       "    <tr>\n",
       "      <th>13</th>\n",
       "      <td>11</td>\n",
       "      <td>C</td>\n",
       "      <td>3</td>\n",
       "      <td>3</td>\n",
       "      <td>526.08652</td>\n",
       "      <td>535.54</td>\n",
       "      <td>208.67</td>\n",
       "      <td>2621.14</td>\n",
       "      <td>2376.50</td>\n",
       "      <td>1.46</td>\n",
       "      <td>1479</td>\n",
       "      <td>88</td>\n",
       "    </tr>\n",
       "    <tr>\n",
       "      <th>16</th>\n",
       "      <td>19</td>\n",
       "      <td>B</td>\n",
       "      <td>7</td>\n",
       "      <td>3</td>\n",
       "      <td>811.55618</td>\n",
       "      <td>460.32</td>\n",
       "      <td>65.20</td>\n",
       "      <td>1583.27</td>\n",
       "      <td>1587.16</td>\n",
       "      <td>1.50</td>\n",
       "      <td>1340</td>\n",
       "      <td>57</td>\n",
       "    </tr>\n",
       "    <tr>\n",
       "      <th>31</th>\n",
       "      <td>50</td>\n",
       "      <td>C</td>\n",
       "      <td>2</td>\n",
       "      <td>3</td>\n",
       "      <td>453.12793</td>\n",
       "      <td>3325.86</td>\n",
       "      <td>167.74</td>\n",
       "      <td>11702.86</td>\n",
       "      <td>2455.82</td>\n",
       "      <td>0.59</td>\n",
       "      <td>1212</td>\n",
       "      <td>40</td>\n",
       "    </tr>\n",
       "    <tr>\n",
       "      <th>35</th>\n",
       "      <td>53</td>\n",
       "      <td>B</td>\n",
       "      <td>6</td>\n",
       "      <td>3</td>\n",
       "      <td>168.11047</td>\n",
       "      <td>2031.20</td>\n",
       "      <td>164.31</td>\n",
       "      <td>5234.92</td>\n",
       "      <td>1665.56</td>\n",
       "      <td>0.71</td>\n",
       "      <td>1838</td>\n",
       "      <td>95</td>\n",
       "    </tr>\n",
       "    <tr>\n",
       "      <th>...</th>\n",
       "      <td>...</td>\n",
       "      <td>...</td>\n",
       "      <td>...</td>\n",
       "      <td>...</td>\n",
       "      <td>...</td>\n",
       "      <td>...</td>\n",
       "      <td>...</td>\n",
       "      <td>...</td>\n",
       "      <td>...</td>\n",
       "      <td>...</td>\n",
       "      <td>...</td>\n",
       "      <td>...</td>\n",
       "    </tr>\n",
       "    <tr>\n",
       "      <th>2705</th>\n",
       "      <td>3095</td>\n",
       "      <td>C</td>\n",
       "      <td>3</td>\n",
       "      <td>3</td>\n",
       "      <td>566.73519</td>\n",
       "      <td>3477.18</td>\n",
       "      <td>124.84</td>\n",
       "      <td>5427.74</td>\n",
       "      <td>2410.91</td>\n",
       "      <td>0.76</td>\n",
       "      <td>1188</td>\n",
       "      <td>145</td>\n",
       "    </tr>\n",
       "    <tr>\n",
       "      <th>2718</th>\n",
       "      <td>3101</td>\n",
       "      <td>C</td>\n",
       "      <td>2</td>\n",
       "      <td>4</td>\n",
       "      <td>248.99905</td>\n",
       "      <td>2347.42</td>\n",
       "      <td>309.08</td>\n",
       "      <td>5001.39</td>\n",
       "      <td>1837.79</td>\n",
       "      <td>1.64</td>\n",
       "      <td>1394</td>\n",
       "      <td>83</td>\n",
       "    </tr>\n",
       "    <tr>\n",
       "      <th>2719</th>\n",
       "      <td>3102</td>\n",
       "      <td>B</td>\n",
       "      <td>8</td>\n",
       "      <td>4</td>\n",
       "      <td>189.14150</td>\n",
       "      <td>2432.18</td>\n",
       "      <td>72.80</td>\n",
       "      <td>2152.91</td>\n",
       "      <td>1410.52</td>\n",
       "      <td>0.70</td>\n",
       "      <td>2719</td>\n",
       "      <td>289</td>\n",
       "    </tr>\n",
       "    <tr>\n",
       "      <th>2727</th>\n",
       "      <td>3108</td>\n",
       "      <td>C</td>\n",
       "      <td>3</td>\n",
       "      <td>4</td>\n",
       "      <td>519.96475</td>\n",
       "      <td>1045.70</td>\n",
       "      <td>44.61</td>\n",
       "      <td>4523.66</td>\n",
       "      <td>1044.66</td>\n",
       "      <td>0.47</td>\n",
       "      <td>1468</td>\n",
       "      <td>304</td>\n",
       "    </tr>\n",
       "    <tr>\n",
       "      <th>2735</th>\n",
       "      <td>3111</td>\n",
       "      <td>B</td>\n",
       "      <td>6</td>\n",
       "      <td>3</td>\n",
       "      <td>827.74515</td>\n",
       "      <td>1841.90</td>\n",
       "      <td>373.53</td>\n",
       "      <td>5675.93</td>\n",
       "      <td>2361.88</td>\n",
       "      <td>1.21</td>\n",
       "      <td>1905</td>\n",
       "      <td>202</td>\n",
       "    </tr>\n",
       "  </tbody>\n",
       "</table>\n",
       "<p>443 rows × 12 columns</p>\n",
       "</div>"
      ],
      "text/plain": [
       "     user_id Group Q1 Q2  Total Traffic(MB)  Downlink Throughput(Kbps)  \\\n",
       "1          4     B  8  3          179.18564                    2590.97   \n",
       "13        11     C  3  3          526.08652                     535.54   \n",
       "16        19     B  7  3          811.55618                     460.32   \n",
       "31        50     C  2  3          453.12793                    3325.86   \n",
       "35        53     B  6  3          168.11047                    2031.20   \n",
       "...      ...   ... .. ..                ...                        ...   \n",
       "2705    3095     C  3  3          566.73519                    3477.18   \n",
       "2718    3101     C  2  4          248.99905                    2347.42   \n",
       "2719    3102     B  8  4          189.14150                    2432.18   \n",
       "2727    3108     C  3  4          519.96475                    1045.70   \n",
       "2735    3111     B  6  3          827.74515                    1841.90   \n",
       "\n",
       "      Uplink Throughput(Kbps)  Video Streaming Download Throughput(Kbps)  \\\n",
       "1                      325.88                                    7053.81   \n",
       "13                     208.67                                    2621.14   \n",
       "16                      65.20                                    1583.27   \n",
       "31                     167.74                                   11702.86   \n",
       "35                     164.31                                    5234.92   \n",
       "...                       ...                                        ...   \n",
       "2705                   124.84                                    5427.74   \n",
       "2718                   309.08                                    5001.39   \n",
       "2719                    72.80                                    2152.91   \n",
       "2727                    44.61                                    4523.66   \n",
       "2735                   373.53                                    5675.93   \n",
       "\n",
       "      Web Page Download Throughput(Kbps)  Downlink TCP Retransmission Rate(%)  \\\n",
       "1                                1221.02                                 0.80   \n",
       "13                               2376.50                                 1.46   \n",
       "16                               1587.16                                 1.50   \n",
       "31                               2455.82                                 0.59   \n",
       "35                               1665.56                                 0.71   \n",
       "...                                  ...                                  ...   \n",
       "2705                             2410.91                                 0.76   \n",
       "2718                             1837.79                                 1.64   \n",
       "2719                             1410.52                                 0.70   \n",
       "2727                             1044.66                                 0.47   \n",
       "2735                             2361.88                                 1.21   \n",
       "\n",
       "      Video Streaming xKB Start Delay(ms)  Web Average TCP RTT(ms)  \n",
       "1                                    3218                       51  \n",
       "13                                   1479                       88  \n",
       "16                                   1340                       57  \n",
       "31                                   1212                       40  \n",
       "35                                   1838                       95  \n",
       "...                                   ...                      ...  \n",
       "2705                                 1188                      145  \n",
       "2718                                 1394                       83  \n",
       "2719                                 2719                      289  \n",
       "2727                                 1468                      304  \n",
       "2735                                 1905                      202  \n",
       "\n",
       "[443 rows x 12 columns]"
      ]
     },
     "execution_count": 157,
     "metadata": {},
     "output_type": "execute_result"
    }
   ],
   "source": [
    "# Рассматриваются независимые наблюдения в двух группах (исключаются повторяющиеся пользователи)\n",
    "\n",
    "mass = data_Q2[(data_Q2['Q2'] == '3') | (data_Q2['Q2'] == '4')]\n",
    "indexes = pd.DataFrame(mass['user_id'].value_counts())\n",
    "indexes = indexes[indexes['user_id'] != 1].index\n",
    "mass['user_id'] = [np.NaN if elem in indexes else elem for elem in mass['user_id']]\n",
    "mass = mass.dropna()\n",
    "mass\n"
   ]
  },
  {
   "cell_type": "code",
   "execution_count": 158,
   "metadata": {},
   "outputs": [
    {
     "data": {
      "text/html": [
       "<div>\n",
       "<style scoped>\n",
       "    .dataframe tbody tr th:only-of-type {\n",
       "        vertical-align: middle;\n",
       "    }\n",
       "\n",
       "    .dataframe tbody tr th {\n",
       "        vertical-align: top;\n",
       "    }\n",
       "\n",
       "    .dataframe thead th {\n",
       "        text-align: right;\n",
       "    }\n",
       "</style>\n",
       "<table border=\"1\" class=\"dataframe\">\n",
       "  <thead>\n",
       "    <tr style=\"text-align: right;\">\n",
       "      <th></th>\n",
       "      <th>user_id</th>\n",
       "      <th>Group</th>\n",
       "      <th>Q1</th>\n",
       "      <th>Q2</th>\n",
       "      <th>Total Traffic(MB)</th>\n",
       "      <th>Downlink Throughput(Kbps)</th>\n",
       "      <th>Uplink Throughput(Kbps)</th>\n",
       "      <th>Video Streaming Download Throughput(Kbps)</th>\n",
       "      <th>Web Page Download Throughput(Kbps)</th>\n",
       "      <th>Downlink TCP Retransmission Rate(%)</th>\n",
       "      <th>Video Streaming xKB Start Delay(ms)</th>\n",
       "      <th>Web Average TCP RTT(ms)</th>\n",
       "    </tr>\n",
       "  </thead>\n",
       "  <tbody>\n",
       "    <tr>\n",
       "      <th>1</th>\n",
       "      <td>4</td>\n",
       "      <td>B</td>\n",
       "      <td>8</td>\n",
       "      <td>3</td>\n",
       "      <td>179.18564</td>\n",
       "      <td>2590.97</td>\n",
       "      <td>325.88</td>\n",
       "      <td>7053.81</td>\n",
       "      <td>1221.02</td>\n",
       "      <td>0.80</td>\n",
       "      <td>3218</td>\n",
       "      <td>51</td>\n",
       "    </tr>\n",
       "    <tr>\n",
       "      <th>13</th>\n",
       "      <td>11</td>\n",
       "      <td>C</td>\n",
       "      <td>3</td>\n",
       "      <td>3</td>\n",
       "      <td>526.08652</td>\n",
       "      <td>535.54</td>\n",
       "      <td>208.67</td>\n",
       "      <td>2621.14</td>\n",
       "      <td>2376.50</td>\n",
       "      <td>1.46</td>\n",
       "      <td>1479</td>\n",
       "      <td>88</td>\n",
       "    </tr>\n",
       "    <tr>\n",
       "      <th>16</th>\n",
       "      <td>19</td>\n",
       "      <td>B</td>\n",
       "      <td>7</td>\n",
       "      <td>3</td>\n",
       "      <td>811.55618</td>\n",
       "      <td>460.32</td>\n",
       "      <td>65.20</td>\n",
       "      <td>1583.27</td>\n",
       "      <td>1587.16</td>\n",
       "      <td>1.50</td>\n",
       "      <td>1340</td>\n",
       "      <td>57</td>\n",
       "    </tr>\n",
       "    <tr>\n",
       "      <th>31</th>\n",
       "      <td>50</td>\n",
       "      <td>C</td>\n",
       "      <td>2</td>\n",
       "      <td>3</td>\n",
       "      <td>453.12793</td>\n",
       "      <td>3325.86</td>\n",
       "      <td>167.74</td>\n",
       "      <td>11702.86</td>\n",
       "      <td>2455.82</td>\n",
       "      <td>0.59</td>\n",
       "      <td>1212</td>\n",
       "      <td>40</td>\n",
       "    </tr>\n",
       "    <tr>\n",
       "      <th>35</th>\n",
       "      <td>53</td>\n",
       "      <td>B</td>\n",
       "      <td>6</td>\n",
       "      <td>3</td>\n",
       "      <td>168.11047</td>\n",
       "      <td>2031.20</td>\n",
       "      <td>164.31</td>\n",
       "      <td>5234.92</td>\n",
       "      <td>1665.56</td>\n",
       "      <td>0.71</td>\n",
       "      <td>1838</td>\n",
       "      <td>95</td>\n",
       "    </tr>\n",
       "    <tr>\n",
       "      <th>...</th>\n",
       "      <td>...</td>\n",
       "      <td>...</td>\n",
       "      <td>...</td>\n",
       "      <td>...</td>\n",
       "      <td>...</td>\n",
       "      <td>...</td>\n",
       "      <td>...</td>\n",
       "      <td>...</td>\n",
       "      <td>...</td>\n",
       "      <td>...</td>\n",
       "      <td>...</td>\n",
       "      <td>...</td>\n",
       "    </tr>\n",
       "    <tr>\n",
       "      <th>2686</th>\n",
       "      <td>3067</td>\n",
       "      <td>B</td>\n",
       "      <td>5</td>\n",
       "      <td>3</td>\n",
       "      <td>136.63347</td>\n",
       "      <td>1272.06</td>\n",
       "      <td>140.17</td>\n",
       "      <td>2328.40</td>\n",
       "      <td>1248.35</td>\n",
       "      <td>3.16</td>\n",
       "      <td>2647</td>\n",
       "      <td>361</td>\n",
       "    </tr>\n",
       "    <tr>\n",
       "      <th>2687</th>\n",
       "      <td>3071</td>\n",
       "      <td>B</td>\n",
       "      <td>8</td>\n",
       "      <td>3</td>\n",
       "      <td>741.69656</td>\n",
       "      <td>498.88</td>\n",
       "      <td>73.80</td>\n",
       "      <td>1201.63</td>\n",
       "      <td>679.58</td>\n",
       "      <td>0.76</td>\n",
       "      <td>3633</td>\n",
       "      <td>251</td>\n",
       "    </tr>\n",
       "    <tr>\n",
       "      <th>2688</th>\n",
       "      <td>3073</td>\n",
       "      <td>C</td>\n",
       "      <td>2</td>\n",
       "      <td>3</td>\n",
       "      <td>358.79580</td>\n",
       "      <td>1604.98</td>\n",
       "      <td>223.12</td>\n",
       "      <td>8640.89</td>\n",
       "      <td>1601.76</td>\n",
       "      <td>1.08</td>\n",
       "      <td>1102</td>\n",
       "      <td>70</td>\n",
       "    </tr>\n",
       "    <tr>\n",
       "      <th>2705</th>\n",
       "      <td>3095</td>\n",
       "      <td>C</td>\n",
       "      <td>3</td>\n",
       "      <td>3</td>\n",
       "      <td>566.73519</td>\n",
       "      <td>3477.18</td>\n",
       "      <td>124.84</td>\n",
       "      <td>5427.74</td>\n",
       "      <td>2410.91</td>\n",
       "      <td>0.76</td>\n",
       "      <td>1188</td>\n",
       "      <td>145</td>\n",
       "    </tr>\n",
       "    <tr>\n",
       "      <th>2735</th>\n",
       "      <td>3111</td>\n",
       "      <td>B</td>\n",
       "      <td>6</td>\n",
       "      <td>3</td>\n",
       "      <td>827.74515</td>\n",
       "      <td>1841.90</td>\n",
       "      <td>373.53</td>\n",
       "      <td>5675.93</td>\n",
       "      <td>2361.88</td>\n",
       "      <td>1.21</td>\n",
       "      <td>1905</td>\n",
       "      <td>202</td>\n",
       "    </tr>\n",
       "  </tbody>\n",
       "</table>\n",
       "<p>268 rows × 12 columns</p>\n",
       "</div>"
      ],
      "text/plain": [
       "     user_id Group Q1 Q2  Total Traffic(MB)  Downlink Throughput(Kbps)  \\\n",
       "1          4     B  8  3          179.18564                    2590.97   \n",
       "13        11     C  3  3          526.08652                     535.54   \n",
       "16        19     B  7  3          811.55618                     460.32   \n",
       "31        50     C  2  3          453.12793                    3325.86   \n",
       "35        53     B  6  3          168.11047                    2031.20   \n",
       "...      ...   ... .. ..                ...                        ...   \n",
       "2686    3067     B  5  3          136.63347                    1272.06   \n",
       "2687    3071     B  8  3          741.69656                     498.88   \n",
       "2688    3073     C  2  3          358.79580                    1604.98   \n",
       "2705    3095     C  3  3          566.73519                    3477.18   \n",
       "2735    3111     B  6  3          827.74515                    1841.90   \n",
       "\n",
       "      Uplink Throughput(Kbps)  Video Streaming Download Throughput(Kbps)  \\\n",
       "1                      325.88                                    7053.81   \n",
       "13                     208.67                                    2621.14   \n",
       "16                      65.20                                    1583.27   \n",
       "31                     167.74                                   11702.86   \n",
       "35                     164.31                                    5234.92   \n",
       "...                       ...                                        ...   \n",
       "2686                   140.17                                    2328.40   \n",
       "2687                    73.80                                    1201.63   \n",
       "2688                   223.12                                    8640.89   \n",
       "2705                   124.84                                    5427.74   \n",
       "2735                   373.53                                    5675.93   \n",
       "\n",
       "      Web Page Download Throughput(Kbps)  Downlink TCP Retransmission Rate(%)  \\\n",
       "1                                1221.02                                 0.80   \n",
       "13                               2376.50                                 1.46   \n",
       "16                               1587.16                                 1.50   \n",
       "31                               2455.82                                 0.59   \n",
       "35                               1665.56                                 0.71   \n",
       "...                                  ...                                  ...   \n",
       "2686                             1248.35                                 3.16   \n",
       "2687                              679.58                                 0.76   \n",
       "2688                             1601.76                                 1.08   \n",
       "2705                             2410.91                                 0.76   \n",
       "2735                             2361.88                                 1.21   \n",
       "\n",
       "      Video Streaming xKB Start Delay(ms)  Web Average TCP RTT(ms)  \n",
       "1                                    3218                       51  \n",
       "13                                   1479                       88  \n",
       "16                                   1340                       57  \n",
       "31                                   1212                       40  \n",
       "35                                   1838                       95  \n",
       "...                                   ...                      ...  \n",
       "2686                                 2647                      361  \n",
       "2687                                 3633                      251  \n",
       "2688                                 1102                       70  \n",
       "2705                                 1188                      145  \n",
       "2735                                 1905                      202  \n",
       "\n",
       "[268 rows x 12 columns]"
      ]
     },
     "execution_count": 158,
     "metadata": {},
     "output_type": "execute_result"
    }
   ],
   "source": [
    "# Группа A\n",
    "df3_2 = mass[(mass['Q2'] == '3')]  # Интересующие нас пользователи\n",
    "df3_2\n"
   ]
  },
  {
   "cell_type": "code",
   "execution_count": 159,
   "metadata": {
    "scrolled": false
   },
   "outputs": [
    {
     "data": {
      "text/html": [
       "<div>\n",
       "<style scoped>\n",
       "    .dataframe tbody tr th:only-of-type {\n",
       "        vertical-align: middle;\n",
       "    }\n",
       "\n",
       "    .dataframe tbody tr th {\n",
       "        vertical-align: top;\n",
       "    }\n",
       "\n",
       "    .dataframe thead th {\n",
       "        text-align: right;\n",
       "    }\n",
       "</style>\n",
       "<table border=\"1\" class=\"dataframe\">\n",
       "  <thead>\n",
       "    <tr style=\"text-align: right;\">\n",
       "      <th></th>\n",
       "      <th>user_id</th>\n",
       "      <th>Group</th>\n",
       "      <th>Q1</th>\n",
       "      <th>Q2</th>\n",
       "      <th>Total Traffic(MB)</th>\n",
       "      <th>Downlink Throughput(Kbps)</th>\n",
       "      <th>Uplink Throughput(Kbps)</th>\n",
       "      <th>Video Streaming Download Throughput(Kbps)</th>\n",
       "      <th>Web Page Download Throughput(Kbps)</th>\n",
       "      <th>Downlink TCP Retransmission Rate(%)</th>\n",
       "      <th>Video Streaming xKB Start Delay(ms)</th>\n",
       "      <th>Web Average TCP RTT(ms)</th>\n",
       "    </tr>\n",
       "  </thead>\n",
       "  <tbody>\n",
       "    <tr>\n",
       "      <th>45</th>\n",
       "      <td>67</td>\n",
       "      <td>C</td>\n",
       "      <td>3</td>\n",
       "      <td>4</td>\n",
       "      <td>204.46809</td>\n",
       "      <td>1109.97</td>\n",
       "      <td>100.50</td>\n",
       "      <td>5360.84</td>\n",
       "      <td>1671.27</td>\n",
       "      <td>0.79</td>\n",
       "      <td>1402</td>\n",
       "      <td>136</td>\n",
       "    </tr>\n",
       "    <tr>\n",
       "      <th>108</th>\n",
       "      <td>129</td>\n",
       "      <td>C</td>\n",
       "      <td>1</td>\n",
       "      <td>4</td>\n",
       "      <td>641.85847</td>\n",
       "      <td>4410.52</td>\n",
       "      <td>357.93</td>\n",
       "      <td>6230.28</td>\n",
       "      <td>1877.49</td>\n",
       "      <td>1.86</td>\n",
       "      <td>1143</td>\n",
       "      <td>73</td>\n",
       "    </tr>\n",
       "    <tr>\n",
       "      <th>112</th>\n",
       "      <td>134</td>\n",
       "      <td>B</td>\n",
       "      <td>7</td>\n",
       "      <td>4</td>\n",
       "      <td>126.95619</td>\n",
       "      <td>3557.73</td>\n",
       "      <td>80.84</td>\n",
       "      <td>7237.32</td>\n",
       "      <td>4717.72</td>\n",
       "      <td>0.30</td>\n",
       "      <td>895</td>\n",
       "      <td>171</td>\n",
       "    </tr>\n",
       "    <tr>\n",
       "      <th>136</th>\n",
       "      <td>168</td>\n",
       "      <td>C</td>\n",
       "      <td>1</td>\n",
       "      <td>4</td>\n",
       "      <td>661.11584</td>\n",
       "      <td>1057.29</td>\n",
       "      <td>144.00</td>\n",
       "      <td>5493.31</td>\n",
       "      <td>1615.08</td>\n",
       "      <td>1.57</td>\n",
       "      <td>1346</td>\n",
       "      <td>77</td>\n",
       "    </tr>\n",
       "    <tr>\n",
       "      <th>164</th>\n",
       "      <td>202</td>\n",
       "      <td>B</td>\n",
       "      <td>8</td>\n",
       "      <td>4</td>\n",
       "      <td>825.33039</td>\n",
       "      <td>832.71</td>\n",
       "      <td>181.23</td>\n",
       "      <td>2164.55</td>\n",
       "      <td>929.74</td>\n",
       "      <td>3.65</td>\n",
       "      <td>2807</td>\n",
       "      <td>180</td>\n",
       "    </tr>\n",
       "    <tr>\n",
       "      <th>...</th>\n",
       "      <td>...</td>\n",
       "      <td>...</td>\n",
       "      <td>...</td>\n",
       "      <td>...</td>\n",
       "      <td>...</td>\n",
       "      <td>...</td>\n",
       "      <td>...</td>\n",
       "      <td>...</td>\n",
       "      <td>...</td>\n",
       "      <td>...</td>\n",
       "      <td>...</td>\n",
       "      <td>...</td>\n",
       "    </tr>\n",
       "    <tr>\n",
       "      <th>2691</th>\n",
       "      <td>3077</td>\n",
       "      <td>B</td>\n",
       "      <td>5</td>\n",
       "      <td>4</td>\n",
       "      <td>144.43657</td>\n",
       "      <td>781.40</td>\n",
       "      <td>114.33</td>\n",
       "      <td>4721.98</td>\n",
       "      <td>2530.44</td>\n",
       "      <td>2.07</td>\n",
       "      <td>1608</td>\n",
       "      <td>118</td>\n",
       "    </tr>\n",
       "    <tr>\n",
       "      <th>2701</th>\n",
       "      <td>3091</td>\n",
       "      <td>C</td>\n",
       "      <td>2</td>\n",
       "      <td>4</td>\n",
       "      <td>775.73132</td>\n",
       "      <td>420.91</td>\n",
       "      <td>67.61</td>\n",
       "      <td>1981.25</td>\n",
       "      <td>658.33</td>\n",
       "      <td>2.31</td>\n",
       "      <td>2024</td>\n",
       "      <td>266</td>\n",
       "    </tr>\n",
       "    <tr>\n",
       "      <th>2718</th>\n",
       "      <td>3101</td>\n",
       "      <td>C</td>\n",
       "      <td>2</td>\n",
       "      <td>4</td>\n",
       "      <td>248.99905</td>\n",
       "      <td>2347.42</td>\n",
       "      <td>309.08</td>\n",
       "      <td>5001.39</td>\n",
       "      <td>1837.79</td>\n",
       "      <td>1.64</td>\n",
       "      <td>1394</td>\n",
       "      <td>83</td>\n",
       "    </tr>\n",
       "    <tr>\n",
       "      <th>2719</th>\n",
       "      <td>3102</td>\n",
       "      <td>B</td>\n",
       "      <td>8</td>\n",
       "      <td>4</td>\n",
       "      <td>189.14150</td>\n",
       "      <td>2432.18</td>\n",
       "      <td>72.80</td>\n",
       "      <td>2152.91</td>\n",
       "      <td>1410.52</td>\n",
       "      <td>0.70</td>\n",
       "      <td>2719</td>\n",
       "      <td>289</td>\n",
       "    </tr>\n",
       "    <tr>\n",
       "      <th>2727</th>\n",
       "      <td>3108</td>\n",
       "      <td>C</td>\n",
       "      <td>3</td>\n",
       "      <td>4</td>\n",
       "      <td>519.96475</td>\n",
       "      <td>1045.70</td>\n",
       "      <td>44.61</td>\n",
       "      <td>4523.66</td>\n",
       "      <td>1044.66</td>\n",
       "      <td>0.47</td>\n",
       "      <td>1468</td>\n",
       "      <td>304</td>\n",
       "    </tr>\n",
       "  </tbody>\n",
       "</table>\n",
       "<p>175 rows × 12 columns</p>\n",
       "</div>"
      ],
      "text/plain": [
       "     user_id Group Q1 Q2  Total Traffic(MB)  Downlink Throughput(Kbps)  \\\n",
       "45        67     C  3  4          204.46809                    1109.97   \n",
       "108      129     C  1  4          641.85847                    4410.52   \n",
       "112      134     B  7  4          126.95619                    3557.73   \n",
       "136      168     C  1  4          661.11584                    1057.29   \n",
       "164      202     B  8  4          825.33039                     832.71   \n",
       "...      ...   ... .. ..                ...                        ...   \n",
       "2691    3077     B  5  4          144.43657                     781.40   \n",
       "2701    3091     C  2  4          775.73132                     420.91   \n",
       "2718    3101     C  2  4          248.99905                    2347.42   \n",
       "2719    3102     B  8  4          189.14150                    2432.18   \n",
       "2727    3108     C  3  4          519.96475                    1045.70   \n",
       "\n",
       "      Uplink Throughput(Kbps)  Video Streaming Download Throughput(Kbps)  \\\n",
       "45                     100.50                                    5360.84   \n",
       "108                    357.93                                    6230.28   \n",
       "112                     80.84                                    7237.32   \n",
       "136                    144.00                                    5493.31   \n",
       "164                    181.23                                    2164.55   \n",
       "...                       ...                                        ...   \n",
       "2691                   114.33                                    4721.98   \n",
       "2701                    67.61                                    1981.25   \n",
       "2718                   309.08                                    5001.39   \n",
       "2719                    72.80                                    2152.91   \n",
       "2727                    44.61                                    4523.66   \n",
       "\n",
       "      Web Page Download Throughput(Kbps)  Downlink TCP Retransmission Rate(%)  \\\n",
       "45                               1671.27                                 0.79   \n",
       "108                              1877.49                                 1.86   \n",
       "112                              4717.72                                 0.30   \n",
       "136                              1615.08                                 1.57   \n",
       "164                               929.74                                 3.65   \n",
       "...                                  ...                                  ...   \n",
       "2691                             2530.44                                 2.07   \n",
       "2701                              658.33                                 2.31   \n",
       "2718                             1837.79                                 1.64   \n",
       "2719                             1410.52                                 0.70   \n",
       "2727                             1044.66                                 0.47   \n",
       "\n",
       "      Video Streaming xKB Start Delay(ms)  Web Average TCP RTT(ms)  \n",
       "45                                   1402                      136  \n",
       "108                                  1143                       73  \n",
       "112                                   895                      171  \n",
       "136                                  1346                       77  \n",
       "164                                  2807                      180  \n",
       "...                                   ...                      ...  \n",
       "2691                                 1608                      118  \n",
       "2701                                 2024                      266  \n",
       "2718                                 1394                       83  \n",
       "2719                                 2719                      289  \n",
       "2727                                 1468                      304  \n",
       "\n",
       "[175 rows x 12 columns]"
      ]
     },
     "execution_count": 159,
     "metadata": {},
     "output_type": "execute_result"
    }
   ],
   "source": [
    "# Группа B\n",
    "df3_3 = mass[(mass['Q2'] == '4')]\n",
    "df3_3\n"
   ]
  },
  {
   "cell_type": "markdown",
   "metadata": {},
   "source": [
    "Построение гистограмм распределений рассматриваемых показателей"
   ]
  },
  {
   "cell_type": "code",
   "execution_count": 160,
   "metadata": {
    "scrolled": false
   },
   "outputs": [
    {
     "data": {
      "text/plain": [
       "<function matplotlib.pyplot.show(close=None, block=None)>"
      ]
     },
     "execution_count": 160,
     "metadata": {},
     "output_type": "execute_result"
    },
    {
     "data": {
      "image/png": "[encoded data removed]",
      "text/plain": [
       "<Figure size 720x576 with 1 Axes>"
      ]
     },
     "metadata": {
      "needs_background": "light"
     },
     "output_type": "display_data"
    }
   ],
   "source": [
    "plt.figure(figsize=(10, 8))\n",
    "plt.hist(df3_2['Downlink Throughput(Kbps)'], bins=45, facecolor='m', \n",
    "             alpha=0.7, edgecolor='black', linewidth=1.2, label='Ответ на Q2: 3')\n",
    "plt.hist(df3_3['Downlink Throughput(Kbps)'], bins=45, facecolor='c', \n",
    "             alpha=0.3, edgecolor='black', linewidth=1.2, label='Ответ на Q2: 4')\n",
    "plt.axvline(df3_2['Downlink Throughput(Kbps)'].mean(), color='magenta', alpha=0.8,\n",
    "            linestyle='dashed', \n",
    "            label='Среднее группы A: ' + str(round(df3_2['Downlink Throughput(Kbps)'].mean(), 2)))\n",
    "\n",
    "plt.axvline(df3_3['Downlink Throughput(Kbps)'].mean(), color='blue', \n",
    "            alpha=0.8,linestyle='dashed', \n",
    "            label='Среднее группы B: ' + str(round(df3_3['Downlink Throughput(Kbps)'].mean(), 2)))\n",
    "\n",
    "plt.grid(True)\n",
    "plt.xlabel('Величина показателя')\n",
    "plt.ylabel('Количество наблюдений')\n",
    "plt.title('Распределенение величины Downlink Throughput(Kbps)')\n",
    "plt.legend(loc='upper right')\n",
    "plt.show\n",
    "    "
   ]
  },
  {
   "cell_type": "markdown",
   "metadata": {},
   "source": [
    "**U-критерий Манна-Уитни**"
   ]
  },
  {
   "cell_type": "markdown",
   "metadata": {},
   "source": [
    "Предположение по умолчанию или нулевая гипотеза заключается в том, что нет различий между распределениями выборок данных. Отказ от этой гипотезы позволяет предположить, что между образцами, вероятно, существует некоторое различие."
   ]
  },
  {
   "cell_type": "code",
   "execution_count": 161,
   "metadata": {},
   "outputs": [
    {
     "name": "stdout",
     "output_type": "stream",
     "text": [
      "Statistics=22214.000, p=0.174\n",
      "Одинаковые распределения (Нет оснований отклонить гипотезу H0)\n"
     ]
    }
   ],
   "source": [
    "stat, p = mannwhitneyu(df3_2['Downlink Throughput(Kbps)'].values, \n",
    "                       df3_3['Downlink Throughput(Kbps)'].values)\n",
    "print('Statistics=%.3f, p=%.3f' % (stat, p))\n",
    "\n",
    "alpha = 0.05\n",
    "if p > alpha:\n",
    "    print('Одинаковые распределения (Нет оснований отклонить гипотезу H0)')\n",
    "else:\n",
    "    print('Разные распределения (Гипотеза H0 отклоняется)')\n",
    "    "
   ]
  },
  {
   "cell_type": "markdown",
   "metadata": {},
   "source": [
    "Т.к. размеры выборок не равны, а также количество наблюдений велико (443 и 268), однозначно воспринимать правильность критерия мы не можем"
   ]
  },
  {
   "cell_type": "markdown",
   "metadata": {},
   "source": [
    "Рассматривается нулевая гипотеза о равенстве рассматриваемых средних Генеральных совокупностей, Альтернативная гипотеза - рассматриваемые средние не равны"
   ]
  },
  {
   "cell_type": "markdown",
   "metadata": {},
   "source": [
    "\n",
    "**Берем наши выборки, делаем по каждой из них бутстреп и проверяем с помощью построения доверительных интервалов, пересекаются ли они, а также генерируем распределние разницы средних.**"
   ]
  },
  {
   "cell_type": "code",
   "execution_count": 162,
   "metadata": {},
   "outputs": [
    {
     "data": {
      "text/plain": [
       "Downlink Throughput(Kbps)    1799.950075\n",
       "dtype: float64"
      ]
     },
     "execution_count": 162,
     "metadata": {},
     "output_type": "execute_result"
    }
   ],
   "source": [
    "mean_bc_2 = df3_2[['Downlink Throughput(Kbps)']].mean()[0]\n",
    "df3_2[['Downlink Throughput(Kbps)']].mean()\n"
   ]
  },
  {
   "cell_type": "code",
   "execution_count": 163,
   "metadata": {},
   "outputs": [
    {
     "data": {
      "text/plain": [
       "Downlink Throughput(Kbps)    1690.419371\n",
       "dtype: float64"
      ]
     },
     "execution_count": 163,
     "metadata": {},
     "output_type": "execute_result"
    }
   ],
   "source": [
    "mean_a_2 = df3_3[['Downlink Throughput(Kbps)']].mean()[0]\n",
    "df3_3[['Downlink Throughput(Kbps)']].mean()\n"
   ]
  },
  {
   "cell_type": "code",
   "execution_count": 164,
   "metadata": {},
   "outputs": [
    {
     "data": {
      "text/plain": [
       "109.53070319829408"
      ]
     },
     "execution_count": 164,
     "metadata": {},
     "output_type": "execute_result"
    }
   ],
   "source": [
    "mean_diff_2 = np.abs(mean_a_2 - mean_bc_2)\n",
    "mean_diff_2\n"
   ]
  },
  {
   "cell_type": "code",
   "execution_count": 165,
   "metadata": {},
   "outputs": [],
   "source": [
    "differences_2 = np.zeros((1, 1500))\n"
   ]
  },
  {
   "cell_type": "code",
   "execution_count": 166,
   "metadata": {},
   "outputs": [
    {
     "name": "stdout",
     "output_type": "stream",
     "text": [
      "Число случаев, когда интервалы пересекаются:  1261\n"
     ]
    }
   ],
   "source": [
    "confidence = 0.95\n",
    "count = 0\n",
    "\n",
    "for i in range(0, 1500):\n",
    "    s1 = random.choices(df3_2['Downlink Throughput(Kbps)'].values, k=1000)\n",
    "    s2 = random.choices(df3_3['Downlink Throughput(Kbps)'].values, k=1000)\n",
    "    m1 = np.mean(s1)\n",
    "    m2 = np.mean(s2)\n",
    "    n = len(s1)\n",
    "    se1 =  st.sem(s1)\n",
    "    se2 = st.sem(s2)\n",
    "    h1 = se1 * st.t._ppf((1+confidence)/2., n-1)\n",
    "    h2 = se2 * st.t._ppf((1+confidence)/2., n-1)\n",
    "    differences_2[0][i] = m1 - m2\n",
    "    l1, r1, l2, r2 = m1-h1, m1+h1, m2-h2, m2+h2 # Левая и правая граница интервалов\n",
    "    if (l1<l2<r1<r2) or (l2<l1<r1<r2) or (l1<l2<r2<r1) or (l2<l1<r2<r1): #пересечение интервалов\n",
    "        count += 1 # Считаем число случаев пересечения\n",
    "         \n",
    "print('Число случаев, когда интервалы пересекаются: ',count)\n"
   ]
  },
  {
   "cell_type": "code",
   "execution_count": 167,
   "metadata": {},
   "outputs": [
    {
     "data": {
      "text/plain": [
       "0.056"
      ]
     },
     "execution_count": 167,
     "metadata": {},
     "output_type": "execute_result"
    }
   ],
   "source": [
    "((np.abs(differences_2 - np.mean(differences_2)) >= mean_diff_2).sum()) / 1500\n",
    "# Доля случаев когда центрированная разница больше изначально заданной\n"
   ]
  },
  {
   "cell_type": "markdown",
   "metadata": {},
   "source": [
    "Полученное P-value больше чем P-value = 0.05 при заданном уровне значимости -> нет оснований отклонить нулевую гипотезу о равенстве средних "
   ]
  },
  {
   "cell_type": "code",
   "execution_count": 168,
   "metadata": {},
   "outputs": [
    {
     "data": {
      "text/html": [
       "<div>\n",
       "<style scoped>\n",
       "    .dataframe tbody tr th:only-of-type {\n",
       "        vertical-align: middle;\n",
       "    }\n",
       "\n",
       "    .dataframe tbody tr th {\n",
       "        vertical-align: top;\n",
       "    }\n",
       "\n",
       "    .dataframe thead th {\n",
       "        text-align: right;\n",
       "    }\n",
       "</style>\n",
       "<table border=\"1\" class=\"dataframe\">\n",
       "  <thead>\n",
       "    <tr style=\"text-align: right;\">\n",
       "      <th></th>\n",
       "      <th>differences</th>\n",
       "    </tr>\n",
       "  </thead>\n",
       "  <tbody>\n",
       "    <tr>\n",
       "      <th>0</th>\n",
       "      <td>66.45932</td>\n",
       "    </tr>\n",
       "    <tr>\n",
       "      <th>1</th>\n",
       "      <td>-47.85267</td>\n",
       "    </tr>\n",
       "    <tr>\n",
       "      <th>2</th>\n",
       "      <td>-42.92049</td>\n",
       "    </tr>\n",
       "    <tr>\n",
       "      <th>3</th>\n",
       "      <td>21.46772</td>\n",
       "    </tr>\n",
       "    <tr>\n",
       "      <th>4</th>\n",
       "      <td>-28.01177</td>\n",
       "    </tr>\n",
       "    <tr>\n",
       "      <th>...</th>\n",
       "      <td>...</td>\n",
       "    </tr>\n",
       "    <tr>\n",
       "      <th>1495</th>\n",
       "      <td>36.75509</td>\n",
       "    </tr>\n",
       "    <tr>\n",
       "      <th>1496</th>\n",
       "      <td>-2.70995</td>\n",
       "    </tr>\n",
       "    <tr>\n",
       "      <th>1497</th>\n",
       "      <td>97.87428</td>\n",
       "    </tr>\n",
       "    <tr>\n",
       "      <th>1498</th>\n",
       "      <td>14.76867</td>\n",
       "    </tr>\n",
       "    <tr>\n",
       "      <th>1499</th>\n",
       "      <td>2.98764</td>\n",
       "    </tr>\n",
       "  </tbody>\n",
       "</table>\n",
       "<p>1500 rows × 1 columns</p>\n",
       "</div>"
      ],
      "text/plain": [
       "      differences\n",
       "0        66.45932\n",
       "1       -47.85267\n",
       "2       -42.92049\n",
       "3        21.46772\n",
       "4       -28.01177\n",
       "...           ...\n",
       "1495     36.75509\n",
       "1496     -2.70995\n",
       "1497     97.87428\n",
       "1498     14.76867\n",
       "1499      2.98764\n",
       "\n",
       "[1500 rows x 1 columns]"
      ]
     },
     "execution_count": 168,
     "metadata": {},
     "output_type": "execute_result"
    }
   ],
   "source": [
    "df_diff_2 = pd.DataFrame(differences_2 - np.mean(differences_2)).transpose() \n",
    "# Датафрейм разницы средних для построения графика\n",
    "df_diff_2.columns = ['differences']\n",
    "df_diff_2\n"
   ]
  },
  {
   "cell_type": "code",
   "execution_count": 169,
   "metadata": {
    "scrolled": false
   },
   "outputs": [
    {
     "data": {
      "text/plain": [
       "<function matplotlib.pyplot.show(close=None, block=None)>"
      ]
     },
     "execution_count": 169,
     "metadata": {},
     "output_type": "execute_result"
    },
    {
     "data": {
      "image/png": "[encoded data removed]",
      "text/plain": [
       "<Figure size 936x576 with 1 Axes>"
      ]
     },
     "metadata": {
      "needs_background": "light"
     },
     "output_type": "display_data"
    }
   ],
   "source": [
    "plt.figure(figsize=(13, 8)) # Построение гистограммы полученного распределения\n",
    "plt.hist(df_diff_2, bins=45, facecolor='blue', alpha=0.75, edgecolor='black', linewidth=1.2)\n",
    "plt.grid(True)\n",
    "plt.xlabel('Величина показателя')\n",
    "plt.ylabel('Количество наблюдений')\n",
    "plt.title('Распределение разницы средних для рассматриваемых групп')\n",
    "plt.show\n",
    "\n",
    "# Распределение напоминает нормальное"
   ]
  },
  {
   "cell_type": "markdown",
   "metadata": {},
   "source": [
    "Применим Тест Шапиро-Уилка для проверки нулевой гипотезы о том, что выборка разницы средних произошла из нормально распределенной ГС, что позволяет удостовериться в правильности выводов\n",
    "\n",
    "Нулевая гипотеза - ГС полученной выборки распределена нормально, альтернативная - распределение отличается от нормального"
   ]
  },
  {
   "cell_type": "code",
   "execution_count": 170,
   "metadata": {},
   "outputs": [
    {
     "name": "stdout",
     "output_type": "stream",
     "text": [
      "p_value:  0.6409727334976196\n"
     ]
    }
   ],
   "source": [
    "res = st.shapiro((df_diff_2))\n",
    "print('p_value: ', res[1])"
   ]
  },
  {
   "cell_type": "markdown",
   "metadata": {},
   "source": [
    "Полученное p_value сильно больше рассматриваемого уровня значимости (p = 0.05 в нашем случае) -> Нет оснований отклонить гипотезу о нормальности распределения"
   ]
  },
  {
   "cell_type": "markdown",
   "metadata": {},
   "source": [
    "**На основании произведенных расчетов и тестов можем сделать вывод, что показатель Downlink Throughput(Kbps)(средняя скорость «к абоненту»), статистически не различается у ГС пользователей ответивших на второй вопрос (Q2) - 3: Плохое качество связи в зданиях, тц и т.д. и пользователей, ответивших на второй вопрос (Q2) - 4: Медленный мобильный интернет**\n",
    "\n",
    "**Следовательно, следует сравнить данный показатель между разными категориями пользователей - ответивших на вопрос Q2: 3,4 и пользователями ответивших на Q1: 9,10**"
   ]
  },
  {
   "cell_type": "code",
   "execution_count": null,
   "metadata": {},
   "outputs": [],
   "source": []
  },
  {
   "cell_type": "markdown",
   "metadata": {},
   "source": [
    "### Проверяем гипотезу относительно разницы средних показателя Downlink Throughput(Kbps)(средняя скорость «к абоненту») между группами пользоваталей A и B ###"
   ]
  },
  {
   "cell_type": "markdown",
   "metadata": {},
   "source": [
    "**Группа A - пользователи, ответившие на второй вопрос (Q2) - 3: Плохое качество связи в зданиях, тц и т.д., 4:Медленный мобильный интернет; Группа B - пользователи, ответившие на первый вопрос (Q1) - 9,10 (полностью удовлетворенные пользователи)**\n",
    "\n",
    "**Берем наши выборки, делаем по каждой из них бутстреп и проверяем долю случаев когда центрированная разница между средними больше изначально заданной, а также генерируем распределние разницы средних.**"
   ]
  },
  {
   "cell_type": "code",
   "execution_count": 171,
   "metadata": {},
   "outputs": [
    {
     "data": {
      "text/html": [
       "<div>\n",
       "<style scoped>\n",
       "    .dataframe tbody tr th:only-of-type {\n",
       "        vertical-align: middle;\n",
       "    }\n",
       "\n",
       "    .dataframe tbody tr th {\n",
       "        vertical-align: top;\n",
       "    }\n",
       "\n",
       "    .dataframe thead th {\n",
       "        text-align: right;\n",
       "    }\n",
       "</style>\n",
       "<table border=\"1\" class=\"dataframe\">\n",
       "  <thead>\n",
       "    <tr style=\"text-align: right;\">\n",
       "      <th></th>\n",
       "      <th>user_id</th>\n",
       "      <th>Group</th>\n",
       "      <th>Q1</th>\n",
       "      <th>Q2</th>\n",
       "      <th>Total Traffic(MB)</th>\n",
       "      <th>Downlink Throughput(Kbps)</th>\n",
       "      <th>Uplink Throughput(Kbps)</th>\n",
       "      <th>Video Streaming Download Throughput(Kbps)</th>\n",
       "      <th>Web Page Download Throughput(Kbps)</th>\n",
       "      <th>Downlink TCP Retransmission Rate(%)</th>\n",
       "      <th>Video Streaming xKB Start Delay(ms)</th>\n",
       "      <th>Web Average TCP RTT(ms)</th>\n",
       "    </tr>\n",
       "  </thead>\n",
       "  <tbody>\n",
       "    <tr>\n",
       "      <th>1</th>\n",
       "      <td>4</td>\n",
       "      <td>B</td>\n",
       "      <td>8</td>\n",
       "      <td>3</td>\n",
       "      <td>179.18564</td>\n",
       "      <td>2590.97</td>\n",
       "      <td>325.88</td>\n",
       "      <td>7053.81</td>\n",
       "      <td>1221.02</td>\n",
       "      <td>0.80</td>\n",
       "      <td>3218</td>\n",
       "      <td>51</td>\n",
       "    </tr>\n",
       "    <tr>\n",
       "      <th>3</th>\n",
       "      <td>5</td>\n",
       "      <td>C</td>\n",
       "      <td>2</td>\n",
       "      <td>3</td>\n",
       "      <td>351.99208</td>\n",
       "      <td>731.61</td>\n",
       "      <td>223.54</td>\n",
       "      <td>4550.38</td>\n",
       "      <td>2336.56</td>\n",
       "      <td>1.15</td>\n",
       "      <td>1767</td>\n",
       "      <td>68</td>\n",
       "    </tr>\n",
       "    <tr>\n",
       "      <th>6</th>\n",
       "      <td>9</td>\n",
       "      <td>C</td>\n",
       "      <td>1</td>\n",
       "      <td>3</td>\n",
       "      <td>783.64464</td>\n",
       "      <td>1786.99</td>\n",
       "      <td>271.77</td>\n",
       "      <td>6802.42</td>\n",
       "      <td>1837.02</td>\n",
       "      <td>0.84</td>\n",
       "      <td>1200</td>\n",
       "      <td>132</td>\n",
       "    </tr>\n",
       "    <tr>\n",
       "      <th>9</th>\n",
       "      <td>10</td>\n",
       "      <td>C</td>\n",
       "      <td>3</td>\n",
       "      <td>3</td>\n",
       "      <td>455.97369</td>\n",
       "      <td>610.43</td>\n",
       "      <td>81.86</td>\n",
       "      <td>1317.76</td>\n",
       "      <td>1054.15</td>\n",
       "      <td>4.10</td>\n",
       "      <td>3350</td>\n",
       "      <td>165</td>\n",
       "    </tr>\n",
       "    <tr>\n",
       "      <th>13</th>\n",
       "      <td>11</td>\n",
       "      <td>C</td>\n",
       "      <td>3</td>\n",
       "      <td>3</td>\n",
       "      <td>526.08652</td>\n",
       "      <td>535.54</td>\n",
       "      <td>208.67</td>\n",
       "      <td>2621.14</td>\n",
       "      <td>2376.50</td>\n",
       "      <td>1.46</td>\n",
       "      <td>1479</td>\n",
       "      <td>88</td>\n",
       "    </tr>\n",
       "    <tr>\n",
       "      <th>...</th>\n",
       "      <td>...</td>\n",
       "      <td>...</td>\n",
       "      <td>...</td>\n",
       "      <td>...</td>\n",
       "      <td>...</td>\n",
       "      <td>...</td>\n",
       "      <td>...</td>\n",
       "      <td>...</td>\n",
       "      <td>...</td>\n",
       "      <td>...</td>\n",
       "      <td>...</td>\n",
       "      <td>...</td>\n",
       "    </tr>\n",
       "    <tr>\n",
       "      <th>2719</th>\n",
       "      <td>3102</td>\n",
       "      <td>B</td>\n",
       "      <td>8</td>\n",
       "      <td>4</td>\n",
       "      <td>189.14150</td>\n",
       "      <td>2432.18</td>\n",
       "      <td>72.80</td>\n",
       "      <td>2152.91</td>\n",
       "      <td>1410.52</td>\n",
       "      <td>0.70</td>\n",
       "      <td>2719</td>\n",
       "      <td>289</td>\n",
       "    </tr>\n",
       "    <tr>\n",
       "      <th>2722</th>\n",
       "      <td>3105</td>\n",
       "      <td>C</td>\n",
       "      <td>1</td>\n",
       "      <td>3</td>\n",
       "      <td>206.28181</td>\n",
       "      <td>105.24</td>\n",
       "      <td>65.84</td>\n",
       "      <td>349.04</td>\n",
       "      <td>1035.69</td>\n",
       "      <td>3.86</td>\n",
       "      <td>2094</td>\n",
       "      <td>267</td>\n",
       "    </tr>\n",
       "    <tr>\n",
       "      <th>2727</th>\n",
       "      <td>3108</td>\n",
       "      <td>C</td>\n",
       "      <td>3</td>\n",
       "      <td>4</td>\n",
       "      <td>519.96475</td>\n",
       "      <td>1045.70</td>\n",
       "      <td>44.61</td>\n",
       "      <td>4523.66</td>\n",
       "      <td>1044.66</td>\n",
       "      <td>0.47</td>\n",
       "      <td>1468</td>\n",
       "      <td>304</td>\n",
       "    </tr>\n",
       "    <tr>\n",
       "      <th>2730</th>\n",
       "      <td>3109</td>\n",
       "      <td>C</td>\n",
       "      <td>3</td>\n",
       "      <td>3</td>\n",
       "      <td>171.52629</td>\n",
       "      <td>670.32</td>\n",
       "      <td>40.94</td>\n",
       "      <td>1711.54</td>\n",
       "      <td>954.91</td>\n",
       "      <td>2.35</td>\n",
       "      <td>2780</td>\n",
       "      <td>251</td>\n",
       "    </tr>\n",
       "    <tr>\n",
       "      <th>2735</th>\n",
       "      <td>3111</td>\n",
       "      <td>B</td>\n",
       "      <td>6</td>\n",
       "      <td>3</td>\n",
       "      <td>827.74515</td>\n",
       "      <td>1841.90</td>\n",
       "      <td>373.53</td>\n",
       "      <td>5675.93</td>\n",
       "      <td>2361.88</td>\n",
       "      <td>1.21</td>\n",
       "      <td>1905</td>\n",
       "      <td>202</td>\n",
       "    </tr>\n",
       "  </tbody>\n",
       "</table>\n",
       "<p>655 rows × 12 columns</p>\n",
       "</div>"
      ],
      "text/plain": [
       "     user_id Group Q1 Q2  Total Traffic(MB)  Downlink Throughput(Kbps)  \\\n",
       "1          4     B  8  3          179.18564                    2590.97   \n",
       "3          5     C  2  3          351.99208                     731.61   \n",
       "6          9     C  1  3          783.64464                    1786.99   \n",
       "9         10     C  3  3          455.97369                     610.43   \n",
       "13        11     C  3  3          526.08652                     535.54   \n",
       "...      ...   ... .. ..                ...                        ...   \n",
       "2719    3102     B  8  4          189.14150                    2432.18   \n",
       "2722    3105     C  1  3          206.28181                     105.24   \n",
       "2727    3108     C  3  4          519.96475                    1045.70   \n",
       "2730    3109     C  3  3          171.52629                     670.32   \n",
       "2735    3111     B  6  3          827.74515                    1841.90   \n",
       "\n",
       "      Uplink Throughput(Kbps)  Video Streaming Download Throughput(Kbps)  \\\n",
       "1                      325.88                                    7053.81   \n",
       "3                      223.54                                    4550.38   \n",
       "6                      271.77                                    6802.42   \n",
       "9                       81.86                                    1317.76   \n",
       "13                     208.67                                    2621.14   \n",
       "...                       ...                                        ...   \n",
       "2719                    72.80                                    2152.91   \n",
       "2722                    65.84                                     349.04   \n",
       "2727                    44.61                                    4523.66   \n",
       "2730                    40.94                                    1711.54   \n",
       "2735                   373.53                                    5675.93   \n",
       "\n",
       "      Web Page Download Throughput(Kbps)  Downlink TCP Retransmission Rate(%)  \\\n",
       "1                                1221.02                                 0.80   \n",
       "3                                2336.56                                 1.15   \n",
       "6                                1837.02                                 0.84   \n",
       "9                                1054.15                                 4.10   \n",
       "13                               2376.50                                 1.46   \n",
       "...                                  ...                                  ...   \n",
       "2719                             1410.52                                 0.70   \n",
       "2722                             1035.69                                 3.86   \n",
       "2727                             1044.66                                 0.47   \n",
       "2730                              954.91                                 2.35   \n",
       "2735                             2361.88                                 1.21   \n",
       "\n",
       "      Video Streaming xKB Start Delay(ms)  Web Average TCP RTT(ms)  \n",
       "1                                    3218                       51  \n",
       "3                                    1767                       68  \n",
       "6                                    1200                      132  \n",
       "9                                    3350                      165  \n",
       "13                                   1479                       88  \n",
       "...                                   ...                      ...  \n",
       "2719                                 2719                      289  \n",
       "2722                                 2094                      267  \n",
       "2727                                 1468                      304  \n",
       "2730                                 2780                      251  \n",
       "2735                                 1905                      202  \n",
       "\n",
       "[655 rows x 12 columns]"
      ]
     },
     "execution_count": 171,
     "metadata": {},
     "output_type": "execute_result"
    }
   ],
   "source": [
    "# Группа A\n",
    "df4_2 = data_Q2[(data_Q2['Q2'] == '3') | (data_Q2['Q2'] == '4')]  # Интересующие нас пользователи\n",
    "df4_2 = df4_2.drop_duplicates(subset='user_id')  # Устранение повторяющихся пользователей внутри групп\n",
    "df4_2\n"
   ]
  },
  {
   "cell_type": "code",
   "execution_count": 172,
   "metadata": {
    "scrolled": false
   },
   "outputs": [
    {
     "data": {
      "text/html": [
       "<div>\n",
       "<style scoped>\n",
       "    .dataframe tbody tr th:only-of-type {\n",
       "        vertical-align: middle;\n",
       "    }\n",
       "\n",
       "    .dataframe tbody tr th {\n",
       "        vertical-align: top;\n",
       "    }\n",
       "\n",
       "    .dataframe thead th {\n",
       "        text-align: right;\n",
       "    }\n",
       "</style>\n",
       "<table border=\"1\" class=\"dataframe\">\n",
       "  <thead>\n",
       "    <tr style=\"text-align: right;\">\n",
       "      <th></th>\n",
       "      <th>user_id</th>\n",
       "      <th>Group</th>\n",
       "      <th>Q1</th>\n",
       "      <th>Q2</th>\n",
       "      <th>Total Traffic(MB)</th>\n",
       "      <th>Downlink Throughput(Kbps)</th>\n",
       "      <th>Uplink Throughput(Kbps)</th>\n",
       "      <th>Video Streaming Download Throughput(Kbps)</th>\n",
       "      <th>Web Page Download Throughput(Kbps)</th>\n",
       "      <th>Downlink TCP Retransmission Rate(%)</th>\n",
       "      <th>Video Streaming xKB Start Delay(ms)</th>\n",
       "      <th>Web Average TCP RTT(ms)</th>\n",
       "    </tr>\n",
       "  </thead>\n",
       "  <tbody>\n",
       "    <tr>\n",
       "      <th>15</th>\n",
       "      <td>16</td>\n",
       "      <td>A</td>\n",
       "      <td>10</td>\n",
       "      <td>NaN</td>\n",
       "      <td>767.54725</td>\n",
       "      <td>1729.37</td>\n",
       "      <td>107.94</td>\n",
       "      <td>2490.93</td>\n",
       "      <td>2514.08</td>\n",
       "      <td>1.96</td>\n",
       "      <td>1660</td>\n",
       "      <td>92</td>\n",
       "    </tr>\n",
       "    <tr>\n",
       "      <th>21</th>\n",
       "      <td>22</td>\n",
       "      <td>A</td>\n",
       "      <td>10</td>\n",
       "      <td>NaN</td>\n",
       "      <td>601.06519</td>\n",
       "      <td>2135.92</td>\n",
       "      <td>120.55</td>\n",
       "      <td>7215.26</td>\n",
       "      <td>1014.48</td>\n",
       "      <td>1.73</td>\n",
       "      <td>1649</td>\n",
       "      <td>231</td>\n",
       "    </tr>\n",
       "    <tr>\n",
       "      <th>25</th>\n",
       "      <td>26</td>\n",
       "      <td>A</td>\n",
       "      <td>10</td>\n",
       "      <td>NaN</td>\n",
       "      <td>360.59845</td>\n",
       "      <td>3743.08</td>\n",
       "      <td>250.93</td>\n",
       "      <td>5943.66</td>\n",
       "      <td>2714.29</td>\n",
       "      <td>0.98</td>\n",
       "      <td>2029</td>\n",
       "      <td>61</td>\n",
       "    </tr>\n",
       "    <tr>\n",
       "      <th>27</th>\n",
       "      <td>28</td>\n",
       "      <td>A</td>\n",
       "      <td>10</td>\n",
       "      <td>NaN</td>\n",
       "      <td>373.37642</td>\n",
       "      <td>865.79</td>\n",
       "      <td>82.03</td>\n",
       "      <td>1913.33</td>\n",
       "      <td>1743.42</td>\n",
       "      <td>2.62</td>\n",
       "      <td>2638</td>\n",
       "      <td>122</td>\n",
       "    </tr>\n",
       "    <tr>\n",
       "      <th>28</th>\n",
       "      <td>29</td>\n",
       "      <td>A</td>\n",
       "      <td>10</td>\n",
       "      <td>NaN</td>\n",
       "      <td>232.99499</td>\n",
       "      <td>535.05</td>\n",
       "      <td>71.64</td>\n",
       "      <td>1332.35</td>\n",
       "      <td>3421.72</td>\n",
       "      <td>1.07</td>\n",
       "      <td>3548</td>\n",
       "      <td>110</td>\n",
       "    </tr>\n",
       "    <tr>\n",
       "      <th>...</th>\n",
       "      <td>...</td>\n",
       "      <td>...</td>\n",
       "      <td>...</td>\n",
       "      <td>...</td>\n",
       "      <td>...</td>\n",
       "      <td>...</td>\n",
       "      <td>...</td>\n",
       "      <td>...</td>\n",
       "      <td>...</td>\n",
       "      <td>...</td>\n",
       "      <td>...</td>\n",
       "      <td>...</td>\n",
       "    </tr>\n",
       "    <tr>\n",
       "      <th>3091</th>\n",
       "      <td>3092</td>\n",
       "      <td>A</td>\n",
       "      <td>9</td>\n",
       "      <td>NaN</td>\n",
       "      <td>335.35499</td>\n",
       "      <td>1767.76</td>\n",
       "      <td>104.68</td>\n",
       "      <td>10115.44</td>\n",
       "      <td>462.42</td>\n",
       "      <td>0.38</td>\n",
       "      <td>1234</td>\n",
       "      <td>164</td>\n",
       "    </tr>\n",
       "    <tr>\n",
       "      <th>3092</th>\n",
       "      <td>3093</td>\n",
       "      <td>A</td>\n",
       "      <td>10</td>\n",
       "      <td>NaN</td>\n",
       "      <td>758.71809</td>\n",
       "      <td>1512.61</td>\n",
       "      <td>192.21</td>\n",
       "      <td>796.91</td>\n",
       "      <td>216.96</td>\n",
       "      <td>0.87</td>\n",
       "      <td>2567</td>\n",
       "      <td>160</td>\n",
       "    </tr>\n",
       "    <tr>\n",
       "      <th>3098</th>\n",
       "      <td>3099</td>\n",
       "      <td>A</td>\n",
       "      <td>10</td>\n",
       "      <td>NaN</td>\n",
       "      <td>343.79289</td>\n",
       "      <td>3469.50</td>\n",
       "      <td>237.13</td>\n",
       "      <td>4559.33</td>\n",
       "      <td>409.40</td>\n",
       "      <td>0.69</td>\n",
       "      <td>1725</td>\n",
       "      <td>150</td>\n",
       "    </tr>\n",
       "    <tr>\n",
       "      <th>3105</th>\n",
       "      <td>3106</td>\n",
       "      <td>A</td>\n",
       "      <td>10</td>\n",
       "      <td>NaN</td>\n",
       "      <td>424.34855</td>\n",
       "      <td>2258.16</td>\n",
       "      <td>150.21</td>\n",
       "      <td>5623.82</td>\n",
       "      <td>3480.14</td>\n",
       "      <td>1.56</td>\n",
       "      <td>1313</td>\n",
       "      <td>109</td>\n",
       "    </tr>\n",
       "    <tr>\n",
       "      <th>3109</th>\n",
       "      <td>3110</td>\n",
       "      <td>A</td>\n",
       "      <td>10</td>\n",
       "      <td>NaN</td>\n",
       "      <td>187.44936</td>\n",
       "      <td>590.29</td>\n",
       "      <td>186.36</td>\n",
       "      <td>3182.83</td>\n",
       "      <td>1094.62</td>\n",
       "      <td>2.06</td>\n",
       "      <td>2195</td>\n",
       "      <td>109</td>\n",
       "    </tr>\n",
       "  </tbody>\n",
       "</table>\n",
       "<p>700 rows × 12 columns</p>\n",
       "</div>"
      ],
      "text/plain": [
       "     user_id Group  Q1   Q2  Total Traffic(MB)  Downlink Throughput(Kbps)  \\\n",
       "15        16     A  10  NaN          767.54725                    1729.37   \n",
       "21        22     A  10  NaN          601.06519                    2135.92   \n",
       "25        26     A  10  NaN          360.59845                    3743.08   \n",
       "27        28     A  10  NaN          373.37642                     865.79   \n",
       "28        29     A  10  NaN          232.99499                     535.05   \n",
       "...      ...   ...  ..  ...                ...                        ...   \n",
       "3091    3092     A   9  NaN          335.35499                    1767.76   \n",
       "3092    3093     A  10  NaN          758.71809                    1512.61   \n",
       "3098    3099     A  10  NaN          343.79289                    3469.50   \n",
       "3105    3106     A  10  NaN          424.34855                    2258.16   \n",
       "3109    3110     A  10  NaN          187.44936                     590.29   \n",
       "\n",
       "      Uplink Throughput(Kbps)  Video Streaming Download Throughput(Kbps)  \\\n",
       "15                     107.94                                    2490.93   \n",
       "21                     120.55                                    7215.26   \n",
       "25                     250.93                                    5943.66   \n",
       "27                      82.03                                    1913.33   \n",
       "28                      71.64                                    1332.35   \n",
       "...                       ...                                        ...   \n",
       "3091                   104.68                                   10115.44   \n",
       "3092                   192.21                                     796.91   \n",
       "3098                   237.13                                    4559.33   \n",
       "3105                   150.21                                    5623.82   \n",
       "3109                   186.36                                    3182.83   \n",
       "\n",
       "      Web Page Download Throughput(Kbps)  Downlink TCP Retransmission Rate(%)  \\\n",
       "15                               2514.08                                 1.96   \n",
       "21                               1014.48                                 1.73   \n",
       "25                               2714.29                                 0.98   \n",
       "27                               1743.42                                 2.62   \n",
       "28                               3421.72                                 1.07   \n",
       "...                                  ...                                  ...   \n",
       "3091                              462.42                                 0.38   \n",
       "3092                              216.96                                 0.87   \n",
       "3098                              409.40                                 0.69   \n",
       "3105                             3480.14                                 1.56   \n",
       "3109                             1094.62                                 2.06   \n",
       "\n",
       "      Video Streaming xKB Start Delay(ms)  Web Average TCP RTT(ms)  \n",
       "15                                   1660                       92  \n",
       "21                                   1649                      231  \n",
       "25                                   2029                       61  \n",
       "27                                   2638                      122  \n",
       "28                                   3548                      110  \n",
       "...                                   ...                      ...  \n",
       "3091                                 1234                      164  \n",
       "3092                                 2567                      160  \n",
       "3098                                 1725                      150  \n",
       "3105                                 1313                      109  \n",
       "3109                                 2195                      109  \n",
       "\n",
       "[700 rows x 12 columns]"
      ]
     },
     "execution_count": 172,
     "metadata": {},
     "output_type": "execute_result"
    }
   ],
   "source": [
    "# Группа B\n",
    "df4_3 = data_Q1_Out[data_Q1_Out['Group'] == 'A']\n",
    "df4_3 = df4_3.drop_duplicates(subset='user_id')  # Устранение повторяющихся пользователей внутри групп\n",
    "df4_3\n"
   ]
  },
  {
   "cell_type": "markdown",
   "metadata": {},
   "source": [
    "Построение гистограмм распределений рассматриваемых показателей"
   ]
  },
  {
   "cell_type": "code",
   "execution_count": 173,
   "metadata": {
    "scrolled": false
   },
   "outputs": [
    {
     "data": {
      "text/plain": [
       "<function matplotlib.pyplot.show(close=None, block=None)>"
      ]
     },
     "execution_count": 173,
     "metadata": {},
     "output_type": "execute_result"
    },
    {
     "data": {
      "image/png": "[encoded data removed]",
      "text/plain": [
       "<Figure size 720x576 with 1 Axes>"
      ]
     },
     "metadata": {
      "needs_background": "light"
     },
     "output_type": "display_data"
    }
   ],
   "source": [
    "plt.figure(figsize=(10, 8))\n",
    "plt.hist(df4_2['Downlink Throughput(Kbps)'], bins=45, facecolor='m', \n",
    "             alpha=0.7, edgecolor='black', linewidth=1.2, label='Ответ на Q2: 3, 4 (A)')\n",
    "plt.hist(df4_3['Downlink Throughput(Kbps)'], bins=45, facecolor='c', \n",
    "             alpha=0.3, edgecolor='black', linewidth=1.2, \n",
    "             label='Полностью удовлетворенные пользователи (B)')\n",
    "plt.axvline(df4_2['Downlink Throughput(Kbps)'].mean(), color='magenta', \n",
    "            alpha=0.8, linestyle='dashed', \n",
    "            label='Среднее группы A: ' + str(round(df4_2['Downlink Throughput(Kbps)'].mean(), 2)))\n",
    "\n",
    "plt.axvline(df4_3['Downlink Throughput(Kbps)'].mean(), color='blue', alpha=0.8,\n",
    "                linestyle='dashed', \n",
    "                label='Среднее группы B: ' + str(round(df4_3['Downlink Throughput(Kbps)'].mean(), 2)))\n",
    "\n",
    "plt.grid(True)\n",
    "plt.xlabel('Величина показателя')\n",
    "plt.ylabel('Количество наблюдений')\n",
    "plt.title('Распределенение величины Downlink Throughput(Kbps)')\n",
    "plt.legend(loc='upper right')\n",
    "plt.show\n",
    "    "
   ]
  },
  {
   "cell_type": "markdown",
   "metadata": {},
   "source": [
    "**U-критерий Манна-Уитни**"
   ]
  },
  {
   "cell_type": "code",
   "execution_count": 174,
   "metadata": {
    "scrolled": true
   },
   "outputs": [
    {
     "name": "stdout",
     "output_type": "stream",
     "text": [
      "Statistics=211844.000, p=0.008\n",
      "Разные распределения (Гипотеза H0 отклоняется)\n"
     ]
    }
   ],
   "source": [
    "stat, p = mannwhitneyu(df4_2['Downlink Throughput(Kbps)'].values, \n",
    "                       df4_3['Downlink Throughput(Kbps)'].values)\n",
    "print('Statistics=%.3f, p=%.3f' % (stat, p))\n",
    "\n",
    "alpha = 0.05\n",
    "if p > alpha:\n",
    "    print('Одинаковые распределения (Нет оснований отклонить гипотезу H0)')\n",
    "else:\n",
    "    print('Разные распределения (Гипотеза H0 отклоняется)')\n",
    "    "
   ]
  },
  {
   "cell_type": "markdown",
   "metadata": {},
   "source": [
    "Т.к. размеры выборок не равны, а также количество наблюдений велико (655 и 700), однозначно воспринимать правильность критерия мы не можем"
   ]
  },
  {
   "cell_type": "markdown",
   "metadata": {},
   "source": [
    "Рассматривается нулевая гипотеза о равенстве рассматриваемых средних Генеральных совокупностей, Альтернативная гипотеза - рассматриваемые средние не равны"
   ]
  },
  {
   "cell_type": "markdown",
   "metadata": {},
   "source": [
    "\n",
    "**Берем наши выборки, делаем по каждой из них бутстреп и проверяем с помощью построения доверительных интервалов, пересекаются ли они, а также генерируем распределние разницы средних.**"
   ]
  },
  {
   "cell_type": "code",
   "execution_count": 175,
   "metadata": {},
   "outputs": [
    {
     "data": {
      "text/plain": [
       "1718.218458015267"
      ]
     },
     "execution_count": 175,
     "metadata": {},
     "output_type": "execute_result"
    }
   ],
   "source": [
    "mean_bc_3 = df4_2[['Downlink Throughput(Kbps)']].mean()[0]\n",
    "mean_bc_3\n"
   ]
  },
  {
   "cell_type": "code",
   "execution_count": 176,
   "metadata": {},
   "outputs": [
    {
     "data": {
      "text/plain": [
       "1876.4857142857143"
      ]
     },
     "execution_count": 176,
     "metadata": {},
     "output_type": "execute_result"
    }
   ],
   "source": [
    "mean_a_3 = df4_3[['Downlink Throughput(Kbps)']].mean()[0]\n",
    "mean_a_3\n"
   ]
  },
  {
   "cell_type": "code",
   "execution_count": 177,
   "metadata": {},
   "outputs": [
    {
     "data": {
      "text/plain": [
       "158.2672562704472"
      ]
     },
     "execution_count": 177,
     "metadata": {},
     "output_type": "execute_result"
    }
   ],
   "source": [
    "mean_diff_3 =  np.abs(mean_a_3 - mean_bc_3)\n",
    "mean_diff_3\n"
   ]
  },
  {
   "cell_type": "code",
   "execution_count": 178,
   "metadata": {},
   "outputs": [],
   "source": [
    "differences_3 = np.zeros((1, 1500))"
   ]
  },
  {
   "cell_type": "code",
   "execution_count": 179,
   "metadata": {},
   "outputs": [
    {
     "name": "stdout",
     "output_type": "stream",
     "text": [
      "Число случаев, когда дов. интервалы пересекаются - 847\n",
      "Число случаев, когда разница между средними значима при пересечении интервалов - 684\n",
      "Число случаев, когда интервалы не пересекаются и дов. интервал группы A(Q2) меньше, чем группы B(Q1) - 653\n",
      "_________________________________________\n",
      "Общая доля случаев, когда дов. интервал группы B больше чем группы A - 0.8913333333333333\n"
     ]
    }
   ],
   "source": [
    "confidence = 0.95\n",
    "count1 = 0\n",
    "count2 = 0\n",
    "count3 = 0\n",
    "count4 = 0\n",
    "\n",
    "for i in range(0, 1500):\n",
    "    s1 = random.choices(df4_2['Downlink Throughput(Kbps)'].values, k=1000)\n",
    "    s2 = random.choices(df4_3['Downlink Throughput(Kbps)'].values, k=1000)\n",
    "    m1 = np.mean(s1)\n",
    "    m2 = np.mean(s2)\n",
    "    n = len(s1)\n",
    "    se1 =  st.sem(s1)\n",
    "    se2 = st.sem(s2)\n",
    "    h1 = se1 * st.t._ppf((1+confidence)/2., n-1)\n",
    "    h2 = se2 * st.t._ppf((1+confidence)/2., n-1)\n",
    "    differences_3[0][i] = m2 - m1\n",
    "    l1, r1, l2, r2 = m1-h1, m1+h1, m2-h2, m2+h2 # Левая и правая граница интервалов\n",
    "    if (l2<l1<r2<r1) or (l1<l2<r2<r1) or (l2<l1<r1<r2) or (l1<l2<r1<r2): #пересечение интервалов\n",
    "        count1 += 1 # Выводим значения интервалов, если они пересекаются\n",
    "        if (m2-m1 > h1) and (m2-m1 > h2) and (m2>m1):\n",
    "            count4 += 1\n",
    "    if (l2<r2<l1<r1):\n",
    "        count2 += 1\n",
    "    if (l1<r1<l2<r2):\n",
    "        count3 += 1\n",
    "        \n",
    "print (\"Число случаев, когда дов. интервалы пересекаются -\",count1)\n",
    "print (\"Число случаев, когда разница между средними значима при пересечении интервалов -\", count4)\n",
    "print (\"Число случаев, когда интервалы не пересекаются и дов. интервал группы A(Q2) меньше, чем группы B(Q1) -\", count3)\n",
    "print('_________________________________________')\n",
    "print (\"Общая доля случаев, когда дов. интервал группы B больше чем группы A -\",(count3 + count4) / 1500)\n"
   ]
  },
  {
   "cell_type": "code",
   "execution_count": 180,
   "metadata": {
    "scrolled": true
   },
   "outputs": [
    {
     "data": {
      "text/plain": [
       "0.009333333333333334"
      ]
     },
     "execution_count": 180,
     "metadata": {},
     "output_type": "execute_result"
    }
   ],
   "source": [
    "((np.abs(differences_3 - np.mean(differences_3)) >= mean_diff_3).sum()) / 1500\n",
    "# Доля случаев когда центрированная разница больше изначально заданной\n"
   ]
  },
  {
   "cell_type": "markdown",
   "metadata": {},
   "source": [
    "Полученное P-value значимо меньше чем P-value = 0.05 при заданном уровне значимости ->  нулевая гипотеза о равенстве средних отклоняется -> Разница есть \n",
    "\n",
    "Также учитывая общую долю случаев, когда среднее группы B больше группы A (проверка доверительных интервалов), можем сделать вывод, что среднее ГС данной группы пользователей значимо больше "
   ]
  },
  {
   "cell_type": "code",
   "execution_count": 181,
   "metadata": {},
   "outputs": [
    {
     "data": {
      "text/html": [
       "<div>\n",
       "<style scoped>\n",
       "    .dataframe tbody tr th:only-of-type {\n",
       "        vertical-align: middle;\n",
       "    }\n",
       "\n",
       "    .dataframe tbody tr th {\n",
       "        vertical-align: top;\n",
       "    }\n",
       "\n",
       "    .dataframe thead th {\n",
       "        text-align: right;\n",
       "    }\n",
       "</style>\n",
       "<table border=\"1\" class=\"dataframe\">\n",
       "  <thead>\n",
       "    <tr style=\"text-align: right;\">\n",
       "      <th></th>\n",
       "      <th>differences</th>\n",
       "    </tr>\n",
       "  </thead>\n",
       "  <tbody>\n",
       "    <tr>\n",
       "      <th>0</th>\n",
       "      <td>77.822839</td>\n",
       "    </tr>\n",
       "    <tr>\n",
       "      <th>1</th>\n",
       "      <td>-47.640311</td>\n",
       "    </tr>\n",
       "    <tr>\n",
       "      <th>2</th>\n",
       "      <td>-8.221441</td>\n",
       "    </tr>\n",
       "    <tr>\n",
       "      <th>3</th>\n",
       "      <td>-34.559991</td>\n",
       "    </tr>\n",
       "    <tr>\n",
       "      <th>4</th>\n",
       "      <td>-69.739811</td>\n",
       "    </tr>\n",
       "    <tr>\n",
       "      <th>...</th>\n",
       "      <td>...</td>\n",
       "    </tr>\n",
       "    <tr>\n",
       "      <th>1495</th>\n",
       "      <td>-51.758101</td>\n",
       "    </tr>\n",
       "    <tr>\n",
       "      <th>1496</th>\n",
       "      <td>38.874759</td>\n",
       "    </tr>\n",
       "    <tr>\n",
       "      <th>1497</th>\n",
       "      <td>-99.975661</td>\n",
       "    </tr>\n",
       "    <tr>\n",
       "      <th>1498</th>\n",
       "      <td>69.580719</td>\n",
       "    </tr>\n",
       "    <tr>\n",
       "      <th>1499</th>\n",
       "      <td>-147.234591</td>\n",
       "    </tr>\n",
       "  </tbody>\n",
       "</table>\n",
       "<p>1500 rows × 1 columns</p>\n",
       "</div>"
      ],
      "text/plain": [
       "      differences\n",
       "0       77.822839\n",
       "1      -47.640311\n",
       "2       -8.221441\n",
       "3      -34.559991\n",
       "4      -69.739811\n",
       "...           ...\n",
       "1495   -51.758101\n",
       "1496    38.874759\n",
       "1497   -99.975661\n",
       "1498    69.580719\n",
       "1499  -147.234591\n",
       "\n",
       "[1500 rows x 1 columns]"
      ]
     },
     "execution_count": 181,
     "metadata": {},
     "output_type": "execute_result"
    }
   ],
   "source": [
    "df_diff_3 = pd.DataFrame(differences_3 - np.mean(differences_3)).transpose() \n",
    "# Датафрейм разницы средних для построения графика\n",
    "df_diff_3.columns = ['differences']\n",
    "df_diff_3\n"
   ]
  },
  {
   "cell_type": "code",
   "execution_count": 182,
   "metadata": {
    "scrolled": false
   },
   "outputs": [
    {
     "data": {
      "text/plain": [
       "<function matplotlib.pyplot.show(close=None, block=None)>"
      ]
     },
     "execution_count": 182,
     "metadata": {},
     "output_type": "execute_result"
    },
    {
     "data": {
      "image/png": "[encoded data removed]",
      "text/plain": [
       "<Figure size 936x576 with 1 Axes>"
      ]
     },
     "metadata": {
      "needs_background": "light"
     },
     "output_type": "display_data"
    }
   ],
   "source": [
    "plt.figure(figsize=(13, 8)) # Построение гистограммы полученного распределения\n",
    "plt.hist(df_diff_3, bins=45, facecolor='orange', alpha=0.75, edgecolor='black', linewidth=1.2)\n",
    "plt.grid(True)\n",
    "plt.xlabel('Величина показателя')\n",
    "plt.ylabel('Количество наблюдений')\n",
    "plt.title('Распределение разницы средних для рассматриваемых групп')\n",
    "plt.show\n",
    "\n",
    "# Распределение напоминает нормальное\n"
   ]
  },
  {
   "cell_type": "markdown",
   "metadata": {},
   "source": [
    "Применим Тест Шапиро-Уилка для проверки нулевой гипотезы о том, что выборка разницы средних произошла из нормально распределенной ГС, что позволяет удостовериться в правильности выводов\n",
    "\n",
    "Нулевая гипотеза - ГС полученной выборки распределена нормально, альтернативная - распределение отличается от нормального"
   ]
  },
  {
   "cell_type": "code",
   "execution_count": 183,
   "metadata": {},
   "outputs": [
    {
     "name": "stdout",
     "output_type": "stream",
     "text": [
      "p_value:  0.5684812664985657\n"
     ]
    }
   ],
   "source": [
    "res = st.shapiro((df_diff_3))\n",
    "print('p_value: ', res[1])\n"
   ]
  },
  {
   "cell_type": "markdown",
   "metadata": {},
   "source": [
    "Полученное p_value сильно больше любого допустимого уровня значимости (p = 0.05 в нашем случае) -> Нет оснований отклонить гипотезу о нормальности распределения"
   ]
  },
  {
   "cell_type": "markdown",
   "metadata": {},
   "source": [
    "**На основании произведенных расчетов и тестов можем сделать вывод, что показатель Downlink Throughput(Kbps)(средняя скорость «к абоненту»), статистически различается у ГС пользователей ответивших на второй вопрос (Q2) - 3,4 (3: Плохое качество связи в зданиях, тц и т.д. 4: Медленный мобильный интернет) и пользователей, ответивших на первый вопрос (Q1) - 9,10**\n",
    "\n",
    "**Так как данный показатель, не отличается внутри групп пользователей ответивших на Q2 - 3 и 4, но статистически различается также между вышеуказанной обобщенной группой и пользователями, полностью довольными качеством связи (у пользователей данной группы значимо выше), можем сделать вывод, что данный показатель влияет на удовлетворённость клиентов и ресурсы на работу с ним направить нужно.**"
   ]
  },
  {
   "cell_type": "code",
   "execution_count": null,
   "metadata": {},
   "outputs": [],
   "source": []
  },
  {
   "cell_type": "code",
   "execution_count": null,
   "metadata": {},
   "outputs": [],
   "source": []
  },
  {
   "cell_type": "code",
   "execution_count": null,
   "metadata": {},
   "outputs": [],
   "source": []
  },
  {
   "cell_type": "markdown",
   "metadata": {},
   "source": [
    "### Итоги работы. ###"
   ]
  },
  {
   "cell_type": "markdown",
   "metadata": {},
   "source": [
    "**В ходе исследования были рассмотрены следующие вопросы и сделаны выводы:**\n",
    "\n",
    "**1) На основании имеющихся данных какое самое вероятное значение доли пользователей, которые полностью довольны качеством связи, и доля пользователей, которые неудовлетворены качеством связи? Каковы доверительные интервалы для этих долей?**\n",
    "\n",
    "Рассмотрение данного показателя позволяет оценить общую картину исследования, а также удовлетворенности услугами компании \"Мегафон\" с целью дальнейшего анализа конкретных групп и показателей.\n",
    "\n",
    "С вероятностью в 95% доля пользователей полностью удовлетворенными качеством связи компании 'Мегафон' лежит в промежутке (0.3375; 0.3714), доля пользоваталей неудовлетворенными качеством связи лежит в промежутке (0.6286; 0.6625).\n",
    "\n",
    "Делаем вывод, что примерно 2/3 пользователей указали на проблемы со связью, следовательно нужно подробнее разбирать группы пользователей, отвечавших на второй вопрос Q2.\n",
    "\n",
    "**2) Оценка долей пользователей, которые указали на проблемы по связью (ответы: 1,2,3 на второй вопрос; 1. Недозвоны, обрывы при звонках; 2. Время ожидания гудков при звонке; 3. Плохое качество связи в зданиях, тц и т.д.), относительно всех пользователей**\n",
    "\n",
    "Рассмотрение данного показателя в первую очередь важно, т.к. компания специализуруется на услугах голосовой связи и большинство пользователей указали на проблему именно с данной составляющей бизнеса.\n",
    "\n",
    "С вероятностью в 95% доля пользователей, которые указали на проблемы по связью (ответы: 1,2,3; на второй вопрос), относительно всех пользователей компании 'Мегафон' лежит в промежутке (0.3194, 0.3529).\n",
    "\n",
    "Как мы видим, проблема довольная распространенная, поэтому следут подробнее исследовать показатели качества связи.\n",
    "\n",
    "На основании дополнительной информации предполагается, что показатели Downlink TCP Retransmission Rate(%) и Downlink Throughput(Kbps) влияют на качество голосовой связи, поэтому далее рассматриваются гипотезы отностительно данных параметров.\n",
    "\n",
    "**3) Верно ли, что для групп A и B зсредние значения показателя Downlink TCP Retransmission Rate(%) — частота переотправок пакетов «к абоненту» статистически достоверно различаются?**\n",
    "\n",
    "Рассматривались следующие группы: Группа A - пользователи, ответившие на второй вопрос (Q2) - 1,2,3: 1. Недозвоны, обрывы при звонках; 2. Время ожидания гудков при звонке; 3. Плохое качество связи в зданиях, тц и т.д Группа B - пользователи, ответившие на первый вопрос (Q1) - 9, 10 (отличное качество связи).\n",
    "\n",
    "На основании произведенных расчетов и тестов можем сделать вывод, что показатель Downlink TCP Retransmission Rate(%) — частота переотправок пакетов «к абоненту», статистически различается (значимо больше у пользователей рассматриваемой группы A (Q2-1,2,3) ГС, чем у пользоваталей, довольных качеством).\n",
    "\n",
    "В случае рассматриваемого показателя, считается, что чем выше значение, тем хуже. Если в канале возникает ошибка, пакет переотправляется. Снижается полезная скорость.\n",
    "\n",
    "**4) Верно ли, что для групп A и B средние значения показателя Downlink Throughput(Kbps) (средняя скорость «к абоненту») статистически достоверно различаются?**\n",
    "\n",
    "Рассматривались следующие группы: Группа A - пользователи, ответившие на второй вопрос (Q2) - 3: Плохое качество связи в зданиях, тц и т.д.; Группа B - пользователи, ответившие на второй вопрос (Q2) - 4: Медленный мобильный интернет.\n",
    "\n",
    "На основании произведенных расчетов и тестов можем сделать вывод, что показатель Downlink Throughput(Kbps)(средняя скорость «к абоненту»), статистически не различается у ГС рассматриваемых групп (хотя группы довольно различны), следовательно данный показатель одинаков либо плох, либо удовлетворителен (далее в работе мы это выясняем).\n",
    "\n",
    "**5) Верно ли, что для групп A и B средние значения показателя Downlink Throughput(Kbps) (средняя скорость «к абоненту») статистически достоверно различаются?**\n",
    "\n",
    "Группа A - пользователи, ответившие на второй вопрос (Q2) - 3: Плохое качество связи в зданиях, тц и т.д., 4:Медленный мобильный интернет; Группа B - пользователи, ответившие на первый вопрос (Q1) - 9,10 (полностью удовлетворенные пользователи).\n",
    "\n",
    "Данный показатель, не отличается внутри групп пользователей ответивших на Q2 - 3 и 4, однако в ходе исследования удалось выяснить, что данный показатель статистически различается также между вышеуказанной обобщенной группой и пользователями, полностью довольными качеством связи (у пользователей данной группы значимо выше, а значит - лучше).\n",
    "\n",
    "Дальнейшее исследование предполагает рассмотрение и выявление разницы в показетелях качества связи в группах, связанных с проблемами мобильного интернета/видео, качество которых о в настоящее время является не менее важным, чем качественная голосовая связь."
   ]
  }
 ],
 "metadata": {
  "kernelspec": {
   "display_name": "Python 3",
   "language": "python",
   "name": "python3"
  },
  "language_info": {
   "codemirror_mode": {
    "name": "ipython",
    "version": 3
   },
   "file_extension": ".py",
   "mimetype": "text/x-python",
   "name": "python",
   "nbconvert_exporter": "python",
   "pygments_lexer": "ipython3",
   "version": "3.7.4"
  }
 },
 "nbformat": 4,
 "nbformat_minor": 2
}
